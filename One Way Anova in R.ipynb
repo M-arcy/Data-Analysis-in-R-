{
 "cells": [
  {
   "cell_type": "code",
   "execution_count": 1,
   "id": "ba65633d",
   "metadata": {},
   "outputs": [
    {
     "name": "stderr",
     "output_type": "stream",
     "text": [
      "\n",
      "Attaching package: 'dplyr'\n",
      "\n",
      "\n",
      "The following objects are masked from 'package:stats':\n",
      "\n",
      "    filter, lag\n",
      "\n",
      "\n",
      "The following objects are masked from 'package:base':\n",
      "\n",
      "    intersect, setdiff, setequal, union\n",
      "\n",
      "\n",
      "Loading required package: carData\n",
      "\n",
      "\n",
      "Attaching package: 'car'\n",
      "\n",
      "\n",
      "The following object is masked from 'package:dplyr':\n",
      "\n",
      "    recode\n",
      "\n",
      "\n"
     ]
    }
   ],
   "source": [
    "library(\"dplyr\")\n",
    "library(\"rcompanion\")\n",
    "library(\"car\")"
   ]
  },
  {
   "cell_type": "markdown",
   "id": "45dc69dd",
   "metadata": {},
   "source": [
    "### Using the YouTube Channels dataset, determine if there is a difference in the number of views (Video.views differs between all the different grade categories (Grade). To do this, you will need to:\n",
    "\n",
    "Test for all assumptions and correct for them if necessary\n",
    "Run the appropriate ANOVA based on your assumptions\n",
    "If significant, run the appropriate post hoc based on your assumptions\n",
    "Interpret your results\n",
    "Then write an overall, one-sentence conclusion about this data analysis."
   ]
  },
  {
   "cell_type": "code",
   "execution_count": 2,
   "id": "b1d452ea",
   "metadata": {},
   "outputs": [],
   "source": [
    "YouTubeChannels <- read.csv(\"C:/Users/Marcy/Documents/Entity Coursework/DSO 105 Basic Stats in Python/Lesson 4/YouTubeChannels.csv\")"
   ]
  },
  {
   "cell_type": "code",
   "execution_count": 3,
   "id": "2964b821",
   "metadata": {},
   "outputs": [
    {
     "data": {
      "text/html": [
       "<table class=\"dataframe\">\n",
       "<caption>A data.frame: 6 × 6</caption>\n",
       "<thead>\n",
       "\t<tr><th></th><th scope=col>Rank</th><th scope=col>Grade</th><th scope=col>Channel.name</th><th scope=col>Video.Uploads</th><th scope=col>Subscribers</th><th scope=col>Video.views</th></tr>\n",
       "\t<tr><th></th><th scope=col>&lt;chr&gt;</th><th scope=col>&lt;chr&gt;</th><th scope=col>&lt;chr&gt;</th><th scope=col>&lt;chr&gt;</th><th scope=col>&lt;chr&gt;</th><th scope=col>&lt;dbl&gt;</th></tr>\n",
       "</thead>\n",
       "<tbody>\n",
       "\t<tr><th scope=row>1</th><td>1st</td><td>A++ </td><td>Zee TV                    </td><td>82757</td><td>18752951</td><td>20869786591</td></tr>\n",
       "\t<tr><th scope=row>2</th><td>2nd</td><td>A++ </td><td>T-Series                  </td><td>12661</td><td>61196302</td><td>47548839843</td></tr>\n",
       "\t<tr><th scope=row>3</th><td>3rd</td><td>A++ </td><td>Cocomelon - Nursery Rhymes</td><td>373  </td><td>19238251</td><td> 9793305082</td></tr>\n",
       "\t<tr><th scope=row>4</th><td>4th</td><td>A++ </td><td>SET India                 </td><td>27323</td><td>31180559</td><td>22675948293</td></tr>\n",
       "\t<tr><th scope=row>5</th><td>5th</td><td>A++ </td><td>WWE                       </td><td>36756</td><td>32852346</td><td>26273668433</td></tr>\n",
       "\t<tr><th scope=row>6</th><td>6th</td><td>A++ </td><td>Movieclips                </td><td>30243</td><td>17149705</td><td>16618094724</td></tr>\n",
       "</tbody>\n",
       "</table>\n"
      ],
      "text/latex": [
       "A data.frame: 6 × 6\n",
       "\\begin{tabular}{r|llllll}\n",
       "  & Rank & Grade & Channel.name & Video.Uploads & Subscribers & Video.views\\\\\n",
       "  & <chr> & <chr> & <chr> & <chr> & <chr> & <dbl>\\\\\n",
       "\\hline\n",
       "\t1 & 1st & A++  & Zee TV                     & 82757 & 18752951 & 20869786591\\\\\n",
       "\t2 & 2nd & A++  & T-Series                   & 12661 & 61196302 & 47548839843\\\\\n",
       "\t3 & 3rd & A++  & Cocomelon - Nursery Rhymes & 373   & 19238251 &  9793305082\\\\\n",
       "\t4 & 4th & A++  & SET India                  & 27323 & 31180559 & 22675948293\\\\\n",
       "\t5 & 5th & A++  & WWE                        & 36756 & 32852346 & 26273668433\\\\\n",
       "\t6 & 6th & A++  & Movieclips                 & 30243 & 17149705 & 16618094724\\\\\n",
       "\\end{tabular}\n"
      ],
      "text/markdown": [
       "\n",
       "A data.frame: 6 × 6\n",
       "\n",
       "| <!--/--> | Rank &lt;chr&gt; | Grade &lt;chr&gt; | Channel.name &lt;chr&gt; | Video.Uploads &lt;chr&gt; | Subscribers &lt;chr&gt; | Video.views &lt;dbl&gt; |\n",
       "|---|---|---|---|---|---|---|\n",
       "| 1 | 1st | A++  | Zee TV                     | 82757 | 18752951 | 20869786591 |\n",
       "| 2 | 2nd | A++  | T-Series                   | 12661 | 61196302 | 47548839843 |\n",
       "| 3 | 3rd | A++  | Cocomelon - Nursery Rhymes | 373   | 19238251 |  9793305082 |\n",
       "| 4 | 4th | A++  | SET India                  | 27323 | 31180559 | 22675948293 |\n",
       "| 5 | 5th | A++  | WWE                        | 36756 | 32852346 | 26273668433 |\n",
       "| 6 | 6th | A++  | Movieclips                 | 30243 | 17149705 | 16618094724 |\n",
       "\n"
      ],
      "text/plain": [
       "  Rank Grade Channel.name               Video.Uploads Subscribers Video.views\n",
       "1 1st  A++   Zee TV                     82757         18752951    20869786591\n",
       "2 2nd  A++   T-Series                   12661         61196302    47548839843\n",
       "3 3rd  A++   Cocomelon - Nursery Rhymes 373           19238251     9793305082\n",
       "4 4th  A++   SET India                  27323         31180559    22675948293\n",
       "5 5th  A++   WWE                        36756         32852346    26273668433\n",
       "6 6th  A++   Movieclips                 30243         17149705    16618094724"
      ]
     },
     "metadata": {},
     "output_type": "display_data"
    }
   ],
   "source": [
    "head(YouTubeChannels)"
   ]
  },
  {
   "cell_type": "code",
   "execution_count": 5,
   "id": "7bc19b0b",
   "metadata": {},
   "outputs": [
    {
     "data": {
      "image/png": "[encoded data removed]",
      "text/plain": [
       "Plot with title \"\""
      ]
     },
     "metadata": {
      "image/png": {
       "height": 420,
       "width": 420
      }
     },
     "output_type": "display_data"
    }
   ],
   "source": [
    "plotNormalHistogram(YouTubeChannels$Video.views)"
   ]
  },
  {
   "cell_type": "code",
   "execution_count": 6,
   "id": "dbc9c655",
   "metadata": {},
   "outputs": [
    {
     "data": {
      "image/png": "[encoded data removed]",
      "text/plain": [
       "Plot with title \"\""
      ]
     },
     "metadata": {
      "image/png": {
       "height": 420,
       "width": 420
      }
     },
     "output_type": "display_data"
    }
   ],
   "source": [
    "YouTubeChannels$Video.viewsSQRT <- sqrt(YouTubeChannels$Video.views)\n",
    "plotNormalHistogram(YouTubeChannels$Video.viewsSQRT)"
   ]
  },
  {
   "cell_type": "markdown",
   "id": "9151f1ae",
   "metadata": {},
   "source": [
    "#### Log just in case"
   ]
  },
  {
   "cell_type": "code",
   "execution_count": 7,
   "id": "68521b74",
   "metadata": {},
   "outputs": [
    {
     "data": {
      "image/png": "[encoded data removed]",
      "text/plain": [
       "Plot with title \"\""
      ]
     },
     "metadata": {
      "image/png": {
       "height": 420,
       "width": 420
      }
     },
     "output_type": "display_data"
    }
   ],
   "source": [
    "YouTubeChannels$Video.viewsLOG <- log(YouTubeChannels$Video.views)\n",
    "plotNormalHistogram(YouTubeChannels$Video.viewsLOG)"
   ]
  },
  {
   "cell_type": "markdown",
   "id": "399f1df3",
   "metadata": {},
   "source": [
    "#### too far"
   ]
  },
  {
   "cell_type": "markdown",
   "id": "9096cd55",
   "metadata": {},
   "source": [
    "#### Honogeneity of Variance"
   ]
  },
  {
   "cell_type": "code",
   "execution_count": 8,
   "id": "228bbae0",
   "metadata": {},
   "outputs": [
    {
     "data": {
      "text/plain": [
       "\n",
       "\tBartlett test of homogeneity of variances\n",
       "\n",
       "data:  Video.viewsSQRT by Grade\n",
       "Bartlett's K-squared = 1107.1, df = 5, p-value < 2.2e-16\n"
      ]
     },
     "metadata": {},
     "output_type": "display_data"
    }
   ],
   "source": [
    "bartlett.test(Video.viewsSQRT ~ Grade, data=YouTubeChannels)"
   ]
  },
  {
   "cell_type": "markdown",
   "id": "9f8f4e4d",
   "metadata": {},
   "source": [
    "#### does not meet. try unequal variance"
   ]
  },
  {
   "cell_type": "code",
   "execution_count": 9,
   "id": "e9f95bb4",
   "metadata": {},
   "outputs": [
    {
     "name": "stderr",
     "output_type": "stream",
     "text": [
      "Coefficient covariances computed by hccm()\n",
      "\n"
     ]
    },
    {
     "data": {
      "text/html": [
       "<table class=\"dataframe\">\n",
       "<caption>A anova: 2 × 3</caption>\n",
       "<thead>\n",
       "\t<tr><th></th><th scope=col>Df</th><th scope=col>F</th><th scope=col>Pr(&gt;F)</th></tr>\n",
       "\t<tr><th></th><th scope=col>&lt;dbl&gt;</th><th scope=col>&lt;dbl&gt;</th><th scope=col>&lt;dbl&gt;</th></tr>\n",
       "</thead>\n",
       "<tbody>\n",
       "\t<tr><th scope=row>Grade</th><td>   5</td><td>215.9149</td><td>4.112783e-209</td></tr>\n",
       "\t<tr><th scope=row>Residuals</th><td>4994</td><td>      NA</td><td>           NA</td></tr>\n",
       "</tbody>\n",
       "</table>\n"
      ],
      "text/latex": [
       "A anova: 2 × 3\n",
       "\\begin{tabular}{r|lll}\n",
       "  & Df & F & Pr(>F)\\\\\n",
       "  & <dbl> & <dbl> & <dbl>\\\\\n",
       "\\hline\n",
       "\tGrade &    5 & 215.9149 & 4.112783e-209\\\\\n",
       "\tResiduals & 4994 &       NA &            NA\\\\\n",
       "\\end{tabular}\n"
      ],
      "text/markdown": [
       "\n",
       "A anova: 2 × 3\n",
       "\n",
       "| <!--/--> | Df &lt;dbl&gt; | F &lt;dbl&gt; | Pr(&gt;F) &lt;dbl&gt; |\n",
       "|---|---|---|---|\n",
       "| Grade |    5 | 215.9149 | 4.112783e-209 |\n",
       "| Residuals | 4994 |       NA |            NA |\n",
       "\n"
      ],
      "text/plain": [
       "          Df   F        Pr(>F)       \n",
       "Grade        5 215.9149 4.112783e-209\n",
       "Residuals 4994       NA            NA"
      ]
     },
     "metadata": {},
     "output_type": "display_data"
    }
   ],
   "source": [
    "ANOVA1 <- lm(Video.viewsSQRT ~ Grade, data=YouTubeChannels)\n",
    "Anova(ANOVA1, Type=\"II\", white.adjust=TRUE)"
   ]
  },
  {
   "cell_type": "markdown",
   "id": "cb70d8b3",
   "metadata": {},
   "source": [
    "#### post hocs"
   ]
  },
  {
   "cell_type": "code",
   "execution_count": 10,
   "id": "72abea96",
   "metadata": {},
   "outputs": [
    {
     "data": {
      "text/plain": [
       "\n",
       "\tPairwise comparisons using t tests with non-pooled SD \n",
       "\n",
       "data:  YouTubeChannels$Video.viewsSQRT and YouTubeChannels$Grade \n",
       "\n",
       "     A-      A       Â       A+      A++    \n",
       "A    < 2e-16 -       -       -       -      \n",
       "Â    0.00146 1.7e-05 -       -       -      \n",
       "A+   2.2e-09 1.9e-05 8.9e-14 -       -      \n",
       "A++  0.00029 0.00084 6.8e-05 0.00874 -      \n",
       "B+   < 2e-16 < 2e-16 0.03203 2.1e-11 0.00017\n",
       "\n",
       "P value adjustment method: bonferroni "
      ]
     },
     "metadata": {},
     "output_type": "display_data"
    }
   ],
   "source": [
    "pairwise.t.test(YouTubeChannels$Video.viewsSQRT, YouTubeChannels$Grade, p.adjust=\"bonferroni\", pool.sd = FALSE)\n"
   ]
  },
  {
   "cell_type": "markdown",
   "id": "cbe4c537",
   "metadata": {},
   "source": [
    "#### all grades differ significantly - with higher grades getting more views."
   ]
  },
  {
   "cell_type": "code",
   "execution_count": null,
   "id": "44abb493",
   "metadata": {},
   "outputs": [],
   "source": []
  }
 ],
 "metadata": {
  "kernelspec": {
   "display_name": "R",
   "language": "R",
   "name": "ir"
  },
  "language_info": {
   "codemirror_mode": "r",
   "file_extension": ".r",
   "mimetype": "text/x-r-source",
   "name": "R",
   "pygments_lexer": "r",
   "version": "4.1.1"
  }
 },
 "nbformat": 4,
 "nbformat_minor": 5
}
