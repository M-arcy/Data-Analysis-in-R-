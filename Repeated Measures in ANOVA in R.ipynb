{
 "cells": [
  {
   "cell_type": "code",
   "execution_count": 1,
   "id": "daf9c0dc",
   "metadata": {},
   "outputs": [
    {
     "name": "stderr",
     "output_type": "stream",
     "text": [
      "Loading required package: carData\n",
      "\n",
      "Loading required package: mosaic\n",
      "\n",
      "Registered S3 method overwritten by 'mosaic':\n",
      "  method                           from   \n",
      "  fortify.SpatialPolygonsDataFrame ggplot2\n",
      "\n",
      "\n",
      "The 'mosaic' package masks several functions from core packages in order to add \n",
      "additional features.  The original behavior of these functions should not be affected by this.\n",
      "\n",
      "\n",
      "Attaching package: 'mosaic'\n",
      "\n",
      "\n",
      "The following objects are masked from 'package:dplyr':\n",
      "\n",
      "    count, do, tally\n",
      "\n",
      "\n",
      "The following object is masked from 'package:Matrix':\n",
      "\n",
      "    mean\n",
      "\n",
      "\n",
      "The following object is masked from 'package:ggplot2':\n",
      "\n",
      "    stat\n",
      "\n",
      "\n",
      "The following objects are masked from 'package:car':\n",
      "\n",
      "    deltaMethod, logit\n",
      "\n",
      "\n",
      "The following objects are masked from 'package:stats':\n",
      "\n",
      "    binom.test, cor, cor.test, cov, fivenum, IQR, median, prop.test,\n",
      "    quantile, sd, t.test, var\n",
      "\n",
      "\n",
      "The following objects are masked from 'package:base':\n",
      "\n",
      "    max, mean, min, prod, range, sample, sum\n",
      "\n",
      "\n"
     ]
    }
   ],
   "source": [
    "library(\"rcompanion\")\n",
    "library(\"car\")\n",
    "library(\"fastR2\")"
   ]
  },
  {
   "cell_type": "markdown",
   "id": "4406a568",
   "metadata": {},
   "source": [
    "Overall, regardless of whether participants ate breakfast or not, did people in this study show improvement in their resting metabolic rate?\n",
    "In order to answer this question, your x, or independent variable, will be the time factor - baseline or follow-up. Your y, or dependent variable, will be the change in resting metabolic rate from baseline to follow-up. As with all ANOVAs, the IV will be categorical, and the DV will be continuous."
   ]
  },
  {
   "cell_type": "code",
   "execution_count": 3,
   "id": "a8bebc59",
   "metadata": {},
   "outputs": [],
   "source": [
    "breakfast <- read.csv(\"breakfast.csv\")"
   ]
  },
  {
   "cell_type": "markdown",
   "id": "cff9b4b2",
   "metadata": {},
   "source": [
    "#### determine whether weight changes from baseline to follow up. In order to do this, you will need to:\n",
    "\n",
    "Wrangle the data\n",
    "Test for assumptions\n",
    "Run the analysis for repeated measures ANOVA"
   ]
  },
  {
   "cell_type": "code",
   "execution_count": 28,
   "id": "1b62d7e9",
   "metadata": {},
   "outputs": [],
   "source": [
    "breakfast1 <- breakfast[1:33,1:7]"
   ]
  },
  {
   "cell_type": "code",
   "execution_count": 29,
   "id": "c795163b",
   "metadata": {},
   "outputs": [
    {
     "data": {
      "text/html": [
       "<table class=\"dataframe\">\n",
       "<caption>A data.frame: 33 × 7</caption>\n",
       "<thead>\n",
       "\t<tr><th></th><th scope=col>Participant.Code</th><th scope=col>Treatment.Group</th><th scope=col>Age..y.</th><th scope=col>Sex</th><th scope=col>Height..m.</th><th scope=col>Baseline.Body.Mass..kg.</th><th scope=col>Follow.Up.Body.Mass..kg.</th></tr>\n",
       "\t<tr><th></th><th scope=col>&lt;int&gt;</th><th scope=col>&lt;chr&gt;</th><th scope=col>&lt;int&gt;</th><th scope=col>&lt;chr&gt;</th><th scope=col>&lt;dbl&gt;</th><th scope=col>&lt;dbl&gt;</th><th scope=col>&lt;dbl&gt;</th></tr>\n",
       "</thead>\n",
       "<tbody>\n",
       "\t<tr><th scope=row>1</th><td> 2</td><td>Fasting  </td><td>27</td><td>Female</td><td>1.75</td><td>71.5</td><td>71.1</td></tr>\n",
       "\t<tr><th scope=row>2</th><td> 4</td><td>Fasting  </td><td>25</td><td>Female</td><td>1.72</td><td>74.6</td><td>73.8</td></tr>\n",
       "\t<tr><th scope=row>3</th><td>11</td><td>Fasting  </td><td>44</td><td>Male  </td><td>1.64</td><td>68.0</td><td>68.1</td></tr>\n",
       "\t<tr><th scope=row>4</th><td>14</td><td>Fasting  </td><td>36</td><td>Female</td><td>1.68</td><td>57.0</td><td>57.3</td></tr>\n",
       "\t<tr><th scope=row>5</th><td>16</td><td>Fasting  </td><td>28</td><td>Female</td><td>1.64</td><td>49.4</td><td>49.0</td></tr>\n",
       "\t<tr><th scope=row>6</th><td>19</td><td>Fasting  </td><td>38</td><td>Male  </td><td>1.74</td><td>64.3</td><td>64.0</td></tr>\n",
       "\t<tr><th scope=row>7</th><td>20</td><td>Fasting  </td><td>48</td><td>Male  </td><td>1.78</td><td>66.5</td><td>65.2</td></tr>\n",
       "\t<tr><th scope=row>8</th><td>23</td><td>Fasting  </td><td>54</td><td>Female</td><td>1.75</td><td>73.5</td><td>72.8</td></tr>\n",
       "\t<tr><th scope=row>9</th><td>27</td><td>Fasting  </td><td>27</td><td>Female</td><td>1.63</td><td>59.0</td><td>58.3</td></tr>\n",
       "\t<tr><th scope=row>10</th><td>34</td><td>Fasting  </td><td>22</td><td>Female</td><td>1.66</td><td>67.1</td><td>65.9</td></tr>\n",
       "\t<tr><th scope=row>11</th><td>37</td><td>Fasting  </td><td>35</td><td>Male  </td><td>1.77</td><td>69.7</td><td>68.4</td></tr>\n",
       "\t<tr><th scope=row>12</th><td>41</td><td>Fasting  </td><td>25</td><td>Female</td><td>1.62</td><td>61.2</td><td>62.1</td></tr>\n",
       "\t<tr><th scope=row>13</th><td>42</td><td>Fasting  </td><td>52</td><td>Female</td><td>1.72</td><td>72.3</td><td>70.7</td></tr>\n",
       "\t<tr><th scope=row>14</th><td>50</td><td>Fasting  </td><td>34</td><td>Male  </td><td>1.79</td><td>82.0</td><td>82.0</td></tr>\n",
       "\t<tr><th scope=row>15</th><td>53</td><td>Fasting  </td><td>22</td><td>Male  </td><td>1.83</td><td>70.1</td><td>71.0</td></tr>\n",
       "\t<tr><th scope=row>16</th><td> 3</td><td>Fasting  </td><td>47</td><td>Female</td><td>1.72</td><td>58.0</td><td>58.0</td></tr>\n",
       "\t<tr><th scope=row>17</th><td> 6</td><td>Fasting  </td><td>46</td><td>Female</td><td>1.60</td><td>65.6</td><td>64.8</td></tr>\n",
       "\t<tr><th scope=row>18</th><td> 1</td><td>Breakfast</td><td>38</td><td>Female</td><td>1.65</td><td>63.4</td><td>63.4</td></tr>\n",
       "\t<tr><th scope=row>19</th><td> 9</td><td>Breakfast</td><td>40</td><td>Female</td><td>1.76</td><td>64.6</td><td>63.5</td></tr>\n",
       "\t<tr><th scope=row>20</th><td>15</td><td>Breakfast</td><td>25</td><td>Female</td><td>1.70</td><td>54.6</td><td>55.4</td></tr>\n",
       "\t<tr><th scope=row>21</th><td>18</td><td>Breakfast</td><td>56</td><td>Female</td><td>1.65</td><td>64.4</td><td>64.4</td></tr>\n",
       "\t<tr><th scope=row>22</th><td>21</td><td>Breakfast</td><td>24</td><td>Male  </td><td>1.79</td><td>70.8</td><td>69.5</td></tr>\n",
       "\t<tr><th scope=row>23</th><td>25</td><td>Breakfast</td><td>45</td><td>Female</td><td>1.69</td><td>54.3</td><td>53.2</td></tr>\n",
       "\t<tr><th scope=row>24</th><td>29</td><td>Breakfast</td><td>31</td><td>Female</td><td>1.72</td><td>63.7</td><td>63.6</td></tr>\n",
       "\t<tr><th scope=row>25</th><td>32</td><td>Breakfast</td><td>41</td><td>Male  </td><td>1.83</td><td>66.4</td><td>64.7</td></tr>\n",
       "\t<tr><th scope=row>26</th><td>33</td><td>Breakfast</td><td>51</td><td>Female</td><td>1.82</td><td>72.1</td><td>72.2</td></tr>\n",
       "\t<tr><th scope=row>27</th><td>35</td><td>Breakfast</td><td>28</td><td>Male  </td><td>1.85</td><td>72.3</td><td>70.1</td></tr>\n",
       "\t<tr><th scope=row>28</th><td>40</td><td>Breakfast</td><td>23</td><td>Female</td><td>1.66</td><td>54.5</td><td>55.8</td></tr>\n",
       "\t<tr><th scope=row>29</th><td> 5</td><td>Breakfast</td><td>35</td><td>Female</td><td>1.62</td><td>72.5</td><td>74.5</td></tr>\n",
       "\t<tr><th scope=row>30</th><td> 7</td><td>Breakfast</td><td>45</td><td>Female</td><td>1.69</td><td>64.3</td><td>64.8</td></tr>\n",
       "\t<tr><th scope=row>31</th><td>10</td><td>Breakfast</td><td>23</td><td>Male  </td><td>1.93</td><td>83.5</td><td>82.6</td></tr>\n",
       "\t<tr><th scope=row>32</th><td>28</td><td>Breakfast</td><td>22</td><td>Male  </td><td>1.77</td><td>76.6</td><td>76.7</td></tr>\n",
       "\t<tr><th scope=row>33</th><td>36</td><td>Breakfast</td><td>48</td><td>Male  </td><td>1.80</td><td>73.6</td><td>74.1</td></tr>\n",
       "</tbody>\n",
       "</table>\n"
      ],
      "text/latex": [
       "A data.frame: 33 × 7\n",
       "\\begin{tabular}{r|lllllll}\n",
       "  & Participant.Code & Treatment.Group & Age..y. & Sex & Height..m. & Baseline.Body.Mass..kg. & Follow.Up.Body.Mass..kg.\\\\\n",
       "  & <int> & <chr> & <int> & <chr> & <dbl> & <dbl> & <dbl>\\\\\n",
       "\\hline\n",
       "\t1 &  2 & Fasting   & 27 & Female & 1.75 & 71.5 & 71.1\\\\\n",
       "\t2 &  4 & Fasting   & 25 & Female & 1.72 & 74.6 & 73.8\\\\\n",
       "\t3 & 11 & Fasting   & 44 & Male   & 1.64 & 68.0 & 68.1\\\\\n",
       "\t4 & 14 & Fasting   & 36 & Female & 1.68 & 57.0 & 57.3\\\\\n",
       "\t5 & 16 & Fasting   & 28 & Female & 1.64 & 49.4 & 49.0\\\\\n",
       "\t6 & 19 & Fasting   & 38 & Male   & 1.74 & 64.3 & 64.0\\\\\n",
       "\t7 & 20 & Fasting   & 48 & Male   & 1.78 & 66.5 & 65.2\\\\\n",
       "\t8 & 23 & Fasting   & 54 & Female & 1.75 & 73.5 & 72.8\\\\\n",
       "\t9 & 27 & Fasting   & 27 & Female & 1.63 & 59.0 & 58.3\\\\\n",
       "\t10 & 34 & Fasting   & 22 & Female & 1.66 & 67.1 & 65.9\\\\\n",
       "\t11 & 37 & Fasting   & 35 & Male   & 1.77 & 69.7 & 68.4\\\\\n",
       "\t12 & 41 & Fasting   & 25 & Female & 1.62 & 61.2 & 62.1\\\\\n",
       "\t13 & 42 & Fasting   & 52 & Female & 1.72 & 72.3 & 70.7\\\\\n",
       "\t14 & 50 & Fasting   & 34 & Male   & 1.79 & 82.0 & 82.0\\\\\n",
       "\t15 & 53 & Fasting   & 22 & Male   & 1.83 & 70.1 & 71.0\\\\\n",
       "\t16 &  3 & Fasting   & 47 & Female & 1.72 & 58.0 & 58.0\\\\\n",
       "\t17 &  6 & Fasting   & 46 & Female & 1.60 & 65.6 & 64.8\\\\\n",
       "\t18 &  1 & Breakfast & 38 & Female & 1.65 & 63.4 & 63.4\\\\\n",
       "\t19 &  9 & Breakfast & 40 & Female & 1.76 & 64.6 & 63.5\\\\\n",
       "\t20 & 15 & Breakfast & 25 & Female & 1.70 & 54.6 & 55.4\\\\\n",
       "\t21 & 18 & Breakfast & 56 & Female & 1.65 & 64.4 & 64.4\\\\\n",
       "\t22 & 21 & Breakfast & 24 & Male   & 1.79 & 70.8 & 69.5\\\\\n",
       "\t23 & 25 & Breakfast & 45 & Female & 1.69 & 54.3 & 53.2\\\\\n",
       "\t24 & 29 & Breakfast & 31 & Female & 1.72 & 63.7 & 63.6\\\\\n",
       "\t25 & 32 & Breakfast & 41 & Male   & 1.83 & 66.4 & 64.7\\\\\n",
       "\t26 & 33 & Breakfast & 51 & Female & 1.82 & 72.1 & 72.2\\\\\n",
       "\t27 & 35 & Breakfast & 28 & Male   & 1.85 & 72.3 & 70.1\\\\\n",
       "\t28 & 40 & Breakfast & 23 & Female & 1.66 & 54.5 & 55.8\\\\\n",
       "\t29 &  5 & Breakfast & 35 & Female & 1.62 & 72.5 & 74.5\\\\\n",
       "\t30 &  7 & Breakfast & 45 & Female & 1.69 & 64.3 & 64.8\\\\\n",
       "\t31 & 10 & Breakfast & 23 & Male   & 1.93 & 83.5 & 82.6\\\\\n",
       "\t32 & 28 & Breakfast & 22 & Male   & 1.77 & 76.6 & 76.7\\\\\n",
       "\t33 & 36 & Breakfast & 48 & Male   & 1.80 & 73.6 & 74.1\\\\\n",
       "\\end{tabular}\n"
      ],
      "text/markdown": [
       "\n",
       "A data.frame: 33 × 7\n",
       "\n",
       "| <!--/--> | Participant.Code &lt;int&gt; | Treatment.Group &lt;chr&gt; | Age..y. &lt;int&gt; | Sex &lt;chr&gt; | Height..m. &lt;dbl&gt; | Baseline.Body.Mass..kg. &lt;dbl&gt; | Follow.Up.Body.Mass..kg. &lt;dbl&gt; |\n",
       "|---|---|---|---|---|---|---|---|\n",
       "| 1 |  2 | Fasting   | 27 | Female | 1.75 | 71.5 | 71.1 |\n",
       "| 2 |  4 | Fasting   | 25 | Female | 1.72 | 74.6 | 73.8 |\n",
       "| 3 | 11 | Fasting   | 44 | Male   | 1.64 | 68.0 | 68.1 |\n",
       "| 4 | 14 | Fasting   | 36 | Female | 1.68 | 57.0 | 57.3 |\n",
       "| 5 | 16 | Fasting   | 28 | Female | 1.64 | 49.4 | 49.0 |\n",
       "| 6 | 19 | Fasting   | 38 | Male   | 1.74 | 64.3 | 64.0 |\n",
       "| 7 | 20 | Fasting   | 48 | Male   | 1.78 | 66.5 | 65.2 |\n",
       "| 8 | 23 | Fasting   | 54 | Female | 1.75 | 73.5 | 72.8 |\n",
       "| 9 | 27 | Fasting   | 27 | Female | 1.63 | 59.0 | 58.3 |\n",
       "| 10 | 34 | Fasting   | 22 | Female | 1.66 | 67.1 | 65.9 |\n",
       "| 11 | 37 | Fasting   | 35 | Male   | 1.77 | 69.7 | 68.4 |\n",
       "| 12 | 41 | Fasting   | 25 | Female | 1.62 | 61.2 | 62.1 |\n",
       "| 13 | 42 | Fasting   | 52 | Female | 1.72 | 72.3 | 70.7 |\n",
       "| 14 | 50 | Fasting   | 34 | Male   | 1.79 | 82.0 | 82.0 |\n",
       "| 15 | 53 | Fasting   | 22 | Male   | 1.83 | 70.1 | 71.0 |\n",
       "| 16 |  3 | Fasting   | 47 | Female | 1.72 | 58.0 | 58.0 |\n",
       "| 17 |  6 | Fasting   | 46 | Female | 1.60 | 65.6 | 64.8 |\n",
       "| 18 |  1 | Breakfast | 38 | Female | 1.65 | 63.4 | 63.4 |\n",
       "| 19 |  9 | Breakfast | 40 | Female | 1.76 | 64.6 | 63.5 |\n",
       "| 20 | 15 | Breakfast | 25 | Female | 1.70 | 54.6 | 55.4 |\n",
       "| 21 | 18 | Breakfast | 56 | Female | 1.65 | 64.4 | 64.4 |\n",
       "| 22 | 21 | Breakfast | 24 | Male   | 1.79 | 70.8 | 69.5 |\n",
       "| 23 | 25 | Breakfast | 45 | Female | 1.69 | 54.3 | 53.2 |\n",
       "| 24 | 29 | Breakfast | 31 | Female | 1.72 | 63.7 | 63.6 |\n",
       "| 25 | 32 | Breakfast | 41 | Male   | 1.83 | 66.4 | 64.7 |\n",
       "| 26 | 33 | Breakfast | 51 | Female | 1.82 | 72.1 | 72.2 |\n",
       "| 27 | 35 | Breakfast | 28 | Male   | 1.85 | 72.3 | 70.1 |\n",
       "| 28 | 40 | Breakfast | 23 | Female | 1.66 | 54.5 | 55.8 |\n",
       "| 29 |  5 | Breakfast | 35 | Female | 1.62 | 72.5 | 74.5 |\n",
       "| 30 |  7 | Breakfast | 45 | Female | 1.69 | 64.3 | 64.8 |\n",
       "| 31 | 10 | Breakfast | 23 | Male   | 1.93 | 83.5 | 82.6 |\n",
       "| 32 | 28 | Breakfast | 22 | Male   | 1.77 | 76.6 | 76.7 |\n",
       "| 33 | 36 | Breakfast | 48 | Male   | 1.80 | 73.6 | 74.1 |\n",
       "\n"
      ],
      "text/plain": [
       "   Participant.Code Treatment.Group Age..y. Sex    Height..m.\n",
       "1   2               Fasting         27      Female 1.75      \n",
       "2   4               Fasting         25      Female 1.72      \n",
       "3  11               Fasting         44      Male   1.64      \n",
       "4  14               Fasting         36      Female 1.68      \n",
       "5  16               Fasting         28      Female 1.64      \n",
       "6  19               Fasting         38      Male   1.74      \n",
       "7  20               Fasting         48      Male   1.78      \n",
       "8  23               Fasting         54      Female 1.75      \n",
       "9  27               Fasting         27      Female 1.63      \n",
       "10 34               Fasting         22      Female 1.66      \n",
       "11 37               Fasting         35      Male   1.77      \n",
       "12 41               Fasting         25      Female 1.62      \n",
       "13 42               Fasting         52      Female 1.72      \n",
       "14 50               Fasting         34      Male   1.79      \n",
       "15 53               Fasting         22      Male   1.83      \n",
       "16  3               Fasting         47      Female 1.72      \n",
       "17  6               Fasting         46      Female 1.60      \n",
       "18  1               Breakfast       38      Female 1.65      \n",
       "19  9               Breakfast       40      Female 1.76      \n",
       "20 15               Breakfast       25      Female 1.70      \n",
       "21 18               Breakfast       56      Female 1.65      \n",
       "22 21               Breakfast       24      Male   1.79      \n",
       "23 25               Breakfast       45      Female 1.69      \n",
       "24 29               Breakfast       31      Female 1.72      \n",
       "25 32               Breakfast       41      Male   1.83      \n",
       "26 33               Breakfast       51      Female 1.82      \n",
       "27 35               Breakfast       28      Male   1.85      \n",
       "28 40               Breakfast       23      Female 1.66      \n",
       "29  5               Breakfast       35      Female 1.62      \n",
       "30  7               Breakfast       45      Female 1.69      \n",
       "31 10               Breakfast       23      Male   1.93      \n",
       "32 28               Breakfast       22      Male   1.77      \n",
       "33 36               Breakfast       48      Male   1.80      \n",
       "   Baseline.Body.Mass..kg. Follow.Up.Body.Mass..kg.\n",
       "1  71.5                    71.1                    \n",
       "2  74.6                    73.8                    \n",
       "3  68.0                    68.1                    \n",
       "4  57.0                    57.3                    \n",
       "5  49.4                    49.0                    \n",
       "6  64.3                    64.0                    \n",
       "7  66.5                    65.2                    \n",
       "8  73.5                    72.8                    \n",
       "9  59.0                    58.3                    \n",
       "10 67.1                    65.9                    \n",
       "11 69.7                    68.4                    \n",
       "12 61.2                    62.1                    \n",
       "13 72.3                    70.7                    \n",
       "14 82.0                    82.0                    \n",
       "15 70.1                    71.0                    \n",
       "16 58.0                    58.0                    \n",
       "17 65.6                    64.8                    \n",
       "18 63.4                    63.4                    \n",
       "19 64.6                    63.5                    \n",
       "20 54.6                    55.4                    \n",
       "21 64.4                    64.4                    \n",
       "22 70.8                    69.5                    \n",
       "23 54.3                    53.2                    \n",
       "24 63.7                    63.6                    \n",
       "25 66.4                    64.7                    \n",
       "26 72.1                    72.2                    \n",
       "27 72.3                    70.1                    \n",
       "28 54.5                    55.8                    \n",
       "29 72.5                    74.5                    \n",
       "30 64.3                    64.8                    \n",
       "31 83.5                    82.6                    \n",
       "32 76.6                    76.7                    \n",
       "33 73.6                    74.1                    "
      ]
     },
     "metadata": {},
     "output_type": "display_data"
    }
   ],
   "source": [
    "breakfast1"
   ]
  },
  {
   "cell_type": "code",
   "execution_count": 30,
   "id": "220a4663",
   "metadata": {},
   "outputs": [
    {
     "data": {
      "text/html": [
       "<style>\n",
       ".list-inline {list-style: none; margin:0; padding: 0}\n",
       ".list-inline>li {display: inline-block}\n",
       ".list-inline>li:not(:last-child)::after {content: \"\\00b7\"; padding: 0 .5ex}\n",
       "</style>\n",
       "<ol class=list-inline><li>'Participant.Code'</li><li>'Treatment.Group'</li><li>'Age..y.'</li><li>'Sex'</li><li>'Height..m.'</li><li>'Baseline.Body.Mass..kg.'</li><li>'Follow.Up.Body.Mass..kg.'</li></ol>\n"
      ],
      "text/latex": [
       "\\begin{enumerate*}\n",
       "\\item 'Participant.Code'\n",
       "\\item 'Treatment.Group'\n",
       "\\item 'Age..y.'\n",
       "\\item 'Sex'\n",
       "\\item 'Height..m.'\n",
       "\\item 'Baseline.Body.Mass..kg.'\n",
       "\\item 'Follow.Up.Body.Mass..kg.'\n",
       "\\end{enumerate*}\n"
      ],
      "text/markdown": [
       "1. 'Participant.Code'\n",
       "2. 'Treatment.Group'\n",
       "3. 'Age..y.'\n",
       "4. 'Sex'\n",
       "5. 'Height..m.'\n",
       "6. 'Baseline.Body.Mass..kg.'\n",
       "7. 'Follow.Up.Body.Mass..kg.'\n",
       "\n",
       "\n"
      ],
      "text/plain": [
       "[1] \"Participant.Code\"         \"Treatment.Group\"         \n",
       "[3] \"Age..y.\"                  \"Sex\"                     \n",
       "[5] \"Height..m.\"               \"Baseline.Body.Mass..kg.\" \n",
       "[7] \"Follow.Up.Body.Mass..kg.\""
      ]
     },
     "metadata": {},
     "output_type": "display_data"
    }
   ],
   "source": [
    "colnames(breakfast1)"
   ]
  },
  {
   "cell_type": "code",
   "execution_count": 31,
   "id": "37a5b830",
   "metadata": {},
   "outputs": [],
   "source": [
    "keeps <- c(\"Participant.Code\", \"Treatment.Group\", \"Age..y.\", \"Sex\", \"Height..m.\", 'Baseline.Body.Mass..kg.','Follow.Up.Body.Mass..kg.')\n",
    "breakfast2 <- breakfast1[keeps]"
   ]
  },
  {
   "cell_type": "markdown",
   "id": "3f76c283",
   "metadata": {},
   "source": [
    "#### reshaping data"
   ]
  },
  {
   "cell_type": "code",
   "execution_count": 32,
   "id": "c6e9c7b5",
   "metadata": {},
   "outputs": [],
   "source": [
    "breakfast3 <- breakfast2[,1:5]\n",
    "breakfast3$repdat <- breakfast2$Baseline.Body.Mass..kg.\n",
    "breakfast3$contrasts <- \"T1\"\n"
   ]
  },
  {
   "cell_type": "markdown",
   "id": "64e0734c",
   "metadata": {},
   "source": [
    "#### now the follow up measure"
   ]
  },
  {
   "cell_type": "code",
   "execution_count": 33,
   "id": "dab089c6",
   "metadata": {},
   "outputs": [],
   "source": [
    "breakfast4 <- breakfast2[,1:5]\n",
    "breakfast4$repdat <- breakfast2$Follow.Up.Body.Mass..kg.\n",
    "breakfast4$contrasts <- \"T2\""
   ]
  },
  {
   "cell_type": "markdown",
   "id": "93b7d57a",
   "metadata": {},
   "source": [
    "#### put them back into one dataset"
   ]
  },
  {
   "cell_type": "code",
   "execution_count": 34,
   "id": "30ff105e",
   "metadata": {},
   "outputs": [],
   "source": [
    "breakfast5 <- rbind(breakfast3, breakfast4)\n"
   ]
  },
  {
   "cell_type": "code",
   "execution_count": 35,
   "id": "041e8c0b",
   "metadata": {},
   "outputs": [
    {
     "data": {
      "text/html": [
       "<table class=\"dataframe\">\n",
       "<caption>A data.frame: 66 × 7</caption>\n",
       "<thead>\n",
       "\t<tr><th scope=col>Participant.Code</th><th scope=col>Treatment.Group</th><th scope=col>Age..y.</th><th scope=col>Sex</th><th scope=col>Height..m.</th><th scope=col>repdat</th><th scope=col>contrasts</th></tr>\n",
       "\t<tr><th scope=col>&lt;int&gt;</th><th scope=col>&lt;chr&gt;</th><th scope=col>&lt;int&gt;</th><th scope=col>&lt;chr&gt;</th><th scope=col>&lt;dbl&gt;</th><th scope=col>&lt;dbl&gt;</th><th scope=col>&lt;chr&gt;</th></tr>\n",
       "</thead>\n",
       "<tbody>\n",
       "\t<tr><td> 2</td><td>Fasting  </td><td>27</td><td>Female</td><td>1.75</td><td>71.5</td><td>T1</td></tr>\n",
       "\t<tr><td> 4</td><td>Fasting  </td><td>25</td><td>Female</td><td>1.72</td><td>74.6</td><td>T1</td></tr>\n",
       "\t<tr><td>11</td><td>Fasting  </td><td>44</td><td>Male  </td><td>1.64</td><td>68.0</td><td>T1</td></tr>\n",
       "\t<tr><td>14</td><td>Fasting  </td><td>36</td><td>Female</td><td>1.68</td><td>57.0</td><td>T1</td></tr>\n",
       "\t<tr><td>16</td><td>Fasting  </td><td>28</td><td>Female</td><td>1.64</td><td>49.4</td><td>T1</td></tr>\n",
       "\t<tr><td>19</td><td>Fasting  </td><td>38</td><td>Male  </td><td>1.74</td><td>64.3</td><td>T1</td></tr>\n",
       "\t<tr><td>20</td><td>Fasting  </td><td>48</td><td>Male  </td><td>1.78</td><td>66.5</td><td>T1</td></tr>\n",
       "\t<tr><td>23</td><td>Fasting  </td><td>54</td><td>Female</td><td>1.75</td><td>73.5</td><td>T1</td></tr>\n",
       "\t<tr><td>27</td><td>Fasting  </td><td>27</td><td>Female</td><td>1.63</td><td>59.0</td><td>T1</td></tr>\n",
       "\t<tr><td>34</td><td>Fasting  </td><td>22</td><td>Female</td><td>1.66</td><td>67.1</td><td>T1</td></tr>\n",
       "\t<tr><td>37</td><td>Fasting  </td><td>35</td><td>Male  </td><td>1.77</td><td>69.7</td><td>T1</td></tr>\n",
       "\t<tr><td>41</td><td>Fasting  </td><td>25</td><td>Female</td><td>1.62</td><td>61.2</td><td>T1</td></tr>\n",
       "\t<tr><td>42</td><td>Fasting  </td><td>52</td><td>Female</td><td>1.72</td><td>72.3</td><td>T1</td></tr>\n",
       "\t<tr><td>50</td><td>Fasting  </td><td>34</td><td>Male  </td><td>1.79</td><td>82.0</td><td>T1</td></tr>\n",
       "\t<tr><td>53</td><td>Fasting  </td><td>22</td><td>Male  </td><td>1.83</td><td>70.1</td><td>T1</td></tr>\n",
       "\t<tr><td> 3</td><td>Fasting  </td><td>47</td><td>Female</td><td>1.72</td><td>58.0</td><td>T1</td></tr>\n",
       "\t<tr><td> 6</td><td>Fasting  </td><td>46</td><td>Female</td><td>1.60</td><td>65.6</td><td>T1</td></tr>\n",
       "\t<tr><td> 1</td><td>Breakfast</td><td>38</td><td>Female</td><td>1.65</td><td>63.4</td><td>T1</td></tr>\n",
       "\t<tr><td> 9</td><td>Breakfast</td><td>40</td><td>Female</td><td>1.76</td><td>64.6</td><td>T1</td></tr>\n",
       "\t<tr><td>15</td><td>Breakfast</td><td>25</td><td>Female</td><td>1.70</td><td>54.6</td><td>T1</td></tr>\n",
       "\t<tr><td>18</td><td>Breakfast</td><td>56</td><td>Female</td><td>1.65</td><td>64.4</td><td>T1</td></tr>\n",
       "\t<tr><td>21</td><td>Breakfast</td><td>24</td><td>Male  </td><td>1.79</td><td>70.8</td><td>T1</td></tr>\n",
       "\t<tr><td>25</td><td>Breakfast</td><td>45</td><td>Female</td><td>1.69</td><td>54.3</td><td>T1</td></tr>\n",
       "\t<tr><td>29</td><td>Breakfast</td><td>31</td><td>Female</td><td>1.72</td><td>63.7</td><td>T1</td></tr>\n",
       "\t<tr><td>32</td><td>Breakfast</td><td>41</td><td>Male  </td><td>1.83</td><td>66.4</td><td>T1</td></tr>\n",
       "\t<tr><td>33</td><td>Breakfast</td><td>51</td><td>Female</td><td>1.82</td><td>72.1</td><td>T1</td></tr>\n",
       "\t<tr><td>35</td><td>Breakfast</td><td>28</td><td>Male  </td><td>1.85</td><td>72.3</td><td>T1</td></tr>\n",
       "\t<tr><td>40</td><td>Breakfast</td><td>23</td><td>Female</td><td>1.66</td><td>54.5</td><td>T1</td></tr>\n",
       "\t<tr><td> 5</td><td>Breakfast</td><td>35</td><td>Female</td><td>1.62</td><td>72.5</td><td>T1</td></tr>\n",
       "\t<tr><td> 7</td><td>Breakfast</td><td>45</td><td>Female</td><td>1.69</td><td>64.3</td><td>T1</td></tr>\n",
       "\t<tr><td>⋮</td><td>⋮</td><td>⋮</td><td>⋮</td><td>⋮</td><td>⋮</td><td>⋮</td></tr>\n",
       "\t<tr><td>14</td><td>Fasting  </td><td>36</td><td>Female</td><td>1.68</td><td>57.3</td><td>T2</td></tr>\n",
       "\t<tr><td>16</td><td>Fasting  </td><td>28</td><td>Female</td><td>1.64</td><td>49.0</td><td>T2</td></tr>\n",
       "\t<tr><td>19</td><td>Fasting  </td><td>38</td><td>Male  </td><td>1.74</td><td>64.0</td><td>T2</td></tr>\n",
       "\t<tr><td>20</td><td>Fasting  </td><td>48</td><td>Male  </td><td>1.78</td><td>65.2</td><td>T2</td></tr>\n",
       "\t<tr><td>23</td><td>Fasting  </td><td>54</td><td>Female</td><td>1.75</td><td>72.8</td><td>T2</td></tr>\n",
       "\t<tr><td>27</td><td>Fasting  </td><td>27</td><td>Female</td><td>1.63</td><td>58.3</td><td>T2</td></tr>\n",
       "\t<tr><td>34</td><td>Fasting  </td><td>22</td><td>Female</td><td>1.66</td><td>65.9</td><td>T2</td></tr>\n",
       "\t<tr><td>37</td><td>Fasting  </td><td>35</td><td>Male  </td><td>1.77</td><td>68.4</td><td>T2</td></tr>\n",
       "\t<tr><td>41</td><td>Fasting  </td><td>25</td><td>Female</td><td>1.62</td><td>62.1</td><td>T2</td></tr>\n",
       "\t<tr><td>42</td><td>Fasting  </td><td>52</td><td>Female</td><td>1.72</td><td>70.7</td><td>T2</td></tr>\n",
       "\t<tr><td>50</td><td>Fasting  </td><td>34</td><td>Male  </td><td>1.79</td><td>82.0</td><td>T2</td></tr>\n",
       "\t<tr><td>53</td><td>Fasting  </td><td>22</td><td>Male  </td><td>1.83</td><td>71.0</td><td>T2</td></tr>\n",
       "\t<tr><td> 3</td><td>Fasting  </td><td>47</td><td>Female</td><td>1.72</td><td>58.0</td><td>T2</td></tr>\n",
       "\t<tr><td> 6</td><td>Fasting  </td><td>46</td><td>Female</td><td>1.60</td><td>64.8</td><td>T2</td></tr>\n",
       "\t<tr><td> 1</td><td>Breakfast</td><td>38</td><td>Female</td><td>1.65</td><td>63.4</td><td>T2</td></tr>\n",
       "\t<tr><td> 9</td><td>Breakfast</td><td>40</td><td>Female</td><td>1.76</td><td>63.5</td><td>T2</td></tr>\n",
       "\t<tr><td>15</td><td>Breakfast</td><td>25</td><td>Female</td><td>1.70</td><td>55.4</td><td>T2</td></tr>\n",
       "\t<tr><td>18</td><td>Breakfast</td><td>56</td><td>Female</td><td>1.65</td><td>64.4</td><td>T2</td></tr>\n",
       "\t<tr><td>21</td><td>Breakfast</td><td>24</td><td>Male  </td><td>1.79</td><td>69.5</td><td>T2</td></tr>\n",
       "\t<tr><td>25</td><td>Breakfast</td><td>45</td><td>Female</td><td>1.69</td><td>53.2</td><td>T2</td></tr>\n",
       "\t<tr><td>29</td><td>Breakfast</td><td>31</td><td>Female</td><td>1.72</td><td>63.6</td><td>T2</td></tr>\n",
       "\t<tr><td>32</td><td>Breakfast</td><td>41</td><td>Male  </td><td>1.83</td><td>64.7</td><td>T2</td></tr>\n",
       "\t<tr><td>33</td><td>Breakfast</td><td>51</td><td>Female</td><td>1.82</td><td>72.2</td><td>T2</td></tr>\n",
       "\t<tr><td>35</td><td>Breakfast</td><td>28</td><td>Male  </td><td>1.85</td><td>70.1</td><td>T2</td></tr>\n",
       "\t<tr><td>40</td><td>Breakfast</td><td>23</td><td>Female</td><td>1.66</td><td>55.8</td><td>T2</td></tr>\n",
       "\t<tr><td> 5</td><td>Breakfast</td><td>35</td><td>Female</td><td>1.62</td><td>74.5</td><td>T2</td></tr>\n",
       "\t<tr><td> 7</td><td>Breakfast</td><td>45</td><td>Female</td><td>1.69</td><td>64.8</td><td>T2</td></tr>\n",
       "\t<tr><td>10</td><td>Breakfast</td><td>23</td><td>Male  </td><td>1.93</td><td>82.6</td><td>T2</td></tr>\n",
       "\t<tr><td>28</td><td>Breakfast</td><td>22</td><td>Male  </td><td>1.77</td><td>76.7</td><td>T2</td></tr>\n",
       "\t<tr><td>36</td><td>Breakfast</td><td>48</td><td>Male  </td><td>1.80</td><td>74.1</td><td>T2</td></tr>\n",
       "</tbody>\n",
       "</table>\n"
      ],
      "text/latex": [
       "A data.frame: 66 × 7\n",
       "\\begin{tabular}{lllllll}\n",
       " Participant.Code & Treatment.Group & Age..y. & Sex & Height..m. & repdat & contrasts\\\\\n",
       " <int> & <chr> & <int> & <chr> & <dbl> & <dbl> & <chr>\\\\\n",
       "\\hline\n",
       "\t  2 & Fasting   & 27 & Female & 1.75 & 71.5 & T1\\\\\n",
       "\t  4 & Fasting   & 25 & Female & 1.72 & 74.6 & T1\\\\\n",
       "\t 11 & Fasting   & 44 & Male   & 1.64 & 68.0 & T1\\\\\n",
       "\t 14 & Fasting   & 36 & Female & 1.68 & 57.0 & T1\\\\\n",
       "\t 16 & Fasting   & 28 & Female & 1.64 & 49.4 & T1\\\\\n",
       "\t 19 & Fasting   & 38 & Male   & 1.74 & 64.3 & T1\\\\\n",
       "\t 20 & Fasting   & 48 & Male   & 1.78 & 66.5 & T1\\\\\n",
       "\t 23 & Fasting   & 54 & Female & 1.75 & 73.5 & T1\\\\\n",
       "\t 27 & Fasting   & 27 & Female & 1.63 & 59.0 & T1\\\\\n",
       "\t 34 & Fasting   & 22 & Female & 1.66 & 67.1 & T1\\\\\n",
       "\t 37 & Fasting   & 35 & Male   & 1.77 & 69.7 & T1\\\\\n",
       "\t 41 & Fasting   & 25 & Female & 1.62 & 61.2 & T1\\\\\n",
       "\t 42 & Fasting   & 52 & Female & 1.72 & 72.3 & T1\\\\\n",
       "\t 50 & Fasting   & 34 & Male   & 1.79 & 82.0 & T1\\\\\n",
       "\t 53 & Fasting   & 22 & Male   & 1.83 & 70.1 & T1\\\\\n",
       "\t  3 & Fasting   & 47 & Female & 1.72 & 58.0 & T1\\\\\n",
       "\t  6 & Fasting   & 46 & Female & 1.60 & 65.6 & T1\\\\\n",
       "\t  1 & Breakfast & 38 & Female & 1.65 & 63.4 & T1\\\\\n",
       "\t  9 & Breakfast & 40 & Female & 1.76 & 64.6 & T1\\\\\n",
       "\t 15 & Breakfast & 25 & Female & 1.70 & 54.6 & T1\\\\\n",
       "\t 18 & Breakfast & 56 & Female & 1.65 & 64.4 & T1\\\\\n",
       "\t 21 & Breakfast & 24 & Male   & 1.79 & 70.8 & T1\\\\\n",
       "\t 25 & Breakfast & 45 & Female & 1.69 & 54.3 & T1\\\\\n",
       "\t 29 & Breakfast & 31 & Female & 1.72 & 63.7 & T1\\\\\n",
       "\t 32 & Breakfast & 41 & Male   & 1.83 & 66.4 & T1\\\\\n",
       "\t 33 & Breakfast & 51 & Female & 1.82 & 72.1 & T1\\\\\n",
       "\t 35 & Breakfast & 28 & Male   & 1.85 & 72.3 & T1\\\\\n",
       "\t 40 & Breakfast & 23 & Female & 1.66 & 54.5 & T1\\\\\n",
       "\t  5 & Breakfast & 35 & Female & 1.62 & 72.5 & T1\\\\\n",
       "\t  7 & Breakfast & 45 & Female & 1.69 & 64.3 & T1\\\\\n",
       "\t ⋮ & ⋮ & ⋮ & ⋮ & ⋮ & ⋮ & ⋮\\\\\n",
       "\t 14 & Fasting   & 36 & Female & 1.68 & 57.3 & T2\\\\\n",
       "\t 16 & Fasting   & 28 & Female & 1.64 & 49.0 & T2\\\\\n",
       "\t 19 & Fasting   & 38 & Male   & 1.74 & 64.0 & T2\\\\\n",
       "\t 20 & Fasting   & 48 & Male   & 1.78 & 65.2 & T2\\\\\n",
       "\t 23 & Fasting   & 54 & Female & 1.75 & 72.8 & T2\\\\\n",
       "\t 27 & Fasting   & 27 & Female & 1.63 & 58.3 & T2\\\\\n",
       "\t 34 & Fasting   & 22 & Female & 1.66 & 65.9 & T2\\\\\n",
       "\t 37 & Fasting   & 35 & Male   & 1.77 & 68.4 & T2\\\\\n",
       "\t 41 & Fasting   & 25 & Female & 1.62 & 62.1 & T2\\\\\n",
       "\t 42 & Fasting   & 52 & Female & 1.72 & 70.7 & T2\\\\\n",
       "\t 50 & Fasting   & 34 & Male   & 1.79 & 82.0 & T2\\\\\n",
       "\t 53 & Fasting   & 22 & Male   & 1.83 & 71.0 & T2\\\\\n",
       "\t  3 & Fasting   & 47 & Female & 1.72 & 58.0 & T2\\\\\n",
       "\t  6 & Fasting   & 46 & Female & 1.60 & 64.8 & T2\\\\\n",
       "\t  1 & Breakfast & 38 & Female & 1.65 & 63.4 & T2\\\\\n",
       "\t  9 & Breakfast & 40 & Female & 1.76 & 63.5 & T2\\\\\n",
       "\t 15 & Breakfast & 25 & Female & 1.70 & 55.4 & T2\\\\\n",
       "\t 18 & Breakfast & 56 & Female & 1.65 & 64.4 & T2\\\\\n",
       "\t 21 & Breakfast & 24 & Male   & 1.79 & 69.5 & T2\\\\\n",
       "\t 25 & Breakfast & 45 & Female & 1.69 & 53.2 & T2\\\\\n",
       "\t 29 & Breakfast & 31 & Female & 1.72 & 63.6 & T2\\\\\n",
       "\t 32 & Breakfast & 41 & Male   & 1.83 & 64.7 & T2\\\\\n",
       "\t 33 & Breakfast & 51 & Female & 1.82 & 72.2 & T2\\\\\n",
       "\t 35 & Breakfast & 28 & Male   & 1.85 & 70.1 & T2\\\\\n",
       "\t 40 & Breakfast & 23 & Female & 1.66 & 55.8 & T2\\\\\n",
       "\t  5 & Breakfast & 35 & Female & 1.62 & 74.5 & T2\\\\\n",
       "\t  7 & Breakfast & 45 & Female & 1.69 & 64.8 & T2\\\\\n",
       "\t 10 & Breakfast & 23 & Male   & 1.93 & 82.6 & T2\\\\\n",
       "\t 28 & Breakfast & 22 & Male   & 1.77 & 76.7 & T2\\\\\n",
       "\t 36 & Breakfast & 48 & Male   & 1.80 & 74.1 & T2\\\\\n",
       "\\end{tabular}\n"
      ],
      "text/markdown": [
       "\n",
       "A data.frame: 66 × 7\n",
       "\n",
       "| Participant.Code &lt;int&gt; | Treatment.Group &lt;chr&gt; | Age..y. &lt;int&gt; | Sex &lt;chr&gt; | Height..m. &lt;dbl&gt; | repdat &lt;dbl&gt; | contrasts &lt;chr&gt; |\n",
       "|---|---|---|---|---|---|---|\n",
       "|  2 | Fasting   | 27 | Female | 1.75 | 71.5 | T1 |\n",
       "|  4 | Fasting   | 25 | Female | 1.72 | 74.6 | T1 |\n",
       "| 11 | Fasting   | 44 | Male   | 1.64 | 68.0 | T1 |\n",
       "| 14 | Fasting   | 36 | Female | 1.68 | 57.0 | T1 |\n",
       "| 16 | Fasting   | 28 | Female | 1.64 | 49.4 | T1 |\n",
       "| 19 | Fasting   | 38 | Male   | 1.74 | 64.3 | T1 |\n",
       "| 20 | Fasting   | 48 | Male   | 1.78 | 66.5 | T1 |\n",
       "| 23 | Fasting   | 54 | Female | 1.75 | 73.5 | T1 |\n",
       "| 27 | Fasting   | 27 | Female | 1.63 | 59.0 | T1 |\n",
       "| 34 | Fasting   | 22 | Female | 1.66 | 67.1 | T1 |\n",
       "| 37 | Fasting   | 35 | Male   | 1.77 | 69.7 | T1 |\n",
       "| 41 | Fasting   | 25 | Female | 1.62 | 61.2 | T1 |\n",
       "| 42 | Fasting   | 52 | Female | 1.72 | 72.3 | T1 |\n",
       "| 50 | Fasting   | 34 | Male   | 1.79 | 82.0 | T1 |\n",
       "| 53 | Fasting   | 22 | Male   | 1.83 | 70.1 | T1 |\n",
       "|  3 | Fasting   | 47 | Female | 1.72 | 58.0 | T1 |\n",
       "|  6 | Fasting   | 46 | Female | 1.60 | 65.6 | T1 |\n",
       "|  1 | Breakfast | 38 | Female | 1.65 | 63.4 | T1 |\n",
       "|  9 | Breakfast | 40 | Female | 1.76 | 64.6 | T1 |\n",
       "| 15 | Breakfast | 25 | Female | 1.70 | 54.6 | T1 |\n",
       "| 18 | Breakfast | 56 | Female | 1.65 | 64.4 | T1 |\n",
       "| 21 | Breakfast | 24 | Male   | 1.79 | 70.8 | T1 |\n",
       "| 25 | Breakfast | 45 | Female | 1.69 | 54.3 | T1 |\n",
       "| 29 | Breakfast | 31 | Female | 1.72 | 63.7 | T1 |\n",
       "| 32 | Breakfast | 41 | Male   | 1.83 | 66.4 | T1 |\n",
       "| 33 | Breakfast | 51 | Female | 1.82 | 72.1 | T1 |\n",
       "| 35 | Breakfast | 28 | Male   | 1.85 | 72.3 | T1 |\n",
       "| 40 | Breakfast | 23 | Female | 1.66 | 54.5 | T1 |\n",
       "|  5 | Breakfast | 35 | Female | 1.62 | 72.5 | T1 |\n",
       "|  7 | Breakfast | 45 | Female | 1.69 | 64.3 | T1 |\n",
       "| ⋮ | ⋮ | ⋮ | ⋮ | ⋮ | ⋮ | ⋮ |\n",
       "| 14 | Fasting   | 36 | Female | 1.68 | 57.3 | T2 |\n",
       "| 16 | Fasting   | 28 | Female | 1.64 | 49.0 | T2 |\n",
       "| 19 | Fasting   | 38 | Male   | 1.74 | 64.0 | T2 |\n",
       "| 20 | Fasting   | 48 | Male   | 1.78 | 65.2 | T2 |\n",
       "| 23 | Fasting   | 54 | Female | 1.75 | 72.8 | T2 |\n",
       "| 27 | Fasting   | 27 | Female | 1.63 | 58.3 | T2 |\n",
       "| 34 | Fasting   | 22 | Female | 1.66 | 65.9 | T2 |\n",
       "| 37 | Fasting   | 35 | Male   | 1.77 | 68.4 | T2 |\n",
       "| 41 | Fasting   | 25 | Female | 1.62 | 62.1 | T2 |\n",
       "| 42 | Fasting   | 52 | Female | 1.72 | 70.7 | T2 |\n",
       "| 50 | Fasting   | 34 | Male   | 1.79 | 82.0 | T2 |\n",
       "| 53 | Fasting   | 22 | Male   | 1.83 | 71.0 | T2 |\n",
       "|  3 | Fasting   | 47 | Female | 1.72 | 58.0 | T2 |\n",
       "|  6 | Fasting   | 46 | Female | 1.60 | 64.8 | T2 |\n",
       "|  1 | Breakfast | 38 | Female | 1.65 | 63.4 | T2 |\n",
       "|  9 | Breakfast | 40 | Female | 1.76 | 63.5 | T2 |\n",
       "| 15 | Breakfast | 25 | Female | 1.70 | 55.4 | T2 |\n",
       "| 18 | Breakfast | 56 | Female | 1.65 | 64.4 | T2 |\n",
       "| 21 | Breakfast | 24 | Male   | 1.79 | 69.5 | T2 |\n",
       "| 25 | Breakfast | 45 | Female | 1.69 | 53.2 | T2 |\n",
       "| 29 | Breakfast | 31 | Female | 1.72 | 63.6 | T2 |\n",
       "| 32 | Breakfast | 41 | Male   | 1.83 | 64.7 | T2 |\n",
       "| 33 | Breakfast | 51 | Female | 1.82 | 72.2 | T2 |\n",
       "| 35 | Breakfast | 28 | Male   | 1.85 | 70.1 | T2 |\n",
       "| 40 | Breakfast | 23 | Female | 1.66 | 55.8 | T2 |\n",
       "|  5 | Breakfast | 35 | Female | 1.62 | 74.5 | T2 |\n",
       "|  7 | Breakfast | 45 | Female | 1.69 | 64.8 | T2 |\n",
       "| 10 | Breakfast | 23 | Male   | 1.93 | 82.6 | T2 |\n",
       "| 28 | Breakfast | 22 | Male   | 1.77 | 76.7 | T2 |\n",
       "| 36 | Breakfast | 48 | Male   | 1.80 | 74.1 | T2 |\n",
       "\n"
      ],
      "text/plain": [
       "   Participant.Code Treatment.Group Age..y. Sex    Height..m. repdat contrasts\n",
       "1   2               Fasting         27      Female 1.75       71.5   T1       \n",
       "2   4               Fasting         25      Female 1.72       74.6   T1       \n",
       "3  11               Fasting         44      Male   1.64       68.0   T1       \n",
       "4  14               Fasting         36      Female 1.68       57.0   T1       \n",
       "5  16               Fasting         28      Female 1.64       49.4   T1       \n",
       "6  19               Fasting         38      Male   1.74       64.3   T1       \n",
       "7  20               Fasting         48      Male   1.78       66.5   T1       \n",
       "8  23               Fasting         54      Female 1.75       73.5   T1       \n",
       "9  27               Fasting         27      Female 1.63       59.0   T1       \n",
       "10 34               Fasting         22      Female 1.66       67.1   T1       \n",
       "11 37               Fasting         35      Male   1.77       69.7   T1       \n",
       "12 41               Fasting         25      Female 1.62       61.2   T1       \n",
       "13 42               Fasting         52      Female 1.72       72.3   T1       \n",
       "14 50               Fasting         34      Male   1.79       82.0   T1       \n",
       "15 53               Fasting         22      Male   1.83       70.1   T1       \n",
       "16  3               Fasting         47      Female 1.72       58.0   T1       \n",
       "17  6               Fasting         46      Female 1.60       65.6   T1       \n",
       "18  1               Breakfast       38      Female 1.65       63.4   T1       \n",
       "19  9               Breakfast       40      Female 1.76       64.6   T1       \n",
       "20 15               Breakfast       25      Female 1.70       54.6   T1       \n",
       "21 18               Breakfast       56      Female 1.65       64.4   T1       \n",
       "22 21               Breakfast       24      Male   1.79       70.8   T1       \n",
       "23 25               Breakfast       45      Female 1.69       54.3   T1       \n",
       "24 29               Breakfast       31      Female 1.72       63.7   T1       \n",
       "25 32               Breakfast       41      Male   1.83       66.4   T1       \n",
       "26 33               Breakfast       51      Female 1.82       72.1   T1       \n",
       "27 35               Breakfast       28      Male   1.85       72.3   T1       \n",
       "28 40               Breakfast       23      Female 1.66       54.5   T1       \n",
       "29  5               Breakfast       35      Female 1.62       72.5   T1       \n",
       "30  7               Breakfast       45      Female 1.69       64.3   T1       \n",
       "⋮  ⋮                ⋮               ⋮       ⋮      ⋮          ⋮      ⋮        \n",
       "37 14               Fasting         36      Female 1.68       57.3   T2       \n",
       "38 16               Fasting         28      Female 1.64       49.0   T2       \n",
       "39 19               Fasting         38      Male   1.74       64.0   T2       \n",
       "40 20               Fasting         48      Male   1.78       65.2   T2       \n",
       "41 23               Fasting         54      Female 1.75       72.8   T2       \n",
       "42 27               Fasting         27      Female 1.63       58.3   T2       \n",
       "43 34               Fasting         22      Female 1.66       65.9   T2       \n",
       "44 37               Fasting         35      Male   1.77       68.4   T2       \n",
       "45 41               Fasting         25      Female 1.62       62.1   T2       \n",
       "46 42               Fasting         52      Female 1.72       70.7   T2       \n",
       "47 50               Fasting         34      Male   1.79       82.0   T2       \n",
       "48 53               Fasting         22      Male   1.83       71.0   T2       \n",
       "49  3               Fasting         47      Female 1.72       58.0   T2       \n",
       "50  6               Fasting         46      Female 1.60       64.8   T2       \n",
       "51  1               Breakfast       38      Female 1.65       63.4   T2       \n",
       "52  9               Breakfast       40      Female 1.76       63.5   T2       \n",
       "53 15               Breakfast       25      Female 1.70       55.4   T2       \n",
       "54 18               Breakfast       56      Female 1.65       64.4   T2       \n",
       "55 21               Breakfast       24      Male   1.79       69.5   T2       \n",
       "56 25               Breakfast       45      Female 1.69       53.2   T2       \n",
       "57 29               Breakfast       31      Female 1.72       63.6   T2       \n",
       "58 32               Breakfast       41      Male   1.83       64.7   T2       \n",
       "59 33               Breakfast       51      Female 1.82       72.2   T2       \n",
       "60 35               Breakfast       28      Male   1.85       70.1   T2       \n",
       "61 40               Breakfast       23      Female 1.66       55.8   T2       \n",
       "62  5               Breakfast       35      Female 1.62       74.5   T2       \n",
       "63  7               Breakfast       45      Female 1.69       64.8   T2       \n",
       "64 10               Breakfast       23      Male   1.93       82.6   T2       \n",
       "65 28               Breakfast       22      Male   1.77       76.7   T2       \n",
       "66 36               Breakfast       48      Male   1.80       74.1   T2       "
      ]
     },
     "metadata": {},
     "output_type": "display_data"
    }
   ],
   "source": [
    "breakfast5"
   ]
  },
  {
   "cell_type": "markdown",
   "id": "3d0e778d",
   "metadata": {},
   "source": [
    "#### Assumptions: test for normality"
   ]
  },
  {
   "cell_type": "code",
   "execution_count": 36,
   "id": "7585b28a",
   "metadata": {},
   "outputs": [
    {
     "data": {
      "image/png": "[encoded data removed]",
      "text/plain": [
       "Plot with title \"\""
      ]
     },
     "metadata": {
      "image/png": {
       "height": 420,
       "width": 420
      }
     },
     "output_type": "display_data"
    }
   ],
   "source": [
    "plotNormalHistogram(breakfast1$Baseline.Body.Mass..kg.)"
   ]
  },
  {
   "cell_type": "code",
   "execution_count": 37,
   "id": "124509a2",
   "metadata": {},
   "outputs": [
    {
     "data": {
      "image/png": "[encoded data removed]",
      "text/plain": [
       "Plot with title \"\""
      ]
     },
     "metadata": {
      "image/png": {
       "height": 420,
       "width": 420
      }
     },
     "output_type": "display_data"
    }
   ],
   "source": [
    "plotNormalHistogram(breakfast1$Follow.Up.Body.Mass..kg.)\n"
   ]
  },
  {
   "cell_type": "markdown",
   "id": "e69e3b17",
   "metadata": {},
   "source": [
    "#### they look good - normally distributed as is.  now to test for Homogeneity of Variance"
   ]
  },
  {
   "cell_type": "code",
   "execution_count": 38,
   "id": "cda1adc2",
   "metadata": {},
   "outputs": [
    {
     "data": {
      "text/html": [
       "<table class=\"dataframe\">\n",
       "<caption>A anova: 2 × 3</caption>\n",
       "<thead>\n",
       "\t<tr><th></th><th scope=col>Df</th><th scope=col>F value</th><th scope=col>Pr(&gt;F)</th></tr>\n",
       "\t<tr><th></th><th scope=col>&lt;int&gt;</th><th scope=col>&lt;dbl&gt;</th><th scope=col>&lt;dbl&gt;</th></tr>\n",
       "</thead>\n",
       "<tbody>\n",
       "\t<tr><th scope=row>group</th><td> 3</td><td>0.06231531</td><td>0.9794777</td></tr>\n",
       "\t<tr><th scope=row> </th><td>62</td><td>        NA</td><td>       NA</td></tr>\n",
       "</tbody>\n",
       "</table>\n"
      ],
      "text/latex": [
       "A anova: 2 × 3\n",
       "\\begin{tabular}{r|lll}\n",
       "  & Df & F value & Pr(>F)\\\\\n",
       "  & <int> & <dbl> & <dbl>\\\\\n",
       "\\hline\n",
       "\tgroup &  3 & 0.06231531 & 0.9794777\\\\\n",
       "\t  & 62 &         NA &        NA\\\\\n",
       "\\end{tabular}\n"
      ],
      "text/markdown": [
       "\n",
       "A anova: 2 × 3\n",
       "\n",
       "| <!--/--> | Df &lt;int&gt; | F value &lt;dbl&gt; | Pr(&gt;F) &lt;dbl&gt; |\n",
       "|---|---|---|---|\n",
       "| group |  3 | 0.06231531 | 0.9794777 |\n",
       "| <!----> | 62 |         NA |        NA |\n",
       "\n"
      ],
      "text/plain": [
       "      Df F value    Pr(>F)   \n",
       "group  3 0.06231531 0.9794777\n",
       "      62         NA        NA"
      ]
     },
     "metadata": {},
     "output_type": "display_data"
    }
   ],
   "source": [
    "leveneTest(repdat ~ Treatment.Group*contrasts, data=breakfast5)"
   ]
  },
  {
   "cell_type": "code",
   "execution_count": 39,
   "id": "c2137505",
   "metadata": {},
   "outputs": [
    {
     "data": {
      "text/plain": [
       "\n",
       "Error: Participant.Code\n",
       "          Df Sum Sq Mean Sq F value Pr(>F)\n",
       "Residuals  1  105.3   105.3               \n",
       "\n",
       "Error: Within\n",
       "          Df Sum Sq Mean Sq F value Pr(>F)\n",
       "contrasts  1      2    1.64   0.027  0.871\n",
       "Residuals 63   3854   61.17               "
      ]
     },
     "metadata": {},
     "output_type": "display_data"
    }
   ],
   "source": [
    "RManova2 <- aov(repdat~contrasts+Error(Participant.Code), breakfast5)\n",
    "summary(RManova2)"
   ]
  },
  {
   "cell_type": "code",
   "execution_count": null,
   "id": "3bf13050",
   "metadata": {},
   "outputs": [],
   "source": []
  }
 ],
 "metadata": {
  "kernelspec": {
   "display_name": "R",
   "language": "R",
   "name": "ir"
  },
  "language_info": {
   "codemirror_mode": "r",
   "file_extension": ".r",
   "mimetype": "text/x-r-source",
   "name": "R",
   "pygments_lexer": "r",
   "version": "4.2.0"
  }
 },
 "nbformat": 4,
 "nbformat_minor": 5
}
