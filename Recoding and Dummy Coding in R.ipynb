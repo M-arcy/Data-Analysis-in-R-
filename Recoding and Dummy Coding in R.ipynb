{
 "cells": [
  {
   "cell_type": "code",
   "execution_count": 4,
   "id": "254e7869",
   "metadata": {},
   "outputs": [],
   "source": [
    "library(\"tidyr\")\n",
    "eatingHabits <- read.csv('Eating_Habits.csv')"
   ]
  },
  {
   "cell_type": "code",
   "execution_count": 5,
   "id": "93746040",
   "metadata": {},
   "outputs": [
    {
     "data": {
      "text/html": [
       "<table class=\"dataframe\">\n",
       "<caption>A data.frame: 6 × 18</caption>\n",
       "<thead>\n",
       "\t<tr><th></th><th scope=col>REF_DATE</th><th scope=col>GEO</th><th scope=col>DGUID</th><th scope=col>Sex</th><th scope=col>Age.group</th><th scope=col>Activity</th><th scope=col>Frequency</th><th scope=col>UOM</th><th scope=col>UOM_ID</th><th scope=col>SCALAR_FACTOR</th><th scope=col>SCALAR_ID</th><th scope=col>VECTOR</th><th scope=col>COORDINATE</th><th scope=col>VALUE</th><th scope=col>STATUS</th><th scope=col>SYMBOL</th><th scope=col>TERMINATED</th><th scope=col>DECIMALS</th></tr>\n",
       "\t<tr><th></th><th scope=col>&lt;int&gt;</th><th scope=col>&lt;chr&gt;</th><th scope=col>&lt;lgl&gt;</th><th scope=col>&lt;chr&gt;</th><th scope=col>&lt;chr&gt;</th><th scope=col>&lt;chr&gt;</th><th scope=col>&lt;chr&gt;</th><th scope=col>&lt;chr&gt;</th><th scope=col>&lt;int&gt;</th><th scope=col>&lt;chr&gt;</th><th scope=col>&lt;int&gt;</th><th scope=col>&lt;chr&gt;</th><th scope=col>&lt;chr&gt;</th><th scope=col>&lt;int&gt;</th><th scope=col>&lt;lgl&gt;</th><th scope=col>&lt;lgl&gt;</th><th scope=col>&lt;chr&gt;</th><th scope=col>&lt;int&gt;</th></tr>\n",
       "</thead>\n",
       "<tbody>\n",
       "\t<tr><th scope=row>1</th><td>1990</td><td>Austria</td><td>NA</td><td>Males</td><td>11 years</td><td>Eating fruit         </td><td>More than once a day</td><td>Percent</td><td>239</td><td>units </td><td>0</td><td>v656366</td><td>1.1.1.1.1</td><td>34</td><td>NA</td><td>NA</td><td></td><td>0</td></tr>\n",
       "\t<tr><th scope=row>2</th><td>1990</td><td>Austria</td><td>NA</td><td>Males</td><td>11 years</td><td>Eating fruit         </td><td>Once a day          </td><td>Percent</td><td>239</td><td>units </td><td>0</td><td>v656367</td><td>1.1.1.1.2</td><td>42</td><td>NA</td><td>NA</td><td></td><td>0</td></tr>\n",
       "\t<tr><th scope=row>3</th><td>1990</td><td>Austria</td><td>NA</td><td>Males</td><td>11 years</td><td>Eating fruit         </td><td>At least once a week</td><td>Percent</td><td>239</td><td>units </td><td>0</td><td>v656368</td><td>1.1.1.1.3</td><td>17</td><td>NA</td><td>NA</td><td></td><td>0</td></tr>\n",
       "\t<tr><th scope=row>4</th><td>1990</td><td>Austria</td><td>NA</td><td>Males</td><td>11 years</td><td>Eating fruit         </td><td>Seldom              </td><td>Percent</td><td>239</td><td>units </td><td>0</td><td>v656369</td><td>1.1.1.1.4</td><td> 4</td><td>NA</td><td>NA</td><td></td><td>0</td></tr>\n",
       "\t<tr><th scope=row>5</th><td>1990</td><td>Austria</td><td>NA</td><td>Males</td><td>11 years</td><td>Eating fruit         </td><td>Never               </td><td>Percent</td><td>239</td><td>units </td><td>0</td><td>v656370</td><td>1.1.1.1.5</td><td> 3</td><td>NA</td><td>NA</td><td></td><td>0</td></tr>\n",
       "\t<tr><th scope=row>6</th><td>1990</td><td>Austria</td><td>NA</td><td>Males</td><td>11 years</td><td>Eating raw vegetables</td><td>More than once a day</td><td>Percent</td><td>239</td><td>units </td><td>0</td><td>v657056</td><td>1.1.1.2.1</td><td>15</td><td>NA</td><td>NA</td><td></td><td>0</td></tr>\n",
       "</tbody>\n",
       "</table>\n"
      ],
      "text/latex": [
       "A data.frame: 6 × 18\n",
       "\\begin{tabular}{r|llllllllllllllllll}\n",
       "  & REF\\_DATE & GEO & DGUID & Sex & Age.group & Activity & Frequency & UOM & UOM\\_ID & SCALAR\\_FACTOR & SCALAR\\_ID & VECTOR & COORDINATE & VALUE & STATUS & SYMBOL & TERMINATED & DECIMALS\\\\\n",
       "  & <int> & <chr> & <lgl> & <chr> & <chr> & <chr> & <chr> & <chr> & <int> & <chr> & <int> & <chr> & <chr> & <int> & <lgl> & <lgl> & <chr> & <int>\\\\\n",
       "\\hline\n",
       "\t1 & 1990 & Austria & NA & Males & 11 years & Eating fruit          & More than once a day & Percent & 239 & units  & 0 & v656366 & 1.1.1.1.1 & 34 & NA & NA &  & 0\\\\\n",
       "\t2 & 1990 & Austria & NA & Males & 11 years & Eating fruit          & Once a day           & Percent & 239 & units  & 0 & v656367 & 1.1.1.1.2 & 42 & NA & NA &  & 0\\\\\n",
       "\t3 & 1990 & Austria & NA & Males & 11 years & Eating fruit          & At least once a week & Percent & 239 & units  & 0 & v656368 & 1.1.1.1.3 & 17 & NA & NA &  & 0\\\\\n",
       "\t4 & 1990 & Austria & NA & Males & 11 years & Eating fruit          & Seldom               & Percent & 239 & units  & 0 & v656369 & 1.1.1.1.4 &  4 & NA & NA &  & 0\\\\\n",
       "\t5 & 1990 & Austria & NA & Males & 11 years & Eating fruit          & Never                & Percent & 239 & units  & 0 & v656370 & 1.1.1.1.5 &  3 & NA & NA &  & 0\\\\\n",
       "\t6 & 1990 & Austria & NA & Males & 11 years & Eating raw vegetables & More than once a day & Percent & 239 & units  & 0 & v657056 & 1.1.1.2.1 & 15 & NA & NA &  & 0\\\\\n",
       "\\end{tabular}\n"
      ],
      "text/markdown": [
       "\n",
       "A data.frame: 6 × 18\n",
       "\n",
       "| <!--/--> | REF_DATE &lt;int&gt; | GEO &lt;chr&gt; | DGUID &lt;lgl&gt; | Sex &lt;chr&gt; | Age.group &lt;chr&gt; | Activity &lt;chr&gt; | Frequency &lt;chr&gt; | UOM &lt;chr&gt; | UOM_ID &lt;int&gt; | SCALAR_FACTOR &lt;chr&gt; | SCALAR_ID &lt;int&gt; | VECTOR &lt;chr&gt; | COORDINATE &lt;chr&gt; | VALUE &lt;int&gt; | STATUS &lt;lgl&gt; | SYMBOL &lt;lgl&gt; | TERMINATED &lt;chr&gt; | DECIMALS &lt;int&gt; |\n",
       "|---|---|---|---|---|---|---|---|---|---|---|---|---|---|---|---|---|---|---|\n",
       "| 1 | 1990 | Austria | NA | Males | 11 years | Eating fruit          | More than once a day | Percent | 239 | units  | 0 | v656366 | 1.1.1.1.1 | 34 | NA | NA | <!----> | 0 |\n",
       "| 2 | 1990 | Austria | NA | Males | 11 years | Eating fruit          | Once a day           | Percent | 239 | units  | 0 | v656367 | 1.1.1.1.2 | 42 | NA | NA | <!----> | 0 |\n",
       "| 3 | 1990 | Austria | NA | Males | 11 years | Eating fruit          | At least once a week | Percent | 239 | units  | 0 | v656368 | 1.1.1.1.3 | 17 | NA | NA | <!----> | 0 |\n",
       "| 4 | 1990 | Austria | NA | Males | 11 years | Eating fruit          | Seldom               | Percent | 239 | units  | 0 | v656369 | 1.1.1.1.4 |  4 | NA | NA | <!----> | 0 |\n",
       "| 5 | 1990 | Austria | NA | Males | 11 years | Eating fruit          | Never                | Percent | 239 | units  | 0 | v656370 | 1.1.1.1.5 |  3 | NA | NA | <!----> | 0 |\n",
       "| 6 | 1990 | Austria | NA | Males | 11 years | Eating raw vegetables | More than once a day | Percent | 239 | units  | 0 | v657056 | 1.1.1.2.1 | 15 | NA | NA | <!----> | 0 |\n",
       "\n"
      ],
      "text/plain": [
       "  REF_DATE GEO     DGUID Sex   Age.group Activity             \n",
       "1 1990     Austria NA    Males 11 years  Eating fruit         \n",
       "2 1990     Austria NA    Males 11 years  Eating fruit         \n",
       "3 1990     Austria NA    Males 11 years  Eating fruit         \n",
       "4 1990     Austria NA    Males 11 years  Eating fruit         \n",
       "5 1990     Austria NA    Males 11 years  Eating fruit         \n",
       "6 1990     Austria NA    Males 11 years  Eating raw vegetables\n",
       "  Frequency            UOM     UOM_ID SCALAR_FACTOR SCALAR_ID VECTOR \n",
       "1 More than once a day Percent 239    units         0         v656366\n",
       "2 Once a day           Percent 239    units         0         v656367\n",
       "3 At least once a week Percent 239    units         0         v656368\n",
       "4 Seldom               Percent 239    units         0         v656369\n",
       "5 Never                Percent 239    units         0         v656370\n",
       "6 More than once a day Percent 239    units         0         v657056\n",
       "  COORDINATE VALUE STATUS SYMBOL TERMINATED DECIMALS\n",
       "1 1.1.1.1.1  34    NA     NA                0       \n",
       "2 1.1.1.1.2  42    NA     NA                0       \n",
       "3 1.1.1.1.3  17    NA     NA                0       \n",
       "4 1.1.1.1.4   4    NA     NA                0       \n",
       "5 1.1.1.1.5   3    NA     NA                0       \n",
       "6 1.1.1.2.1  15    NA     NA                0       "
      ]
     },
     "metadata": {},
     "output_type": "display_data"
    }
   ],
   "source": [
    "head(eatingHabits)"
   ]
  },
  {
   "cell_type": "markdown",
   "id": "d5a820c6",
   "metadata": {},
   "source": [
    "### recode activity into a new variable called JunkFood and recode those as 1."
   ]
  },
  {
   "cell_type": "code",
   "execution_count": 6,
   "id": "3dc02447",
   "metadata": {},
   "outputs": [],
   "source": [
    "eatingHabits$JunkFood <- NA"
   ]
  },
  {
   "cell_type": "code",
   "execution_count": 7,
   "id": "1fe21018",
   "metadata": {},
   "outputs": [],
   "source": [
    "eatingHabits$JunkFood[eatingHabits$Activity == 'Eating whole wheat or rye bread']<-0\n",
    "eatingHabits$JunkFood[eatingHabits$Activity == 'Drinking coffee']<-0\n",
    "eatingHabits$JunkFood[eatingHabits$Activity == 'Drinking soft drinks, cola or other drinks with sugar']<-1\n",
    "eatingHabits$JunkFood[eatingHabits$Activity == 'Eating french fries']<-1\n",
    "eatingHabits$JunkFood[eatingHabits$Activity == 'Eating hamburgers, hot dogs or sausages']<-0\n",
    "eatingHabits$JunkFood[eatingHabits$Activity == 'Eating fruit']<-0\n",
    "eatingHabits$JunkFood[eatingHabits$Activity == 'Eating candy, chocolate bars']<-1\n",
    "eatingHabits$JunkFood[eatingHabits$Activity == 'Eating raw vegetables']<- 0\n",
    "eatingHabits$JunkFood[eatingHabits$Activity == 'Eating potato chips, crisps']<- 1\n",
    "eatingHabits$JunkFood[eatingHabits$Activity == 'Drinking whole milk']<- 0\n",
    "eatingHabits$JunkFood[eatingHabits$Activity == 'Drinking low fat milk']<- 0\n",
    "eatingHabits$JunkFood[eatingHabits$Activity == 'Eating peanuts']<-0"
   ]
  },
  {
   "cell_type": "markdown",
   "id": "c3546d5b",
   "metadata": {},
   "source": [
    "### recode sex from text to numbers in same variable"
   ]
  },
  {
   "cell_type": "code",
   "execution_count": 8,
   "id": "1744cb43",
   "metadata": {},
   "outputs": [],
   "source": [
    "eatingHabits$Sex[eatingHabits$Sex=='Males']<- 0\n",
    "eatingHabits$Sex[eatingHabits$Sex=='Females']<- 1"
   ]
  },
  {
   "cell_type": "code",
   "execution_count": 11,
   "id": "9e368ae3",
   "metadata": {},
   "outputs": [
    {
     "data": {
      "text/html": [
       "<table class=\"dataframe\">\n",
       "<caption>A data.frame: 6 × 19</caption>\n",
       "<thead>\n",
       "\t<tr><th></th><th scope=col>REF_DATE</th><th scope=col>GEO</th><th scope=col>DGUID</th><th scope=col>Sex</th><th scope=col>Age.group</th><th scope=col>Activity</th><th scope=col>Frequency</th><th scope=col>UOM</th><th scope=col>UOM_ID</th><th scope=col>SCALAR_FACTOR</th><th scope=col>SCALAR_ID</th><th scope=col>VECTOR</th><th scope=col>COORDINATE</th><th scope=col>VALUE</th><th scope=col>STATUS</th><th scope=col>SYMBOL</th><th scope=col>TERMINATED</th><th scope=col>DECIMALS</th><th scope=col>JunkFood</th></tr>\n",
       "\t<tr><th></th><th scope=col>&lt;int&gt;</th><th scope=col>&lt;chr&gt;</th><th scope=col>&lt;lgl&gt;</th><th scope=col>&lt;chr&gt;</th><th scope=col>&lt;chr&gt;</th><th scope=col>&lt;chr&gt;</th><th scope=col>&lt;chr&gt;</th><th scope=col>&lt;chr&gt;</th><th scope=col>&lt;int&gt;</th><th scope=col>&lt;chr&gt;</th><th scope=col>&lt;int&gt;</th><th scope=col>&lt;chr&gt;</th><th scope=col>&lt;chr&gt;</th><th scope=col>&lt;int&gt;</th><th scope=col>&lt;lgl&gt;</th><th scope=col>&lt;lgl&gt;</th><th scope=col>&lt;chr&gt;</th><th scope=col>&lt;int&gt;</th><th scope=col>&lt;dbl&gt;</th></tr>\n",
       "</thead>\n",
       "<tbody>\n",
       "\t<tr><th scope=row>1</th><td>1990</td><td>Austria</td><td>NA</td><td>0</td><td>11 years</td><td>Eating fruit         </td><td>More than once a day</td><td>Percent</td><td>239</td><td>units </td><td>0</td><td>v656366</td><td>1.1.1.1.1</td><td>34</td><td>NA</td><td>NA</td><td></td><td>0</td><td>0</td></tr>\n",
       "\t<tr><th scope=row>2</th><td>1990</td><td>Austria</td><td>NA</td><td>0</td><td>11 years</td><td>Eating fruit         </td><td>Once a day          </td><td>Percent</td><td>239</td><td>units </td><td>0</td><td>v656367</td><td>1.1.1.1.2</td><td>42</td><td>NA</td><td>NA</td><td></td><td>0</td><td>0</td></tr>\n",
       "\t<tr><th scope=row>3</th><td>1990</td><td>Austria</td><td>NA</td><td>0</td><td>11 years</td><td>Eating fruit         </td><td>At least once a week</td><td>Percent</td><td>239</td><td>units </td><td>0</td><td>v656368</td><td>1.1.1.1.3</td><td>17</td><td>NA</td><td>NA</td><td></td><td>0</td><td>0</td></tr>\n",
       "\t<tr><th scope=row>4</th><td>1990</td><td>Austria</td><td>NA</td><td>0</td><td>11 years</td><td>Eating fruit         </td><td>Seldom              </td><td>Percent</td><td>239</td><td>units </td><td>0</td><td>v656369</td><td>1.1.1.1.4</td><td> 4</td><td>NA</td><td>NA</td><td></td><td>0</td><td>0</td></tr>\n",
       "\t<tr><th scope=row>5</th><td>1990</td><td>Austria</td><td>NA</td><td>0</td><td>11 years</td><td>Eating fruit         </td><td>Never               </td><td>Percent</td><td>239</td><td>units </td><td>0</td><td>v656370</td><td>1.1.1.1.5</td><td> 3</td><td>NA</td><td>NA</td><td></td><td>0</td><td>0</td></tr>\n",
       "\t<tr><th scope=row>6</th><td>1990</td><td>Austria</td><td>NA</td><td>0</td><td>11 years</td><td>Eating raw vegetables</td><td>More than once a day</td><td>Percent</td><td>239</td><td>units </td><td>0</td><td>v657056</td><td>1.1.1.2.1</td><td>15</td><td>NA</td><td>NA</td><td></td><td>0</td><td>0</td></tr>\n",
       "</tbody>\n",
       "</table>\n"
      ],
      "text/latex": [
       "A data.frame: 6 × 19\n",
       "\\begin{tabular}{r|lllllllllllllllllll}\n",
       "  & REF\\_DATE & GEO & DGUID & Sex & Age.group & Activity & Frequency & UOM & UOM\\_ID & SCALAR\\_FACTOR & SCALAR\\_ID & VECTOR & COORDINATE & VALUE & STATUS & SYMBOL & TERMINATED & DECIMALS & JunkFood\\\\\n",
       "  & <int> & <chr> & <lgl> & <chr> & <chr> & <chr> & <chr> & <chr> & <int> & <chr> & <int> & <chr> & <chr> & <int> & <lgl> & <lgl> & <chr> & <int> & <dbl>\\\\\n",
       "\\hline\n",
       "\t1 & 1990 & Austria & NA & 0 & 11 years & Eating fruit          & More than once a day & Percent & 239 & units  & 0 & v656366 & 1.1.1.1.1 & 34 & NA & NA &  & 0 & 0\\\\\n",
       "\t2 & 1990 & Austria & NA & 0 & 11 years & Eating fruit          & Once a day           & Percent & 239 & units  & 0 & v656367 & 1.1.1.1.2 & 42 & NA & NA &  & 0 & 0\\\\\n",
       "\t3 & 1990 & Austria & NA & 0 & 11 years & Eating fruit          & At least once a week & Percent & 239 & units  & 0 & v656368 & 1.1.1.1.3 & 17 & NA & NA &  & 0 & 0\\\\\n",
       "\t4 & 1990 & Austria & NA & 0 & 11 years & Eating fruit          & Seldom               & Percent & 239 & units  & 0 & v656369 & 1.1.1.1.4 &  4 & NA & NA &  & 0 & 0\\\\\n",
       "\t5 & 1990 & Austria & NA & 0 & 11 years & Eating fruit          & Never                & Percent & 239 & units  & 0 & v656370 & 1.1.1.1.5 &  3 & NA & NA &  & 0 & 0\\\\\n",
       "\t6 & 1990 & Austria & NA & 0 & 11 years & Eating raw vegetables & More than once a day & Percent & 239 & units  & 0 & v657056 & 1.1.1.2.1 & 15 & NA & NA &  & 0 & 0\\\\\n",
       "\\end{tabular}\n"
      ],
      "text/markdown": [
       "\n",
       "A data.frame: 6 × 19\n",
       "\n",
       "| <!--/--> | REF_DATE &lt;int&gt; | GEO &lt;chr&gt; | DGUID &lt;lgl&gt; | Sex &lt;chr&gt; | Age.group &lt;chr&gt; | Activity &lt;chr&gt; | Frequency &lt;chr&gt; | UOM &lt;chr&gt; | UOM_ID &lt;int&gt; | SCALAR_FACTOR &lt;chr&gt; | SCALAR_ID &lt;int&gt; | VECTOR &lt;chr&gt; | COORDINATE &lt;chr&gt; | VALUE &lt;int&gt; | STATUS &lt;lgl&gt; | SYMBOL &lt;lgl&gt; | TERMINATED &lt;chr&gt; | DECIMALS &lt;int&gt; | JunkFood &lt;dbl&gt; |\n",
       "|---|---|---|---|---|---|---|---|---|---|---|---|---|---|---|---|---|---|---|---|\n",
       "| 1 | 1990 | Austria | NA | 0 | 11 years | Eating fruit          | More than once a day | Percent | 239 | units  | 0 | v656366 | 1.1.1.1.1 | 34 | NA | NA | <!----> | 0 | 0 |\n",
       "| 2 | 1990 | Austria | NA | 0 | 11 years | Eating fruit          | Once a day           | Percent | 239 | units  | 0 | v656367 | 1.1.1.1.2 | 42 | NA | NA | <!----> | 0 | 0 |\n",
       "| 3 | 1990 | Austria | NA | 0 | 11 years | Eating fruit          | At least once a week | Percent | 239 | units  | 0 | v656368 | 1.1.1.1.3 | 17 | NA | NA | <!----> | 0 | 0 |\n",
       "| 4 | 1990 | Austria | NA | 0 | 11 years | Eating fruit          | Seldom               | Percent | 239 | units  | 0 | v656369 | 1.1.1.1.4 |  4 | NA | NA | <!----> | 0 | 0 |\n",
       "| 5 | 1990 | Austria | NA | 0 | 11 years | Eating fruit          | Never                | Percent | 239 | units  | 0 | v656370 | 1.1.1.1.5 |  3 | NA | NA | <!----> | 0 | 0 |\n",
       "| 6 | 1990 | Austria | NA | 0 | 11 years | Eating raw vegetables | More than once a day | Percent | 239 | units  | 0 | v657056 | 1.1.1.2.1 | 15 | NA | NA | <!----> | 0 | 0 |\n",
       "\n"
      ],
      "text/plain": [
       "  REF_DATE GEO     DGUID Sex Age.group Activity             \n",
       "1 1990     Austria NA    0   11 years  Eating fruit         \n",
       "2 1990     Austria NA    0   11 years  Eating fruit         \n",
       "3 1990     Austria NA    0   11 years  Eating fruit         \n",
       "4 1990     Austria NA    0   11 years  Eating fruit         \n",
       "5 1990     Austria NA    0   11 years  Eating fruit         \n",
       "6 1990     Austria NA    0   11 years  Eating raw vegetables\n",
       "  Frequency            UOM     UOM_ID SCALAR_FACTOR SCALAR_ID VECTOR \n",
       "1 More than once a day Percent 239    units         0         v656366\n",
       "2 Once a day           Percent 239    units         0         v656367\n",
       "3 At least once a week Percent 239    units         0         v656368\n",
       "4 Seldom               Percent 239    units         0         v656369\n",
       "5 Never                Percent 239    units         0         v656370\n",
       "6 More than once a day Percent 239    units         0         v657056\n",
       "  COORDINATE VALUE STATUS SYMBOL TERMINATED DECIMALS JunkFood\n",
       "1 1.1.1.1.1  34    NA     NA                0        0       \n",
       "2 1.1.1.1.2  42    NA     NA                0        0       \n",
       "3 1.1.1.1.3  17    NA     NA                0        0       \n",
       "4 1.1.1.1.4   4    NA     NA                0        0       \n",
       "5 1.1.1.1.5   3    NA     NA                0        0       \n",
       "6 1.1.1.2.1  15    NA     NA                0        0       "
      ]
     },
     "metadata": {},
     "output_type": "display_data"
    }
   ],
   "source": [
    "head(eatingHabits)"
   ]
  },
  {
   "cell_type": "markdown",
   "id": "707a6346",
   "metadata": {},
   "source": [
    "### dummy code the frequency variable"
   ]
  },
  {
   "cell_type": "code",
   "execution_count": 12,
   "id": "2d0608a1",
   "metadata": {},
   "outputs": [
    {
     "name": "stderr",
     "output_type": "stream",
     "text": [
      "Installing package into 'C:/Users/Marcy/Documents/R/win-library/4.1'\n",
      "(as 'lib' is unspecified)\n",
      "\n"
     ]
    },
    {
     "name": "stdout",
     "output_type": "stream",
     "text": [
      "package 'fastDummies' successfully unpacked and MD5 sums checked\n",
      "\n",
      "The downloaded binary packages are in\n",
      "\tC:\\Users\\Marcy\\AppData\\Local\\Temp\\RtmpyWMQDc\\downloaded_packages\n"
     ]
    }
   ],
   "source": [
    "install.packages(\"fastDummies\")"
   ]
  },
  {
   "cell_type": "code",
   "execution_count": 13,
   "id": "489b1c47",
   "metadata": {},
   "outputs": [],
   "source": [
    "library(fastDummies)"
   ]
  },
  {
   "cell_type": "code",
   "execution_count": 14,
   "id": "58d286d9",
   "metadata": {},
   "outputs": [],
   "source": [
    "eatingHabits <- dummy_cols(eatingHabits, select_columns='Frequency')"
   ]
  },
  {
   "cell_type": "code",
   "execution_count": 15,
   "id": "e00636c8",
   "metadata": {},
   "outputs": [
    {
     "data": {
      "text/html": [
       "<table class=\"dataframe\">\n",
       "<caption>A data.frame: 6 × 24</caption>\n",
       "<thead>\n",
       "\t<tr><th></th><th scope=col>REF_DATE</th><th scope=col>GEO</th><th scope=col>DGUID</th><th scope=col>Sex</th><th scope=col>Age.group</th><th scope=col>Activity</th><th scope=col>Frequency</th><th scope=col>UOM</th><th scope=col>UOM_ID</th><th scope=col>SCALAR_FACTOR</th><th scope=col>...</th><th scope=col>STATUS</th><th scope=col>SYMBOL</th><th scope=col>TERMINATED</th><th scope=col>DECIMALS</th><th scope=col>JunkFood</th><th scope=col>Frequency_At least once a week</th><th scope=col>Frequency_More than once a day</th><th scope=col>Frequency_Never</th><th scope=col>Frequency_Once a day</th><th scope=col>Frequency_Seldom</th></tr>\n",
       "\t<tr><th></th><th scope=col>&lt;int&gt;</th><th scope=col>&lt;chr&gt;</th><th scope=col>&lt;lgl&gt;</th><th scope=col>&lt;chr&gt;</th><th scope=col>&lt;chr&gt;</th><th scope=col>&lt;chr&gt;</th><th scope=col>&lt;chr&gt;</th><th scope=col>&lt;chr&gt;</th><th scope=col>&lt;int&gt;</th><th scope=col>&lt;chr&gt;</th><th scope=col>...</th><th scope=col>&lt;lgl&gt;</th><th scope=col>&lt;lgl&gt;</th><th scope=col>&lt;chr&gt;</th><th scope=col>&lt;int&gt;</th><th scope=col>&lt;dbl&gt;</th><th scope=col>&lt;int&gt;</th><th scope=col>&lt;int&gt;</th><th scope=col>&lt;int&gt;</th><th scope=col>&lt;int&gt;</th><th scope=col>&lt;int&gt;</th></tr>\n",
       "</thead>\n",
       "<tbody>\n",
       "\t<tr><th scope=row>1</th><td>1990</td><td>Austria</td><td>NA</td><td>0</td><td>11 years</td><td>Eating fruit         </td><td>More than once a day</td><td>Percent</td><td>239</td><td>units </td><td>...</td><td>NA</td><td>NA</td><td></td><td>0</td><td>0</td><td>0</td><td>1</td><td>0</td><td>0</td><td>0</td></tr>\n",
       "\t<tr><th scope=row>2</th><td>1990</td><td>Austria</td><td>NA</td><td>0</td><td>11 years</td><td>Eating fruit         </td><td>Once a day          </td><td>Percent</td><td>239</td><td>units </td><td>...</td><td>NA</td><td>NA</td><td></td><td>0</td><td>0</td><td>0</td><td>0</td><td>0</td><td>1</td><td>0</td></tr>\n",
       "\t<tr><th scope=row>3</th><td>1990</td><td>Austria</td><td>NA</td><td>0</td><td>11 years</td><td>Eating fruit         </td><td>At least once a week</td><td>Percent</td><td>239</td><td>units </td><td>...</td><td>NA</td><td>NA</td><td></td><td>0</td><td>0</td><td>1</td><td>0</td><td>0</td><td>0</td><td>0</td></tr>\n",
       "\t<tr><th scope=row>4</th><td>1990</td><td>Austria</td><td>NA</td><td>0</td><td>11 years</td><td>Eating fruit         </td><td>Seldom              </td><td>Percent</td><td>239</td><td>units </td><td>...</td><td>NA</td><td>NA</td><td></td><td>0</td><td>0</td><td>0</td><td>0</td><td>0</td><td>0</td><td>1</td></tr>\n",
       "\t<tr><th scope=row>5</th><td>1990</td><td>Austria</td><td>NA</td><td>0</td><td>11 years</td><td>Eating fruit         </td><td>Never               </td><td>Percent</td><td>239</td><td>units </td><td>...</td><td>NA</td><td>NA</td><td></td><td>0</td><td>0</td><td>0</td><td>0</td><td>1</td><td>0</td><td>0</td></tr>\n",
       "\t<tr><th scope=row>6</th><td>1990</td><td>Austria</td><td>NA</td><td>0</td><td>11 years</td><td>Eating raw vegetables</td><td>More than once a day</td><td>Percent</td><td>239</td><td>units </td><td>...</td><td>NA</td><td>NA</td><td></td><td>0</td><td>0</td><td>0</td><td>1</td><td>0</td><td>0</td><td>0</td></tr>\n",
       "</tbody>\n",
       "</table>\n"
      ],
      "text/latex": [
       "A data.frame: 6 × 24\n",
       "\\begin{tabular}{r|lllllllllllllllllllll}\n",
       "  & REF\\_DATE & GEO & DGUID & Sex & Age.group & Activity & Frequency & UOM & UOM\\_ID & SCALAR\\_FACTOR & ... & STATUS & SYMBOL & TERMINATED & DECIMALS & JunkFood & Frequency\\_At least once a week & Frequency\\_More than once a day & Frequency\\_Never & Frequency\\_Once a day & Frequency\\_Seldom\\\\\n",
       "  & <int> & <chr> & <lgl> & <chr> & <chr> & <chr> & <chr> & <chr> & <int> & <chr> & ... & <lgl> & <lgl> & <chr> & <int> & <dbl> & <int> & <int> & <int> & <int> & <int>\\\\\n",
       "\\hline\n",
       "\t1 & 1990 & Austria & NA & 0 & 11 years & Eating fruit          & More than once a day & Percent & 239 & units  & ... & NA & NA &  & 0 & 0 & 0 & 1 & 0 & 0 & 0\\\\\n",
       "\t2 & 1990 & Austria & NA & 0 & 11 years & Eating fruit          & Once a day           & Percent & 239 & units  & ... & NA & NA &  & 0 & 0 & 0 & 0 & 0 & 1 & 0\\\\\n",
       "\t3 & 1990 & Austria & NA & 0 & 11 years & Eating fruit          & At least once a week & Percent & 239 & units  & ... & NA & NA &  & 0 & 0 & 1 & 0 & 0 & 0 & 0\\\\\n",
       "\t4 & 1990 & Austria & NA & 0 & 11 years & Eating fruit          & Seldom               & Percent & 239 & units  & ... & NA & NA &  & 0 & 0 & 0 & 0 & 0 & 0 & 1\\\\\n",
       "\t5 & 1990 & Austria & NA & 0 & 11 years & Eating fruit          & Never                & Percent & 239 & units  & ... & NA & NA &  & 0 & 0 & 0 & 0 & 1 & 0 & 0\\\\\n",
       "\t6 & 1990 & Austria & NA & 0 & 11 years & Eating raw vegetables & More than once a day & Percent & 239 & units  & ... & NA & NA &  & 0 & 0 & 0 & 1 & 0 & 0 & 0\\\\\n",
       "\\end{tabular}\n"
      ],
      "text/markdown": [
       "\n",
       "A data.frame: 6 × 24\n",
       "\n",
       "| <!--/--> | REF_DATE &lt;int&gt; | GEO &lt;chr&gt; | DGUID &lt;lgl&gt; | Sex &lt;chr&gt; | Age.group &lt;chr&gt; | Activity &lt;chr&gt; | Frequency &lt;chr&gt; | UOM &lt;chr&gt; | UOM_ID &lt;int&gt; | SCALAR_FACTOR &lt;chr&gt; | ... ... | STATUS &lt;lgl&gt; | SYMBOL &lt;lgl&gt; | TERMINATED &lt;chr&gt; | DECIMALS &lt;int&gt; | JunkFood &lt;dbl&gt; | Frequency_At least once a week &lt;int&gt; | Frequency_More than once a day &lt;int&gt; | Frequency_Never &lt;int&gt; | Frequency_Once a day &lt;int&gt; | Frequency_Seldom &lt;int&gt; |\n",
       "|---|---|---|---|---|---|---|---|---|---|---|---|---|---|---|---|---|---|---|---|---|---|\n",
       "| 1 | 1990 | Austria | NA | 0 | 11 years | Eating fruit          | More than once a day | Percent | 239 | units  | ... | NA | NA | <!----> | 0 | 0 | 0 | 1 | 0 | 0 | 0 |\n",
       "| 2 | 1990 | Austria | NA | 0 | 11 years | Eating fruit          | Once a day           | Percent | 239 | units  | ... | NA | NA | <!----> | 0 | 0 | 0 | 0 | 0 | 1 | 0 |\n",
       "| 3 | 1990 | Austria | NA | 0 | 11 years | Eating fruit          | At least once a week | Percent | 239 | units  | ... | NA | NA | <!----> | 0 | 0 | 1 | 0 | 0 | 0 | 0 |\n",
       "| 4 | 1990 | Austria | NA | 0 | 11 years | Eating fruit          | Seldom               | Percent | 239 | units  | ... | NA | NA | <!----> | 0 | 0 | 0 | 0 | 0 | 0 | 1 |\n",
       "| 5 | 1990 | Austria | NA | 0 | 11 years | Eating fruit          | Never                | Percent | 239 | units  | ... | NA | NA | <!----> | 0 | 0 | 0 | 0 | 1 | 0 | 0 |\n",
       "| 6 | 1990 | Austria | NA | 0 | 11 years | Eating raw vegetables | More than once a day | Percent | 239 | units  | ... | NA | NA | <!----> | 0 | 0 | 0 | 1 | 0 | 0 | 0 |\n",
       "\n"
      ],
      "text/plain": [
       "  REF_DATE GEO     DGUID Sex Age.group Activity             \n",
       "1 1990     Austria NA    0   11 years  Eating fruit         \n",
       "2 1990     Austria NA    0   11 years  Eating fruit         \n",
       "3 1990     Austria NA    0   11 years  Eating fruit         \n",
       "4 1990     Austria NA    0   11 years  Eating fruit         \n",
       "5 1990     Austria NA    0   11 years  Eating fruit         \n",
       "6 1990     Austria NA    0   11 years  Eating raw vegetables\n",
       "  Frequency            UOM     UOM_ID SCALAR_FACTOR ... STATUS SYMBOL\n",
       "1 More than once a day Percent 239    units         ... NA     NA    \n",
       "2 Once a day           Percent 239    units         ... NA     NA    \n",
       "3 At least once a week Percent 239    units         ... NA     NA    \n",
       "4 Seldom               Percent 239    units         ... NA     NA    \n",
       "5 Never                Percent 239    units         ... NA     NA    \n",
       "6 More than once a day Percent 239    units         ... NA     NA    \n",
       "  TERMINATED DECIMALS JunkFood Frequency_At least once a week\n",
       "1            0        0        0                             \n",
       "2            0        0        0                             \n",
       "3            0        0        1                             \n",
       "4            0        0        0                             \n",
       "5            0        0        0                             \n",
       "6            0        0        0                             \n",
       "  Frequency_More than once a day Frequency_Never Frequency_Once a day\n",
       "1 1                              0               0                   \n",
       "2 0                              0               1                   \n",
       "3 0                              0               0                   \n",
       "4 0                              0               0                   \n",
       "5 0                              1               0                   \n",
       "6 1                              0               0                   \n",
       "  Frequency_Seldom\n",
       "1 0               \n",
       "2 0               \n",
       "3 0               \n",
       "4 1               \n",
       "5 0               \n",
       "6 0               "
      ]
     },
     "metadata": {},
     "output_type": "display_data"
    }
   ],
   "source": [
    "head(eatingHabits)"
   ]
  },
  {
   "cell_type": "code",
   "execution_count": null,
   "id": "09906312",
   "metadata": {},
   "outputs": [],
   "source": []
  }
 ],
 "metadata": {
  "kernelspec": {
   "display_name": "R",
   "language": "R",
   "name": "ir"
  },
  "language_info": {
   "codemirror_mode": "r",
   "file_extension": ".r",
   "mimetype": "text/x-r-source",
   "name": "R",
   "pygments_lexer": "r",
   "version": "4.1.1"
  }
 },
 "nbformat": 4,
 "nbformat_minor": 5
}
