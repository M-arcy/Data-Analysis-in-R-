{
 "cells": [
  {
   "cell_type": "code",
   "execution_count": 48,
   "id": "a3f3285e",
   "metadata": {},
   "outputs": [
    {
     "name": "stderr",
     "output_type": "stream",
     "text": [
      "\n",
      "Attaching package: 'dplyr'\n",
      "\n",
      "\n",
      "The following object is masked from 'package:car':\n",
      "\n",
      "    recode\n",
      "\n",
      "\n",
      "The following objects are masked from 'package:stats':\n",
      "\n",
      "    filter, lag\n",
      "\n",
      "\n",
      "The following objects are masked from 'package:base':\n",
      "\n",
      "    intersect, setdiff, setequal, union\n",
      "\n",
      "\n"
     ]
    }
   ],
   "source": [
    "library(\"mvnormtest\")\n",
    "library(\"car\")\n",
    "library(\"IDPmisc\")\n",
    "library(\"dplyr\")\n",
    "library(\"rcompanion\")"
   ]
  },
  {
   "cell_type": "code",
   "execution_count": 4,
   "id": "23da5d5f",
   "metadata": {},
   "outputs": [],
   "source": [
    "heartattacks <- read.csv(\"C:/Users/Marcy/Documents/Entity Coursework/DSO 105 Basic Stats in Python/Lesson 8 MANOVAS/heartAttacks.csv\")"
   ]
  },
  {
   "cell_type": "markdown",
   "id": "ab3c229d",
   "metadata": {},
   "source": [
    "## It is well-known that men are more likely to have heart attacks than women. How does gender (sex) influence some of the heart attack predictors like resting blood pressure (trestbps) and cholesterol (chol)?"
   ]
  },
  {
   "cell_type": "markdown",
   "id": "74568d70",
   "metadata": {},
   "source": [
    "#### data Wrangling first"
   ]
  },
  {
   "cell_type": "code",
   "execution_count": 30,
   "id": "6243e301",
   "metadata": {},
   "outputs": [
    {
     "name": "stdout",
     "output_type": "stream",
     "text": [
      " int [1:303] 145 130 130 120 120 140 140 120 172 150 ...\n"
     ]
    }
   ],
   "source": [
    "str(heartattacks$trestbps)"
   ]
  },
  {
   "cell_type": "code",
   "execution_count": 31,
   "id": "eb35e8f3",
   "metadata": {},
   "outputs": [
    {
     "name": "stdout",
     "output_type": "stream",
     "text": [
      " int [1:303] 233 250 204 236 354 192 294 263 199 168 ...\n"
     ]
    }
   ],
   "source": [
    "str(heartattacks$chol)"
   ]
  },
  {
   "cell_type": "markdown",
   "id": "826505f6",
   "metadata": {},
   "source": [
    "#### both integers. good. "
   ]
  },
  {
   "cell_type": "code",
   "execution_count": 32,
   "id": "962cb6fd",
   "metadata": {},
   "outputs": [
    {
     "data": {
      "text/html": [
       "<table class=\"dataframe\">\n",
       "<caption>A data.frame: 6 × 14</caption>\n",
       "<thead>\n",
       "\t<tr><th></th><th scope=col>ï..age</th><th scope=col>sex</th><th scope=col>cp</th><th scope=col>trestbps</th><th scope=col>chol</th><th scope=col>fbs</th><th scope=col>restecg</th><th scope=col>thalach</th><th scope=col>exang</th><th scope=col>oldpeak</th><th scope=col>slope</th><th scope=col>ca</th><th scope=col>thal</th><th scope=col>target</th></tr>\n",
       "\t<tr><th></th><th scope=col>&lt;int&gt;</th><th scope=col>&lt;int&gt;</th><th scope=col>&lt;int&gt;</th><th scope=col>&lt;int&gt;</th><th scope=col>&lt;int&gt;</th><th scope=col>&lt;int&gt;</th><th scope=col>&lt;int&gt;</th><th scope=col>&lt;int&gt;</th><th scope=col>&lt;int&gt;</th><th scope=col>&lt;dbl&gt;</th><th scope=col>&lt;int&gt;</th><th scope=col>&lt;int&gt;</th><th scope=col>&lt;int&gt;</th><th scope=col>&lt;int&gt;</th></tr>\n",
       "</thead>\n",
       "<tbody>\n",
       "\t<tr><th scope=row>298</th><td>59</td><td>1</td><td>0</td><td>164</td><td>176</td><td>1</td><td>0</td><td> 90</td><td>0</td><td>1.0</td><td>1</td><td>2</td><td>1</td><td>0</td></tr>\n",
       "\t<tr><th scope=row>299</th><td>57</td><td>0</td><td>0</td><td>140</td><td>241</td><td>0</td><td>1</td><td>123</td><td>1</td><td>0.2</td><td>1</td><td>0</td><td>3</td><td>0</td></tr>\n",
       "\t<tr><th scope=row>300</th><td>45</td><td>1</td><td>3</td><td>110</td><td>264</td><td>0</td><td>1</td><td>132</td><td>0</td><td>1.2</td><td>1</td><td>0</td><td>3</td><td>0</td></tr>\n",
       "\t<tr><th scope=row>301</th><td>68</td><td>1</td><td>0</td><td>144</td><td>193</td><td>1</td><td>1</td><td>141</td><td>0</td><td>3.4</td><td>1</td><td>2</td><td>3</td><td>0</td></tr>\n",
       "\t<tr><th scope=row>302</th><td>57</td><td>1</td><td>0</td><td>130</td><td>131</td><td>0</td><td>1</td><td>115</td><td>1</td><td>1.2</td><td>1</td><td>1</td><td>3</td><td>0</td></tr>\n",
       "\t<tr><th scope=row>303</th><td>57</td><td>0</td><td>1</td><td>130</td><td>236</td><td>0</td><td>0</td><td>174</td><td>0</td><td>0.0</td><td>1</td><td>1</td><td>2</td><td>0</td></tr>\n",
       "</tbody>\n",
       "</table>\n"
      ],
      "text/latex": [
       "A data.frame: 6 × 14\n",
       "\\begin{tabular}{r|llllllllllllll}\n",
       "  & ï..age & sex & cp & trestbps & chol & fbs & restecg & thalach & exang & oldpeak & slope & ca & thal & target\\\\\n",
       "  & <int> & <int> & <int> & <int> & <int> & <int> & <int> & <int> & <int> & <dbl> & <int> & <int> & <int> & <int>\\\\\n",
       "\\hline\n",
       "\t298 & 59 & 1 & 0 & 164 & 176 & 1 & 0 &  90 & 0 & 1.0 & 1 & 2 & 1 & 0\\\\\n",
       "\t299 & 57 & 0 & 0 & 140 & 241 & 0 & 1 & 123 & 1 & 0.2 & 1 & 0 & 3 & 0\\\\\n",
       "\t300 & 45 & 1 & 3 & 110 & 264 & 0 & 1 & 132 & 0 & 1.2 & 1 & 0 & 3 & 0\\\\\n",
       "\t301 & 68 & 1 & 0 & 144 & 193 & 1 & 1 & 141 & 0 & 3.4 & 1 & 2 & 3 & 0\\\\\n",
       "\t302 & 57 & 1 & 0 & 130 & 131 & 0 & 1 & 115 & 1 & 1.2 & 1 & 1 & 3 & 0\\\\\n",
       "\t303 & 57 & 0 & 1 & 130 & 236 & 0 & 0 & 174 & 0 & 0.0 & 1 & 1 & 2 & 0\\\\\n",
       "\\end{tabular}\n"
      ],
      "text/markdown": [
       "\n",
       "A data.frame: 6 × 14\n",
       "\n",
       "| <!--/--> | ï..age &lt;int&gt; | sex &lt;int&gt; | cp &lt;int&gt; | trestbps &lt;int&gt; | chol &lt;int&gt; | fbs &lt;int&gt; | restecg &lt;int&gt; | thalach &lt;int&gt; | exang &lt;int&gt; | oldpeak &lt;dbl&gt; | slope &lt;int&gt; | ca &lt;int&gt; | thal &lt;int&gt; | target &lt;int&gt; |\n",
       "|---|---|---|---|---|---|---|---|---|---|---|---|---|---|---|\n",
       "| 298 | 59 | 1 | 0 | 164 | 176 | 1 | 0 |  90 | 0 | 1.0 | 1 | 2 | 1 | 0 |\n",
       "| 299 | 57 | 0 | 0 | 140 | 241 | 0 | 1 | 123 | 1 | 0.2 | 1 | 0 | 3 | 0 |\n",
       "| 300 | 45 | 1 | 3 | 110 | 264 | 0 | 1 | 132 | 0 | 1.2 | 1 | 0 | 3 | 0 |\n",
       "| 301 | 68 | 1 | 0 | 144 | 193 | 1 | 1 | 141 | 0 | 3.4 | 1 | 2 | 3 | 0 |\n",
       "| 302 | 57 | 1 | 0 | 130 | 131 | 0 | 1 | 115 | 1 | 1.2 | 1 | 1 | 3 | 0 |\n",
       "| 303 | 57 | 0 | 1 | 130 | 236 | 0 | 0 | 174 | 0 | 0.0 | 1 | 1 | 2 | 0 |\n",
       "\n"
      ],
      "text/plain": [
       "    ï..age sex cp trestbps chol fbs restecg thalach exang oldpeak slope ca thal\n",
       "298 59     1   0  164      176  1   0        90     0     1.0     1     2  1   \n",
       "299 57     0   0  140      241  0   1       123     1     0.2     1     0  3   \n",
       "300 45     1   3  110      264  0   1       132     0     1.2     1     0  3   \n",
       "301 68     1   0  144      193  1   1       141     0     3.4     1     2  3   \n",
       "302 57     1   0  130      131  0   1       115     1     1.2     1     1  3   \n",
       "303 57     0   1  130      236  0   0       174     0     0.0     1     1  2   \n",
       "    target\n",
       "298 0     \n",
       "299 0     \n",
       "300 0     \n",
       "301 0     \n",
       "302 0     \n",
       "303 0     "
      ]
     },
     "metadata": {},
     "output_type": "display_data"
    }
   ],
   "source": [
    "tail(heartattacks)"
   ]
  },
  {
   "cell_type": "markdown",
   "id": "c7d5bb82",
   "metadata": {},
   "source": [
    "#### sample size assumption is met"
   ]
  },
  {
   "cell_type": "markdown",
   "id": "c030f049",
   "metadata": {},
   "source": [
    "#### subset the two dependent variables"
   ]
  },
  {
   "cell_type": "code",
   "execution_count": 33,
   "id": "f6138156",
   "metadata": {},
   "outputs": [],
   "source": [
    "keep <- c(\"trestbps\", \"chol\")\n",
    "heartattacks1 <- heartattacks[keep]"
   ]
  },
  {
   "cell_type": "markdown",
   "id": "0500eb3a",
   "metadata": {},
   "source": [
    "#### no need to limit the number of rows here. "
   ]
  },
  {
   "cell_type": "markdown",
   "id": "8f375556",
   "metadata": {},
   "source": [
    "#### format as a matrix"
   ]
  },
  {
   "cell_type": "code",
   "execution_count": 34,
   "id": "0c8d1e79",
   "metadata": {},
   "outputs": [],
   "source": [
    "heartattacks2 <- as.matrix(heartattacks1)"
   ]
  },
  {
   "cell_type": "markdown",
   "id": "1c3a5ad5",
   "metadata": {},
   "source": [
    "#### test assumptions - already got sample size. next is multivariate normality"
   ]
  },
  {
   "cell_type": "code",
   "execution_count": 35,
   "id": "645feb6c",
   "metadata": {},
   "outputs": [
    {
     "data": {
      "text/plain": [
       "\n",
       "\tShapiro-Wilk normality test\n",
       "\n",
       "data:  Z\n",
       "W = 0.94568, p-value = 3.93e-09\n"
      ]
     },
     "metadata": {},
     "output_type": "display_data"
    }
   ],
   "source": [
    "mshapiro.test(t(heartattacks2))"
   ]
  },
  {
   "cell_type": "markdown",
   "id": "1f94c4db",
   "metadata": {},
   "source": [
    "#### p value is significant >.05, but we'll proceed with Homogeneity of Variance"
   ]
  },
  {
   "cell_type": "code",
   "execution_count": 37,
   "id": "190b5cb8",
   "metadata": {},
   "outputs": [
    {
     "ename": "ERROR",
     "evalue": "Error in eval(expr, envir, enclos): 'language' object cannot be coerced to type 'double'\n",
     "output_type": "error",
     "traceback": [
      "Error in eval(expr, envir, enclos): 'language' object cannot be coerced to type 'double'\nTraceback:\n"
     ]
    }
   ],
   "source": [
    "heartattacks2$trestbps <- as.numeric(heartattacks2 ~ trestbps)"
   ]
  },
  {
   "cell_type": "code",
   "execution_count": 38,
   "id": "ef46404c",
   "metadata": {},
   "outputs": [
    {
     "ename": "ERROR",
     "evalue": "Error in eval(expr, envir, enclos): 'language' object cannot be coerced to type 'double'\n",
     "output_type": "error",
     "traceback": [
      "Error in eval(expr, envir, enclos): 'language' object cannot be coerced to type 'double'\nTraceback:\n"
     ]
    }
   ],
   "source": [
    "heartattacks2$trestbps <- as.numeric(heartattacks2 ~ trestbps)"
   ]
  },
  {
   "cell_type": "code",
   "execution_count": 39,
   "id": "07a0d699",
   "metadata": {},
   "outputs": [
    {
     "ename": "ERROR",
     "evalue": "Error in unique.default(x, nmax = nmax): unique() applies only to vectors\n",
     "output_type": "error",
     "traceback": [
      "Error in unique.default(x, nmax = nmax): unique() applies only to vectors\nTraceback:\n",
      "1. as.factor(heartattacks2 ~ trestbps)",
      "2. factor(x)",
      "3. unique(x, nmax = nmax)",
      "4. unique.default(x, nmax = nmax)"
     ]
    }
   ],
   "source": [
    "heartattacks2$trestbps <- as.factor(heartattacks2 ~ trestbps)\n"
   ]
  },
  {
   "cell_type": "code",
   "execution_count": 40,
   "id": "c289ca1c",
   "metadata": {},
   "outputs": [
    {
     "ename": "ERROR",
     "evalue": "Error in unique.default(x, nmax = nmax): unique() applies only to vectors\n",
     "output_type": "error",
     "traceback": [
      "Error in unique.default(x, nmax = nmax): unique() applies only to vectors\nTraceback:\n",
      "1. as.factor(heartattacks ~ chol)",
      "2. factor(x)",
      "3. unique(x, nmax = nmax)",
      "4. unique.default(x, nmax = nmax)"
     ]
    }
   ],
   "source": [
    "heartattacks$chol <- as.factor(heartattacks ~ chol)"
   ]
  },
  {
   "cell_type": "code",
   "execution_count": 41,
   "id": "ede0a739",
   "metadata": {},
   "outputs": [
    {
     "ename": "ERROR",
     "evalue": "Error in leveneTest.formula(trestbps ~ sex, data = heartattacks): Levene's test is not appropriate with quantitative explanatory variables.\n",
     "output_type": "error",
     "traceback": [
      "Error in leveneTest.formula(trestbps ~ sex, data = heartattacks): Levene's test is not appropriate with quantitative explanatory variables.\nTraceback:\n",
      "1. leveneTest(trestbps ~ sex, data = heartattacks)",
      "2. leveneTest.formula(trestbps ~ sex, data = heartattacks)",
      "3. stop(\"Levene's test is not appropriate with quantitative explanatory variables.\")"
     ]
    }
   ],
   "source": [
    "leveneTest(trestbps ~ sex, data=heartattacks)"
   ]
  },
  {
   "cell_type": "markdown",
   "id": "cba709e6",
   "metadata": {},
   "source": [
    "### FYI LeveneTest has thrown an error EVERY time I've run it in lessons 7 and 8. we don't know why."
   ]
  },
  {
   "cell_type": "code",
   "execution_count": 42,
   "id": "f58411bf",
   "metadata": {},
   "outputs": [
    {
     "ename": "ERROR",
     "evalue": "Error in leveneTest.formula(chol ~ sex, data = heartattacks): Levene's test is not appropriate with quantitative explanatory variables.\n",
     "output_type": "error",
     "traceback": [
      "Error in leveneTest.formula(chol ~ sex, data = heartattacks): Levene's test is not appropriate with quantitative explanatory variables.\nTraceback:\n",
      "1. leveneTest(chol ~ sex, data = heartattacks)",
      "2. leveneTest.formula(chol ~ sex, data = heartattacks)",
      "3. stop(\"Levene's test is not appropriate with quantitative explanatory variables.\")"
     ]
    }
   ],
   "source": [
    "leveneTest(chol ~ sex, data=heartattacks)"
   ]
  },
  {
   "cell_type": "markdown",
   "id": "5682af3b",
   "metadata": {},
   "source": [
    "#### absence of multicollinearity"
   ]
  },
  {
   "cell_type": "code",
   "execution_count": 43,
   "id": "a32bf314",
   "metadata": {},
   "outputs": [
    {
     "data": {
      "text/plain": [
       "\n",
       "\tPearson's product-moment correlation\n",
       "\n",
       "data:  heartattacks$trestbps and heartattacks$chol\n",
       "t = 2.1534, df = 301, p-value = 0.03208\n",
       "alternative hypothesis: true correlation is not equal to 0\n",
       "95 percent confidence interval:\n",
       " 0.01064389 0.23262366\n",
       "sample estimates:\n",
       "      cor \n",
       "0.1231742 \n"
      ]
     },
     "metadata": {},
     "output_type": "display_data"
    }
   ],
   "source": [
    "cor.test(heartattacks$trestbps, heartattacks$chol, method = \"pearson\", use=\"complete.obs\")"
   ]
  },
  {
   "cell_type": "markdown",
   "id": "568c4972",
   "metadata": {},
   "source": [
    "### with a correlation of .12, that's <.7, so the dependent variables are not strongly correlated - in other words there isn't a significant relationship between the dependent variables, so there IS an absence of multicollinearity and the assumption is met. "
   ]
  },
  {
   "cell_type": "markdown",
   "id": "0c97fe8f",
   "metadata": {},
   "source": [
    "### Now to run the MANOVA"
   ]
  },
  {
   "cell_type": "code",
   "execution_count": 44,
   "id": "be142ca0",
   "metadata": {},
   "outputs": [
    {
     "data": {
      "text/plain": [
       "           Df   Pillai approx F num Df den Df   Pr(>F)   \n",
       "sex         1 0.040235   6.2882      2    300 0.002112 **\n",
       "Residuals 301                                            \n",
       "---\n",
       "Signif. codes:  0 '***' 0.001 '**' 0.01 '*' 0.05 '.' 0.1 ' ' 1"
      ]
     },
     "metadata": {},
     "output_type": "display_data"
    }
   ],
   "source": [
    "MANOVA <- manova(cbind(trestbps, chol) ~ sex, data=heartattacks)\n",
    "summary(MANOVA)"
   ]
  },
  {
   "cell_type": "markdown",
   "id": "56ee5d98",
   "metadata": {},
   "source": [
    "### bound the dependent variables together with cbind. in the summary, there isn't a significant difference in resting blood pressure and cholesterol between the sexes, but a moderate one. I'll run a post hoc to see which way that difference lies."
   ]
  },
  {
   "cell_type": "code",
   "execution_count": 45,
   "id": "564ac313",
   "metadata": {},
   "outputs": [
    {
     "data": {
      "text/plain": [
       " Response trestbps :\n",
       "             Df Sum Sq Mean Sq F value Pr(>F)\n",
       "sex           1    299  299.36  0.9732 0.3247\n",
       "Residuals   301  92592  307.61               \n",
       "\n",
       " Response chol :\n",
       "             Df Sum Sq Mean Sq F value  Pr(>F)    \n",
       "sex           1  31778   31778  12.271 0.00053 ***\n",
       "Residuals   301 779523    2590                    \n",
       "---\n",
       "Signif. codes:  0 '***' 0.001 '**' 0.01 '*' 0.05 '.' 0.1 ' ' 1\n"
      ]
     },
     "metadata": {},
     "output_type": "display_data"
    }
   ],
   "source": [
    "summary.aov(MANOVA, test = \"wilks\")"
   ]
  },
  {
   "cell_type": "markdown",
   "id": "81db6b41",
   "metadata": {},
   "source": [
    "### oh, cholesterol IS affected by gender, by quite a bit more than resting blood pressure is affected. Male or female? I'll run a mean to see. "
   ]
  },
  {
   "cell_type": "code",
   "execution_count": 55,
   "id": "a88398e8",
   "metadata": {},
   "outputs": [],
   "source": [
    "gendermeans <- heartattacks %>% group_by(chol) %>% summarize(Mean = mean(sex))"
   ]
  },
  {
   "cell_type": "code",
   "execution_count": 56,
   "id": "2543cea5",
   "metadata": {},
   "outputs": [
    {
     "data": {
      "text/html": [
       "<table class=\"dataframe\">\n",
       "<caption>A tibble: 152 × 2</caption>\n",
       "<thead>\n",
       "\t<tr><th scope=col>chol</th><th scope=col>Mean</th></tr>\n",
       "\t<tr><th scope=col>&lt;int&gt;</th><th scope=col>&lt;dbl&gt;</th></tr>\n",
       "</thead>\n",
       "<tbody>\n",
       "\t<tr><td>126</td><td>1.00</td></tr>\n",
       "\t<tr><td>131</td><td>1.00</td></tr>\n",
       "\t<tr><td>141</td><td>0.00</td></tr>\n",
       "\t<tr><td>149</td><td>0.50</td></tr>\n",
       "\t<tr><td>157</td><td>1.00</td></tr>\n",
       "\t<tr><td>160</td><td>0.00</td></tr>\n",
       "\t<tr><td>164</td><td>0.00</td></tr>\n",
       "\t<tr><td>166</td><td>1.00</td></tr>\n",
       "\t<tr><td>167</td><td>1.00</td></tr>\n",
       "\t<tr><td>168</td><td>1.00</td></tr>\n",
       "\t<tr><td>169</td><td>1.00</td></tr>\n",
       "\t<tr><td>172</td><td>1.00</td></tr>\n",
       "\t<tr><td>174</td><td>1.00</td></tr>\n",
       "\t<tr><td>175</td><td>1.00</td></tr>\n",
       "\t<tr><td>176</td><td>1.00</td></tr>\n",
       "\t<tr><td>177</td><td>0.75</td></tr>\n",
       "\t<tr><td>178</td><td>0.00</td></tr>\n",
       "\t<tr><td>180</td><td>1.00</td></tr>\n",
       "\t<tr><td>182</td><td>1.00</td></tr>\n",
       "\t<tr><td>183</td><td>0.00</td></tr>\n",
       "\t<tr><td>184</td><td>1.00</td></tr>\n",
       "\t<tr><td>185</td><td>1.00</td></tr>\n",
       "\t<tr><td>186</td><td>1.00</td></tr>\n",
       "\t<tr><td>187</td><td>1.00</td></tr>\n",
       "\t<tr><td>188</td><td>1.00</td></tr>\n",
       "\t<tr><td>192</td><td>1.00</td></tr>\n",
       "\t<tr><td>193</td><td>1.00</td></tr>\n",
       "\t<tr><td>195</td><td>0.00</td></tr>\n",
       "\t<tr><td>196</td><td>0.50</td></tr>\n",
       "\t<tr><td>197</td><td>0.50</td></tr>\n",
       "\t<tr><td>...</td><td>...</td></tr>\n",
       "\t<tr><td>303</td><td>0.3333333</td></tr>\n",
       "\t<tr><td>304</td><td>0.5000000</td></tr>\n",
       "\t<tr><td>305</td><td>0.0000000</td></tr>\n",
       "\t<tr><td>306</td><td>0.0000000</td></tr>\n",
       "\t<tr><td>307</td><td>0.0000000</td></tr>\n",
       "\t<tr><td>308</td><td>0.5000000</td></tr>\n",
       "\t<tr><td>309</td><td>1.0000000</td></tr>\n",
       "\t<tr><td>311</td><td>1.0000000</td></tr>\n",
       "\t<tr><td>313</td><td>0.0000000</td></tr>\n",
       "\t<tr><td>315</td><td>1.0000000</td></tr>\n",
       "\t<tr><td>318</td><td>0.5000000</td></tr>\n",
       "\t<tr><td>319</td><td>0.0000000</td></tr>\n",
       "\t<tr><td>321</td><td>1.0000000</td></tr>\n",
       "\t<tr><td>322</td><td>1.0000000</td></tr>\n",
       "\t<tr><td>325</td><td>0.5000000</td></tr>\n",
       "\t<tr><td>326</td><td>1.0000000</td></tr>\n",
       "\t<tr><td>327</td><td>0.0000000</td></tr>\n",
       "\t<tr><td>330</td><td>0.5000000</td></tr>\n",
       "\t<tr><td>335</td><td>1.0000000</td></tr>\n",
       "\t<tr><td>340</td><td>0.0000000</td></tr>\n",
       "\t<tr><td>341</td><td>0.0000000</td></tr>\n",
       "\t<tr><td>342</td><td>0.0000000</td></tr>\n",
       "\t<tr><td>353</td><td>1.0000000</td></tr>\n",
       "\t<tr><td>354</td><td>0.0000000</td></tr>\n",
       "\t<tr><td>360</td><td>0.0000000</td></tr>\n",
       "\t<tr><td>394</td><td>0.0000000</td></tr>\n",
       "\t<tr><td>407</td><td>0.0000000</td></tr>\n",
       "\t<tr><td>409</td><td>0.0000000</td></tr>\n",
       "\t<tr><td>417</td><td>0.0000000</td></tr>\n",
       "\t<tr><td>564</td><td>0.0000000</td></tr>\n",
       "</tbody>\n",
       "</table>\n"
      ],
      "text/latex": [
       "A tibble: 152 × 2\n",
       "\\begin{tabular}{ll}\n",
       " chol & Mean\\\\\n",
       " <int> & <dbl>\\\\\n",
       "\\hline\n",
       "\t 126 & 1.00\\\\\n",
       "\t 131 & 1.00\\\\\n",
       "\t 141 & 0.00\\\\\n",
       "\t 149 & 0.50\\\\\n",
       "\t 157 & 1.00\\\\\n",
       "\t 160 & 0.00\\\\\n",
       "\t 164 & 0.00\\\\\n",
       "\t 166 & 1.00\\\\\n",
       "\t 167 & 1.00\\\\\n",
       "\t 168 & 1.00\\\\\n",
       "\t 169 & 1.00\\\\\n",
       "\t 172 & 1.00\\\\\n",
       "\t 174 & 1.00\\\\\n",
       "\t 175 & 1.00\\\\\n",
       "\t 176 & 1.00\\\\\n",
       "\t 177 & 0.75\\\\\n",
       "\t 178 & 0.00\\\\\n",
       "\t 180 & 1.00\\\\\n",
       "\t 182 & 1.00\\\\\n",
       "\t 183 & 0.00\\\\\n",
       "\t 184 & 1.00\\\\\n",
       "\t 185 & 1.00\\\\\n",
       "\t 186 & 1.00\\\\\n",
       "\t 187 & 1.00\\\\\n",
       "\t 188 & 1.00\\\\\n",
       "\t 192 & 1.00\\\\\n",
       "\t 193 & 1.00\\\\\n",
       "\t 195 & 0.00\\\\\n",
       "\t 196 & 0.50\\\\\n",
       "\t 197 & 0.50\\\\\n",
       "\t ... & ...\\\\\n",
       "\t 303 & 0.3333333\\\\\n",
       "\t 304 & 0.5000000\\\\\n",
       "\t 305 & 0.0000000\\\\\n",
       "\t 306 & 0.0000000\\\\\n",
       "\t 307 & 0.0000000\\\\\n",
       "\t 308 & 0.5000000\\\\\n",
       "\t 309 & 1.0000000\\\\\n",
       "\t 311 & 1.0000000\\\\\n",
       "\t 313 & 0.0000000\\\\\n",
       "\t 315 & 1.0000000\\\\\n",
       "\t 318 & 0.5000000\\\\\n",
       "\t 319 & 0.0000000\\\\\n",
       "\t 321 & 1.0000000\\\\\n",
       "\t 322 & 1.0000000\\\\\n",
       "\t 325 & 0.5000000\\\\\n",
       "\t 326 & 1.0000000\\\\\n",
       "\t 327 & 0.0000000\\\\\n",
       "\t 330 & 0.5000000\\\\\n",
       "\t 335 & 1.0000000\\\\\n",
       "\t 340 & 0.0000000\\\\\n",
       "\t 341 & 0.0000000\\\\\n",
       "\t 342 & 0.0000000\\\\\n",
       "\t 353 & 1.0000000\\\\\n",
       "\t 354 & 0.0000000\\\\\n",
       "\t 360 & 0.0000000\\\\\n",
       "\t 394 & 0.0000000\\\\\n",
       "\t 407 & 0.0000000\\\\\n",
       "\t 409 & 0.0000000\\\\\n",
       "\t 417 & 0.0000000\\\\\n",
       "\t 564 & 0.0000000\\\\\n",
       "\\end{tabular}\n"
      ],
      "text/markdown": [
       "\n",
       "A tibble: 152 × 2\n",
       "\n",
       "| chol &lt;int&gt; | Mean &lt;dbl&gt; |\n",
       "|---|---|\n",
       "| 126 | 1.00 |\n",
       "| 131 | 1.00 |\n",
       "| 141 | 0.00 |\n",
       "| 149 | 0.50 |\n",
       "| 157 | 1.00 |\n",
       "| 160 | 0.00 |\n",
       "| 164 | 0.00 |\n",
       "| 166 | 1.00 |\n",
       "| 167 | 1.00 |\n",
       "| 168 | 1.00 |\n",
       "| 169 | 1.00 |\n",
       "| 172 | 1.00 |\n",
       "| 174 | 1.00 |\n",
       "| 175 | 1.00 |\n",
       "| 176 | 1.00 |\n",
       "| 177 | 0.75 |\n",
       "| 178 | 0.00 |\n",
       "| 180 | 1.00 |\n",
       "| 182 | 1.00 |\n",
       "| 183 | 0.00 |\n",
       "| 184 | 1.00 |\n",
       "| 185 | 1.00 |\n",
       "| 186 | 1.00 |\n",
       "| 187 | 1.00 |\n",
       "| 188 | 1.00 |\n",
       "| 192 | 1.00 |\n",
       "| 193 | 1.00 |\n",
       "| 195 | 0.00 |\n",
       "| 196 | 0.50 |\n",
       "| 197 | 0.50 |\n",
       "| ... | ... |\n",
       "| 303 | 0.3333333 |\n",
       "| 304 | 0.5000000 |\n",
       "| 305 | 0.0000000 |\n",
       "| 306 | 0.0000000 |\n",
       "| 307 | 0.0000000 |\n",
       "| 308 | 0.5000000 |\n",
       "| 309 | 1.0000000 |\n",
       "| 311 | 1.0000000 |\n",
       "| 313 | 0.0000000 |\n",
       "| 315 | 1.0000000 |\n",
       "| 318 | 0.5000000 |\n",
       "| 319 | 0.0000000 |\n",
       "| 321 | 1.0000000 |\n",
       "| 322 | 1.0000000 |\n",
       "| 325 | 0.5000000 |\n",
       "| 326 | 1.0000000 |\n",
       "| 327 | 0.0000000 |\n",
       "| 330 | 0.5000000 |\n",
       "| 335 | 1.0000000 |\n",
       "| 340 | 0.0000000 |\n",
       "| 341 | 0.0000000 |\n",
       "| 342 | 0.0000000 |\n",
       "| 353 | 1.0000000 |\n",
       "| 354 | 0.0000000 |\n",
       "| 360 | 0.0000000 |\n",
       "| 394 | 0.0000000 |\n",
       "| 407 | 0.0000000 |\n",
       "| 409 | 0.0000000 |\n",
       "| 417 | 0.0000000 |\n",
       "| 564 | 0.0000000 |\n",
       "\n"
      ],
      "text/plain": [
       "    chol Mean     \n",
       "1   126  1.00     \n",
       "2   131  1.00     \n",
       "3   141  0.00     \n",
       "4   149  0.50     \n",
       "5   157  1.00     \n",
       "6   160  0.00     \n",
       "7   164  0.00     \n",
       "8   166  1.00     \n",
       "9   167  1.00     \n",
       "10  168  1.00     \n",
       "11  169  1.00     \n",
       "12  172  1.00     \n",
       "13  174  1.00     \n",
       "14  175  1.00     \n",
       "15  176  1.00     \n",
       "16  177  0.75     \n",
       "17  178  0.00     \n",
       "18  180  1.00     \n",
       "19  182  1.00     \n",
       "20  183  0.00     \n",
       "21  184  1.00     \n",
       "22  185  1.00     \n",
       "23  186  1.00     \n",
       "24  187  1.00     \n",
       "25  188  1.00     \n",
       "26  192  1.00     \n",
       "27  193  1.00     \n",
       "28  195  0.00     \n",
       "29  196  0.50     \n",
       "30  197  0.50     \n",
       "... ...  ...      \n",
       "123 303  0.3333333\n",
       "124 304  0.5000000\n",
       "125 305  0.0000000\n",
       "126 306  0.0000000\n",
       "127 307  0.0000000\n",
       "128 308  0.5000000\n",
       "129 309  1.0000000\n",
       "130 311  1.0000000\n",
       "131 313  0.0000000\n",
       "132 315  1.0000000\n",
       "133 318  0.5000000\n",
       "134 319  0.0000000\n",
       "135 321  1.0000000\n",
       "136 322  1.0000000\n",
       "137 325  0.5000000\n",
       "138 326  1.0000000\n",
       "139 327  0.0000000\n",
       "140 330  0.5000000\n",
       "141 335  1.0000000\n",
       "142 340  0.0000000\n",
       "143 341  0.0000000\n",
       "144 342  0.0000000\n",
       "145 353  1.0000000\n",
       "146 354  0.0000000\n",
       "147 360  0.0000000\n",
       "148 394  0.0000000\n",
       "149 407  0.0000000\n",
       "150 409  0.0000000\n",
       "151 417  0.0000000\n",
       "152 564  0.0000000"
      ]
     },
     "metadata": {},
     "output_type": "display_data"
    }
   ],
   "source": [
    "gendermeans"
   ]
  },
  {
   "cell_type": "code",
   "execution_count": null,
   "id": "3d87e576",
   "metadata": {},
   "outputs": [],
   "source": []
  }
 ],
 "metadata": {
  "kernelspec": {
   "display_name": "R",
   "language": "R",
   "name": "ir"
  },
  "language_info": {
   "codemirror_mode": "r",
   "file_extension": ".r",
   "mimetype": "text/x-r-source",
   "name": "R",
   "pygments_lexer": "r",
   "version": "4.1.1"
  }
 },
 "nbformat": 4,
 "nbformat_minor": 5
}
