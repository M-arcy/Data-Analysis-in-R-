{
 "cells": [
  {
   "cell_type": "code",
   "execution_count": 1,
   "id": "2c7a0471",
   "metadata": {},
   "outputs": [
    {
     "name": "stderr",
     "output_type": "stream",
     "text": [
      "Loading required package: carData\n",
      "\n",
      "lattice theme set by effectsTheme()\n",
      "See ?effectsTheme for details.\n",
      "\n",
      "Loading required package: mvtnorm\n",
      "\n",
      "Loading required package: survival\n",
      "\n",
      "Loading required package: TH.data\n",
      "\n",
      "Loading required package: MASS\n",
      "\n",
      "\n",
      "Attaching package: 'TH.data'\n",
      "\n",
      "\n",
      "The following object is masked from 'package:MASS':\n",
      "\n",
      "    geyser\n",
      "\n",
      "\n"
     ]
    }
   ],
   "source": [
    "library(\"rcompanion\") #assessing normality with histograms\n",
    "library(\"car\") ##HoV \n",
    "library(\"effects\") #assists with means adj by covariate\n",
    "library(\"multcomp\") #post hocs with ANCOVAs"
   ]
  },
  {
   "cell_type": "code",
   "execution_count": 12,
   "id": "c6cd8a47",
   "metadata": {},
   "outputs": [],
   "source": [
    "graduate_admissions <- read.csv(\"C:/Users/Marcy/Documents/Entity Coursework/DSO 105 Basic Stats in Python/Lesson 7/graduate_admissions.csv\")"
   ]
  },
  {
   "cell_type": "code",
   "execution_count": 13,
   "id": "c214e7da",
   "metadata": {},
   "outputs": [
    {
     "data": {
      "text/html": [
       "<table class=\"dataframe\">\n",
       "<caption>A data.frame: 6 × 9</caption>\n",
       "<thead>\n",
       "\t<tr><th></th><th scope=col>Serial.No.</th><th scope=col>GRE.Score</th><th scope=col>TOEFL.Score</th><th scope=col>University.Rating</th><th scope=col>SOP</th><th scope=col>LOR</th><th scope=col>CGPA</th><th scope=col>Research</th><th scope=col>Chance.of.Admit</th></tr>\n",
       "\t<tr><th></th><th scope=col>&lt;int&gt;</th><th scope=col>&lt;int&gt;</th><th scope=col>&lt;int&gt;</th><th scope=col>&lt;int&gt;</th><th scope=col>&lt;dbl&gt;</th><th scope=col>&lt;dbl&gt;</th><th scope=col>&lt;dbl&gt;</th><th scope=col>&lt;int&gt;</th><th scope=col>&lt;dbl&gt;</th></tr>\n",
       "</thead>\n",
       "<tbody>\n",
       "\t<tr><th scope=row>1</th><td>1</td><td>337</td><td>118</td><td>4</td><td>4.5</td><td>4.5</td><td>9.65</td><td>1</td><td>0.92</td></tr>\n",
       "\t<tr><th scope=row>2</th><td>2</td><td>324</td><td>107</td><td>4</td><td>4.0</td><td>4.5</td><td>8.87</td><td>1</td><td>0.76</td></tr>\n",
       "\t<tr><th scope=row>3</th><td>3</td><td>316</td><td>104</td><td>3</td><td>3.0</td><td>3.5</td><td>8.00</td><td>1</td><td>0.72</td></tr>\n",
       "\t<tr><th scope=row>4</th><td>4</td><td>322</td><td>110</td><td>3</td><td>3.5</td><td>2.5</td><td>8.67</td><td>1</td><td>0.80</td></tr>\n",
       "\t<tr><th scope=row>5</th><td>5</td><td>314</td><td>103</td><td>2</td><td>2.0</td><td>3.0</td><td>8.21</td><td>0</td><td>0.65</td></tr>\n",
       "\t<tr><th scope=row>6</th><td>6</td><td>330</td><td>115</td><td>5</td><td>4.5</td><td>3.0</td><td>9.34</td><td>1</td><td>0.90</td></tr>\n",
       "</tbody>\n",
       "</table>\n"
      ],
      "text/latex": [
       "A data.frame: 6 × 9\n",
       "\\begin{tabular}{r|lllllllll}\n",
       "  & Serial.No. & GRE.Score & TOEFL.Score & University.Rating & SOP & LOR & CGPA & Research & Chance.of.Admit\\\\\n",
       "  & <int> & <int> & <int> & <int> & <dbl> & <dbl> & <dbl> & <int> & <dbl>\\\\\n",
       "\\hline\n",
       "\t1 & 1 & 337 & 118 & 4 & 4.5 & 4.5 & 9.65 & 1 & 0.92\\\\\n",
       "\t2 & 2 & 324 & 107 & 4 & 4.0 & 4.5 & 8.87 & 1 & 0.76\\\\\n",
       "\t3 & 3 & 316 & 104 & 3 & 3.0 & 3.5 & 8.00 & 1 & 0.72\\\\\n",
       "\t4 & 4 & 322 & 110 & 3 & 3.5 & 2.5 & 8.67 & 1 & 0.80\\\\\n",
       "\t5 & 5 & 314 & 103 & 2 & 2.0 & 3.0 & 8.21 & 0 & 0.65\\\\\n",
       "\t6 & 6 & 330 & 115 & 5 & 4.5 & 3.0 & 9.34 & 1 & 0.90\\\\\n",
       "\\end{tabular}\n"
      ],
      "text/markdown": [
       "\n",
       "A data.frame: 6 × 9\n",
       "\n",
       "| <!--/--> | Serial.No. &lt;int&gt; | GRE.Score &lt;int&gt; | TOEFL.Score &lt;int&gt; | University.Rating &lt;int&gt; | SOP &lt;dbl&gt; | LOR &lt;dbl&gt; | CGPA &lt;dbl&gt; | Research &lt;int&gt; | Chance.of.Admit &lt;dbl&gt; |\n",
       "|---|---|---|---|---|---|---|---|---|---|\n",
       "| 1 | 1 | 337 | 118 | 4 | 4.5 | 4.5 | 9.65 | 1 | 0.92 |\n",
       "| 2 | 2 | 324 | 107 | 4 | 4.0 | 4.5 | 8.87 | 1 | 0.76 |\n",
       "| 3 | 3 | 316 | 104 | 3 | 3.0 | 3.5 | 8.00 | 1 | 0.72 |\n",
       "| 4 | 4 | 322 | 110 | 3 | 3.5 | 2.5 | 8.67 | 1 | 0.80 |\n",
       "| 5 | 5 | 314 | 103 | 2 | 2.0 | 3.0 | 8.21 | 0 | 0.65 |\n",
       "| 6 | 6 | 330 | 115 | 5 | 4.5 | 3.0 | 9.34 | 1 | 0.90 |\n",
       "\n"
      ],
      "text/plain": [
       "  Serial.No. GRE.Score TOEFL.Score University.Rating SOP LOR CGPA Research\n",
       "1 1          337       118         4                 4.5 4.5 9.65 1       \n",
       "2 2          324       107         4                 4.0 4.5 8.87 1       \n",
       "3 3          316       104         3                 3.0 3.5 8.00 1       \n",
       "4 4          322       110         3                 3.5 2.5 8.67 1       \n",
       "5 5          314       103         2                 2.0 3.0 8.21 0       \n",
       "6 6          330       115         5                 4.5 3.0 9.34 1       \n",
       "  Chance.of.Admit\n",
       "1 0.92           \n",
       "2 0.76           \n",
       "3 0.72           \n",
       "4 0.80           \n",
       "5 0.65           \n",
       "6 0.90           "
      ]
     },
     "metadata": {},
     "output_type": "display_data"
    }
   ],
   "source": [
    "head(graduate_admissions)"
   ]
  },
  {
   "cell_type": "markdown",
   "id": "f9ce090d",
   "metadata": {},
   "source": [
    "#### predict a student's college GPA (CGPA), holding the TOEFL Score (TOEFL_Score) constant and using their university's rating (University.Rating) as as a predictor."
   ]
  },
  {
   "cell_type": "markdown",
   "id": "227a3889",
   "metadata": {},
   "source": [
    "#### Test assumptions"
   ]
  },
  {
   "cell_type": "code",
   "execution_count": 14,
   "id": "b6c27293",
   "metadata": {},
   "outputs": [
    {
     "data": {
      "image/png": "[encoded data removed]",
      "text/plain": [
       "Plot with title \"\""
      ]
     },
     "metadata": {
      "image/png": {
       "height": 420,
       "width": 420
      }
     },
     "output_type": "display_data"
    }
   ],
   "source": [
    "plotNormalHistogram(graduate_admissions$CGPA)"
   ]
  },
  {
   "cell_type": "code",
   "execution_count": 15,
   "id": "0aa26e70",
   "metadata": {},
   "outputs": [
    {
     "data": {
      "image/png": "[encoded data removed]",
      "text/plain": [
       "Plot with title \"\""
      ]
     },
     "metadata": {
      "image/png": {
       "height": 420,
       "width": 420
      }
     },
     "output_type": "display_data"
    }
   ],
   "source": [
    "graduate_admissions$CGPAsq <- graduate_admissions$CGPA * graduate_admissions$CGPA\n",
    "plotNormalHistogram(graduate_admissions$CGPAsq)"
   ]
  },
  {
   "cell_type": "markdown",
   "id": "9f5fdf29",
   "metadata": {},
   "source": [
    "#### Now to check TOEFL score"
   ]
  },
  {
   "cell_type": "code",
   "execution_count": 16,
   "id": "a488be01",
   "metadata": {},
   "outputs": [
    {
     "data": {
      "image/png": "[encoded data removed]",
      "text/plain": [
       "Plot with title \"\""
      ]
     },
     "metadata": {
      "image/png": {
       "height": 420,
       "width": 420
      }
     },
     "output_type": "display_data"
    }
   ],
   "source": [
    "plotNormalHistogram(graduate_admissions$TOEFL.Score)"
   ]
  },
  {
   "cell_type": "markdown",
   "id": "070e53b5",
   "metadata": {},
   "source": [
    "#### Looks good!"
   ]
  },
  {
   "cell_type": "markdown",
   "id": "9d61597b",
   "metadata": {},
   "source": [
    "#### test for homogeneity of variance assumption"
   ]
  },
  {
   "cell_type": "code",
   "execution_count": 19,
   "id": "0fb2a310",
   "metadata": {},
   "outputs": [],
   "source": [
    "graduate_admissions$CGPA <- as.integer(graduate_admissions$CGPA)"
   ]
  },
  {
   "cell_type": "code",
   "execution_count": 20,
   "id": "2b364d1f",
   "metadata": {},
   "outputs": [
    {
     "ename": "ERROR",
     "evalue": "Error in leveneTest.formula(CGPAsq ~ University.Rating, data = graduate_admissions): Levene's test is not appropriate with quantitative explanatory variables.\n",
     "output_type": "error",
     "traceback": [
      "Error in leveneTest.formula(CGPAsq ~ University.Rating, data = graduate_admissions): Levene's test is not appropriate with quantitative explanatory variables.\nTraceback:\n",
      "1. leveneTest(CGPAsq ~ University.Rating, data = graduate_admissions)",
      "2. leveneTest.formula(CGPAsq ~ University.Rating, data = graduate_admissions)",
      "3. stop(\"Levene's test is not appropriate with quantitative explanatory variables.\")"
     ]
    }
   ],
   "source": [
    "leveneTest(CGPAsq~University.Rating, data=graduate_admissions)"
   ]
  },
  {
   "cell_type": "code",
   "execution_count": 21,
   "id": "a02f7262",
   "metadata": {},
   "outputs": [
    {
     "data": {
      "text/html": [
       "<table class=\"dataframe\">\n",
       "<caption>A anova: 2 × 5</caption>\n",
       "<thead>\n",
       "\t<tr><th></th><th scope=col>Df</th><th scope=col>Sum Sq</th><th scope=col>Mean Sq</th><th scope=col>F value</th><th scope=col>Pr(&gt;F)</th></tr>\n",
       "\t<tr><th></th><th scope=col>&lt;int&gt;</th><th scope=col>&lt;dbl&gt;</th><th scope=col>&lt;dbl&gt;</th><th scope=col>&lt;dbl&gt;</th><th scope=col>&lt;dbl&gt;</th></tr>\n",
       "</thead>\n",
       "<tbody>\n",
       "\t<tr><th scope=row>TOEFL.Score</th><td>  1</td><td>98.75439</td><td>98.7543940</td><td>549.3786</td><td>5.858855e-77</td></tr>\n",
       "\t<tr><th scope=row>Residuals</th><td>398</td><td>71.54311</td><td> 0.1797565</td><td>      NA</td><td>          NA</td></tr>\n",
       "</tbody>\n",
       "</table>\n"
      ],
      "text/latex": [
       "A anova: 2 × 5\n",
       "\\begin{tabular}{r|lllll}\n",
       "  & Df & Sum Sq & Mean Sq & F value & Pr(>F)\\\\\n",
       "  & <int> & <dbl> & <dbl> & <dbl> & <dbl>\\\\\n",
       "\\hline\n",
       "\tTOEFL.Score &   1 & 98.75439 & 98.7543940 & 549.3786 & 5.858855e-77\\\\\n",
       "\tResiduals & 398 & 71.54311 &  0.1797565 &       NA &           NA\\\\\n",
       "\\end{tabular}\n"
      ],
      "text/markdown": [
       "\n",
       "A anova: 2 × 5\n",
       "\n",
       "| <!--/--> | Df &lt;int&gt; | Sum Sq &lt;dbl&gt; | Mean Sq &lt;dbl&gt; | F value &lt;dbl&gt; | Pr(&gt;F) &lt;dbl&gt; |\n",
       "|---|---|---|---|---|---|\n",
       "| TOEFL.Score |   1 | 98.75439 | 98.7543940 | 549.3786 | 5.858855e-77 |\n",
       "| Residuals | 398 | 71.54311 |  0.1797565 |       NA |           NA |\n",
       "\n"
      ],
      "text/plain": [
       "            Df  Sum Sq   Mean Sq    F value  Pr(>F)      \n",
       "TOEFL.Score   1 98.75439 98.7543940 549.3786 5.858855e-77\n",
       "Residuals   398 71.54311  0.1797565       NA           NA"
      ]
     },
     "metadata": {},
     "output_type": "display_data"
    }
   ],
   "source": [
    "Homogeneity_RegrSlp = lm(CGPA~TOEFL.Score, data=graduate_admissions)\n",
    "anova(Homogeneity_RegrSlp)"
   ]
  },
  {
   "cell_type": "markdown",
   "id": "f9f88dc9",
   "metadata": {},
   "source": [
    "#### sample size is met.  run analysis"
   ]
  },
  {
   "cell_type": "code",
   "execution_count": 22,
   "id": "b5847de4",
   "metadata": {},
   "outputs": [
    {
     "data": {
      "text/html": [
       "<table class=\"dataframe\">\n",
       "<caption>A anova: 4 × 5</caption>\n",
       "<thead>\n",
       "\t<tr><th></th><th scope=col>Df</th><th scope=col>Sum Sq</th><th scope=col>Mean Sq</th><th scope=col>F value</th><th scope=col>Pr(&gt;F)</th></tr>\n",
       "\t<tr><th></th><th scope=col>&lt;int&gt;</th><th scope=col>&lt;dbl&gt;</th><th scope=col>&lt;dbl&gt;</th><th scope=col>&lt;dbl&gt;</th><th scope=col>&lt;dbl&gt;</th></tr>\n",
       "</thead>\n",
       "<tbody>\n",
       "\t<tr><th scope=row>TOEFL.Score</th><td>  1</td><td>98.75439398</td><td>98.75439398</td><td>610.7373070</td><td>2.998410e-82</td></tr>\n",
       "\t<tr><th scope=row>University.Rating</th><td>  1</td><td> 7.48872170</td><td> 7.48872170</td><td> 46.3132984</td><td>3.741625e-11</td></tr>\n",
       "\t<tr><th scope=row>TOEFL.Score:University.Rating</th><td>  1</td><td> 0.02236995</td><td> 0.02236995</td><td>  0.1383449</td><td>7.101310e-01</td></tr>\n",
       "\t<tr><th scope=row>Residuals</th><td>396</td><td>64.03201437</td><td> 0.16169701</td><td>         NA</td><td>          NA</td></tr>\n",
       "</tbody>\n",
       "</table>\n"
      ],
      "text/latex": [
       "A anova: 4 × 5\n",
       "\\begin{tabular}{r|lllll}\n",
       "  & Df & Sum Sq & Mean Sq & F value & Pr(>F)\\\\\n",
       "  & <int> & <dbl> & <dbl> & <dbl> & <dbl>\\\\\n",
       "\\hline\n",
       "\tTOEFL.Score &   1 & 98.75439398 & 98.75439398 & 610.7373070 & 2.998410e-82\\\\\n",
       "\tUniversity.Rating &   1 &  7.48872170 &  7.48872170 &  46.3132984 & 3.741625e-11\\\\\n",
       "\tTOEFL.Score:University.Rating &   1 &  0.02236995 &  0.02236995 &   0.1383449 & 7.101310e-01\\\\\n",
       "\tResiduals & 396 & 64.03201437 &  0.16169701 &          NA &           NA\\\\\n",
       "\\end{tabular}\n"
      ],
      "text/markdown": [
       "\n",
       "A anova: 4 × 5\n",
       "\n",
       "| <!--/--> | Df &lt;int&gt; | Sum Sq &lt;dbl&gt; | Mean Sq &lt;dbl&gt; | F value &lt;dbl&gt; | Pr(&gt;F) &lt;dbl&gt; |\n",
       "|---|---|---|---|---|---|\n",
       "| TOEFL.Score |   1 | 98.75439398 | 98.75439398 | 610.7373070 | 2.998410e-82 |\n",
       "| University.Rating |   1 |  7.48872170 |  7.48872170 |  46.3132984 | 3.741625e-11 |\n",
       "| TOEFL.Score:University.Rating |   1 |  0.02236995 |  0.02236995 |   0.1383449 | 7.101310e-01 |\n",
       "| Residuals | 396 | 64.03201437 |  0.16169701 |          NA |           NA |\n",
       "\n"
      ],
      "text/plain": [
       "                              Df  Sum Sq      Mean Sq     F value    \n",
       "TOEFL.Score                     1 98.75439398 98.75439398 610.7373070\n",
       "University.Rating               1  7.48872170  7.48872170  46.3132984\n",
       "TOEFL.Score:University.Rating   1  0.02236995  0.02236995   0.1383449\n",
       "Residuals                     396 64.03201437  0.16169701          NA\n",
       "                              Pr(>F)      \n",
       "TOEFL.Score                   2.998410e-82\n",
       "University.Rating             3.741625e-11\n",
       "TOEFL.Score:University.Rating 7.101310e-01\n",
       "Residuals                               NA"
      ]
     },
     "metadata": {},
     "output_type": "display_data"
    }
   ],
   "source": [
    "ANCOVA = lm(CGPA~TOEFL.Score + University.Rating*TOEFL.Score, data=graduate_admissions)\n",
    "anova(ANCOVA)"
   ]
  },
  {
   "cell_type": "markdown",
   "id": "b2bfb788",
   "metadata": {},
   "source": [
    "#### post hocs"
   ]
  },
  {
   "cell_type": "code",
   "execution_count": 23,
   "id": "4cfc0086",
   "metadata": {},
   "outputs": [
    {
     "ename": "ERROR",
     "evalue": "Error in mcp2matrix(model, linfct = linfct): Variable(s) 'University.Rating' of class 'integer' is/are not contained as a factor in 'model'.\n",
     "output_type": "error",
     "traceback": [
      "Error in mcp2matrix(model, linfct = linfct): Variable(s) 'University.Rating' of class 'integer' is/are not contained as a factor in 'model'.\nTraceback:\n",
      "1. glht(ANCOVA, linfct = mcp(University.Rating = \"Tukey\"))",
      "2. glht.mcp(ANCOVA, linfct = mcp(University.Rating = \"Tukey\"))",
      "3. mcp2matrix(model, linfct = linfct)",
      "4. stop(\"Variable(s) \", sQuote(paste(nhypo[!checknm], collapse = \", \")), \n .     \" of class \", sQuote(paste(sapply(mf[nhypo[!checknm]], class), \n .         collapse = \", \")), \" is/are not contained as a factor in \", \n .     sQuote(\"model\"), \".\")"
     ]
    }
   ],
   "source": [
    "postHocs <- glht(ANCOVA,linfct=mcp(University.Rating = \"Tukey\"))\n",
    "summary(postHocs)"
   ]
  },
  {
   "cell_type": "code",
   "execution_count": 24,
   "id": "5f633680",
   "metadata": {},
   "outputs": [
    {
     "name": "stderr",
     "output_type": "stream",
     "text": [
      "NOTE: University.Rating is not a high-order term in the model\n",
      "\n"
     ]
    },
    {
     "data": {
      "text/plain": [
       "\n",
       " University.Rating effect\n",
       "University.Rating\n",
       "       1        2        3        4        5 \n",
       "7.803217 7.970615 8.138013 8.305411 8.472809 "
      ]
     },
     "metadata": {},
     "output_type": "display_data"
    }
   ],
   "source": [
    "adjMeans <- effect(\"University.Rating\", ANCOVA)\n",
    "adjMeans"
   ]
  },
  {
   "cell_type": "markdown",
   "id": "5163c544",
   "metadata": {},
   "source": [
    "## all have a college GPA that's almost the same."
   ]
  },
  {
   "cell_type": "code",
   "execution_count": null,
   "id": "4463e6fd",
   "metadata": {},
   "outputs": [],
   "source": []
  }
 ],
 "metadata": {
  "kernelspec": {
   "display_name": "R",
   "language": "R",
   "name": "ir"
  },
  "language_info": {
   "codemirror_mode": "r",
   "file_extension": ".r",
   "mimetype": "text/x-r-source",
   "name": "R",
   "pygments_lexer": "r",
   "version": "4.1.1"
  }
 },
 "nbformat": 4,
 "nbformat_minor": 5
}
