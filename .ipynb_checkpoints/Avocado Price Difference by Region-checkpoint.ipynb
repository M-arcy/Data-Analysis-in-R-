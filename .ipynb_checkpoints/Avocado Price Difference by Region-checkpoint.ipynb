{
 "cells": [
  {
   "cell_type": "code",
   "execution_count": null,
   "id": "b4ee0036",
   "metadata": {},
   "outputs": [
    {
     "name": "stderr",
     "output_type": "stream",
     "text": [
      "\n",
      "Attaching package: 'dplyr'\n",
      "\n",
      "\n",
      "The following objects are masked from 'package:stats':\n",
      "\n",
      "    filter, lag\n",
      "\n",
      "\n",
      "The following objects are masked from 'package:base':\n",
      "\n",
      "    intersect, setdiff, setequal, union\n",
      "\n",
      "\n"
     ]
    }
   ],
   "source": [
    "library(\"dplyr\")\n",
    "library(\"rcompanion\")\n",
    "library(\"car\")\n",
    "library(\"IDPmisc\")\n",
    "library(\"ggplot2\")"
   ]
  },
  {
   "cell_type": "code",
   "execution_count": 15,
   "id": "a3df45dc",
   "metadata": {},
   "outputs": [],
   "source": [
    "avocado <- read.csv(\"C:/Users/Marcy/Downloads/avocados/avocados.csv\")"
   ]
  },
  {
   "cell_type": "code",
   "execution_count": 16,
   "id": "4eb0a5cf",
   "metadata": {},
   "outputs": [
    {
     "data": {
      "text/html": [
       "<table class=\"dataframe\">\n",
       "<caption>A data.frame: 6 × 14</caption>\n",
       "<thead>\n",
       "\t<tr><th></th><th scope=col>X</th><th scope=col>Date</th><th scope=col>AveragePrice</th><th scope=col>Total.Volume</th><th scope=col>X4046</th><th scope=col>X4225</th><th scope=col>X4770</th><th scope=col>Total.Bags</th><th scope=col>Small.Bags</th><th scope=col>Large.Bags</th><th scope=col>XLarge.Bags</th><th scope=col>type</th><th scope=col>year</th><th scope=col>region</th></tr>\n",
       "\t<tr><th></th><th scope=col>&lt;int&gt;</th><th scope=col>&lt;chr&gt;</th><th scope=col>&lt;dbl&gt;</th><th scope=col>&lt;dbl&gt;</th><th scope=col>&lt;dbl&gt;</th><th scope=col>&lt;dbl&gt;</th><th scope=col>&lt;dbl&gt;</th><th scope=col>&lt;dbl&gt;</th><th scope=col>&lt;dbl&gt;</th><th scope=col>&lt;dbl&gt;</th><th scope=col>&lt;dbl&gt;</th><th scope=col>&lt;chr&gt;</th><th scope=col>&lt;int&gt;</th><th scope=col>&lt;chr&gt;</th></tr>\n",
       "</thead>\n",
       "<tbody>\n",
       "\t<tr><th scope=row>1</th><td>0</td><td>12/27/2015</td><td>1.33</td><td> 64236.62</td><td>1036.74</td><td> 54454.85</td><td> 48.16</td><td>8696.87</td><td>8603.62</td><td> 93.25</td><td>0</td><td>conventional</td><td>2015</td><td>Albany</td></tr>\n",
       "\t<tr><th scope=row>2</th><td>1</td><td>12/20/2015</td><td>1.35</td><td> 54876.98</td><td> 674.28</td><td> 44638.81</td><td> 58.33</td><td>9505.56</td><td>9408.07</td><td> 97.49</td><td>0</td><td>conventional</td><td>2015</td><td>Albany</td></tr>\n",
       "\t<tr><th scope=row>3</th><td>2</td><td>12/13/2015</td><td>0.93</td><td>118220.22</td><td> 794.70</td><td>109149.67</td><td>130.50</td><td>8145.35</td><td>8042.21</td><td>103.14</td><td>0</td><td>conventional</td><td>2015</td><td>Albany</td></tr>\n",
       "\t<tr><th scope=row>4</th><td>3</td><td>12/6/2015 </td><td>1.08</td><td> 78992.15</td><td>1132.00</td><td> 71976.41</td><td> 72.58</td><td>5811.16</td><td>5677.40</td><td>133.76</td><td>0</td><td>conventional</td><td>2015</td><td>Albany</td></tr>\n",
       "\t<tr><th scope=row>5</th><td>4</td><td>11/29/2015</td><td>1.28</td><td> 51039.60</td><td> 941.48</td><td> 43838.39</td><td> 75.78</td><td>6183.95</td><td>5986.26</td><td>197.69</td><td>0</td><td>conventional</td><td>2015</td><td>Albany</td></tr>\n",
       "\t<tr><th scope=row>6</th><td>5</td><td>11/22/2015</td><td>1.26</td><td> 55979.78</td><td>1184.27</td><td> 48067.99</td><td> 43.61</td><td>6683.91</td><td>6556.47</td><td>127.44</td><td>0</td><td>conventional</td><td>2015</td><td>Albany</td></tr>\n",
       "</tbody>\n",
       "</table>\n"
      ],
      "text/latex": [
       "A data.frame: 6 × 14\n",
       "\\begin{tabular}{r|llllllllllllll}\n",
       "  & X & Date & AveragePrice & Total.Volume & X4046 & X4225 & X4770 & Total.Bags & Small.Bags & Large.Bags & XLarge.Bags & type & year & region\\\\\n",
       "  & <int> & <chr> & <dbl> & <dbl> & <dbl> & <dbl> & <dbl> & <dbl> & <dbl> & <dbl> & <dbl> & <chr> & <int> & <chr>\\\\\n",
       "\\hline\n",
       "\t1 & 0 & 12/27/2015 & 1.33 &  64236.62 & 1036.74 &  54454.85 &  48.16 & 8696.87 & 8603.62 &  93.25 & 0 & conventional & 2015 & Albany\\\\\n",
       "\t2 & 1 & 12/20/2015 & 1.35 &  54876.98 &  674.28 &  44638.81 &  58.33 & 9505.56 & 9408.07 &  97.49 & 0 & conventional & 2015 & Albany\\\\\n",
       "\t3 & 2 & 12/13/2015 & 0.93 & 118220.22 &  794.70 & 109149.67 & 130.50 & 8145.35 & 8042.21 & 103.14 & 0 & conventional & 2015 & Albany\\\\\n",
       "\t4 & 3 & 12/6/2015  & 1.08 &  78992.15 & 1132.00 &  71976.41 &  72.58 & 5811.16 & 5677.40 & 133.76 & 0 & conventional & 2015 & Albany\\\\\n",
       "\t5 & 4 & 11/29/2015 & 1.28 &  51039.60 &  941.48 &  43838.39 &  75.78 & 6183.95 & 5986.26 & 197.69 & 0 & conventional & 2015 & Albany\\\\\n",
       "\t6 & 5 & 11/22/2015 & 1.26 &  55979.78 & 1184.27 &  48067.99 &  43.61 & 6683.91 & 6556.47 & 127.44 & 0 & conventional & 2015 & Albany\\\\\n",
       "\\end{tabular}\n"
      ],
      "text/markdown": [
       "\n",
       "A data.frame: 6 × 14\n",
       "\n",
       "| <!--/--> | X &lt;int&gt; | Date &lt;chr&gt; | AveragePrice &lt;dbl&gt; | Total.Volume &lt;dbl&gt; | X4046 &lt;dbl&gt; | X4225 &lt;dbl&gt; | X4770 &lt;dbl&gt; | Total.Bags &lt;dbl&gt; | Small.Bags &lt;dbl&gt; | Large.Bags &lt;dbl&gt; | XLarge.Bags &lt;dbl&gt; | type &lt;chr&gt; | year &lt;int&gt; | region &lt;chr&gt; |\n",
       "|---|---|---|---|---|---|---|---|---|---|---|---|---|---|---|\n",
       "| 1 | 0 | 12/27/2015 | 1.33 |  64236.62 | 1036.74 |  54454.85 |  48.16 | 8696.87 | 8603.62 |  93.25 | 0 | conventional | 2015 | Albany |\n",
       "| 2 | 1 | 12/20/2015 | 1.35 |  54876.98 |  674.28 |  44638.81 |  58.33 | 9505.56 | 9408.07 |  97.49 | 0 | conventional | 2015 | Albany |\n",
       "| 3 | 2 | 12/13/2015 | 0.93 | 118220.22 |  794.70 | 109149.67 | 130.50 | 8145.35 | 8042.21 | 103.14 | 0 | conventional | 2015 | Albany |\n",
       "| 4 | 3 | 12/6/2015  | 1.08 |  78992.15 | 1132.00 |  71976.41 |  72.58 | 5811.16 | 5677.40 | 133.76 | 0 | conventional | 2015 | Albany |\n",
       "| 5 | 4 | 11/29/2015 | 1.28 |  51039.60 |  941.48 |  43838.39 |  75.78 | 6183.95 | 5986.26 | 197.69 | 0 | conventional | 2015 | Albany |\n",
       "| 6 | 5 | 11/22/2015 | 1.26 |  55979.78 | 1184.27 |  48067.99 |  43.61 | 6683.91 | 6556.47 | 127.44 | 0 | conventional | 2015 | Albany |\n",
       "\n"
      ],
      "text/plain": [
       "  X Date       AveragePrice Total.Volume X4046   X4225     X4770  Total.Bags\n",
       "1 0 12/27/2015 1.33          64236.62    1036.74  54454.85  48.16 8696.87   \n",
       "2 1 12/20/2015 1.35          54876.98     674.28  44638.81  58.33 9505.56   \n",
       "3 2 12/13/2015 0.93         118220.22     794.70 109149.67 130.50 8145.35   \n",
       "4 3 12/6/2015  1.08          78992.15    1132.00  71976.41  72.58 5811.16   \n",
       "5 4 11/29/2015 1.28          51039.60     941.48  43838.39  75.78 6183.95   \n",
       "6 5 11/22/2015 1.26          55979.78    1184.27  48067.99  43.61 6683.91   \n",
       "  Small.Bags Large.Bags XLarge.Bags type         year region\n",
       "1 8603.62     93.25     0           conventional 2015 Albany\n",
       "2 9408.07     97.49     0           conventional 2015 Albany\n",
       "3 8042.21    103.14     0           conventional 2015 Albany\n",
       "4 5677.40    133.76     0           conventional 2015 Albany\n",
       "5 5986.26    197.69     0           conventional 2015 Albany\n",
       "6 6556.47    127.44     0           conventional 2015 Albany"
      ]
     },
     "metadata": {},
     "output_type": "display_data"
    }
   ],
   "source": [
    "head(avocado)"
   ]
  },
  {
   "cell_type": "markdown",
   "id": "0c3ee1cc",
   "metadata": {},
   "source": [
    "# Does the average price of avocados differ between Albany, Houston, and Seattle?"
   ]
  },
  {
   "cell_type": "markdown",
   "id": "08740475",
   "metadata": {},
   "source": [
    "## DV is average price while IV is region.  First filter database to keep only these three cities."
   ]
  },
  {
   "cell_type": "code",
   "execution_count": 7,
   "id": "c9373d4d",
   "metadata": {},
   "outputs": [],
   "source": [
    "avocados <- na.omit(avocado %>% filter (region %in% c(\"Albany\", \"Houston\", \"Seattle\")))"
   ]
  },
  {
   "cell_type": "code",
   "execution_count": 9,
   "id": "b336de3c",
   "metadata": {},
   "outputs": [
    {
     "data": {
      "text/html": [
       "<table class=\"dataframe\">\n",
       "<caption>A data.frame: 6 × 14</caption>\n",
       "<thead>\n",
       "\t<tr><th></th><th scope=col>X</th><th scope=col>Date</th><th scope=col>AveragePrice</th><th scope=col>Total.Volume</th><th scope=col>X4046</th><th scope=col>X4225</th><th scope=col>X4770</th><th scope=col>Total.Bags</th><th scope=col>Small.Bags</th><th scope=col>Large.Bags</th><th scope=col>XLarge.Bags</th><th scope=col>type</th><th scope=col>year</th><th scope=col>region</th></tr>\n",
       "\t<tr><th></th><th scope=col>&lt;int&gt;</th><th scope=col>&lt;chr&gt;</th><th scope=col>&lt;dbl&gt;</th><th scope=col>&lt;dbl&gt;</th><th scope=col>&lt;dbl&gt;</th><th scope=col>&lt;dbl&gt;</th><th scope=col>&lt;dbl&gt;</th><th scope=col>&lt;dbl&gt;</th><th scope=col>&lt;dbl&gt;</th><th scope=col>&lt;dbl&gt;</th><th scope=col>&lt;dbl&gt;</th><th scope=col>&lt;chr&gt;</th><th scope=col>&lt;int&gt;</th><th scope=col>&lt;chr&gt;</th></tr>\n",
       "</thead>\n",
       "<tbody>\n",
       "\t<tr><th scope=row>1009</th><td> 6</td><td>2/11/2018</td><td>1.22</td><td>101110.96</td><td>1318.39</td><td>31821.41</td><td>175.52</td><td>67795.64</td><td>4818.28</td><td>62844.86</td><td>132.50</td><td>organic</td><td>2018</td><td>Seattle</td></tr>\n",
       "\t<tr><th scope=row>1010</th><td> 7</td><td>2/4/2018 </td><td>1.14</td><td>124659.55</td><td>1345.94</td><td>32088.04</td><td> 85.31</td><td>91140.26</td><td>1998.66</td><td>88880.93</td><td>260.67</td><td>organic</td><td>2018</td><td>Seattle</td></tr>\n",
       "\t<tr><th scope=row>1011</th><td> 8</td><td>1/28/2018</td><td>1.99</td><td> 35988.00</td><td> 954.77</td><td>11558.54</td><td> 32.00</td><td>23442.69</td><td>1487.79</td><td>21867.48</td><td> 87.42</td><td>organic</td><td>2018</td><td>Seattle</td></tr>\n",
       "\t<tr><th scope=row>1012</th><td> 9</td><td>1/21/2018</td><td>2.02</td><td> 33986.68</td><td> 928.10</td><td>12632.06</td><td> 23.62</td><td>20402.90</td><td>1469.79</td><td>18905.41</td><td> 27.70</td><td>organic</td><td>2018</td><td>Seattle</td></tr>\n",
       "\t<tr><th scope=row>1013</th><td>10</td><td>1/14/2018</td><td>2.03</td><td> 36228.45</td><td>1147.33</td><td>18370.39</td><td>  9.23</td><td>16701.50</td><td>1630.19</td><td>15063.98</td><td>  7.33</td><td>organic</td><td>2018</td><td>Seattle</td></tr>\n",
       "\t<tr><th scope=row>1014</th><td>11</td><td>1/7/2018 </td><td>1.26</td><td> 98765.23</td><td>1404.78</td><td>33170.68</td><td> 11.77</td><td>64178.00</td><td>2054.96</td><td>62104.14</td><td> 18.90</td><td>organic</td><td>2018</td><td>Seattle</td></tr>\n",
       "</tbody>\n",
       "</table>\n"
      ],
      "text/latex": [
       "A data.frame: 6 × 14\n",
       "\\begin{tabular}{r|llllllllllllll}\n",
       "  & X & Date & AveragePrice & Total.Volume & X4046 & X4225 & X4770 & Total.Bags & Small.Bags & Large.Bags & XLarge.Bags & type & year & region\\\\\n",
       "  & <int> & <chr> & <dbl> & <dbl> & <dbl> & <dbl> & <dbl> & <dbl> & <dbl> & <dbl> & <dbl> & <chr> & <int> & <chr>\\\\\n",
       "\\hline\n",
       "\t1009 &  6 & 2/11/2018 & 1.22 & 101110.96 & 1318.39 & 31821.41 & 175.52 & 67795.64 & 4818.28 & 62844.86 & 132.50 & organic & 2018 & Seattle\\\\\n",
       "\t1010 &  7 & 2/4/2018  & 1.14 & 124659.55 & 1345.94 & 32088.04 &  85.31 & 91140.26 & 1998.66 & 88880.93 & 260.67 & organic & 2018 & Seattle\\\\\n",
       "\t1011 &  8 & 1/28/2018 & 1.99 &  35988.00 &  954.77 & 11558.54 &  32.00 & 23442.69 & 1487.79 & 21867.48 &  87.42 & organic & 2018 & Seattle\\\\\n",
       "\t1012 &  9 & 1/21/2018 & 2.02 &  33986.68 &  928.10 & 12632.06 &  23.62 & 20402.90 & 1469.79 & 18905.41 &  27.70 & organic & 2018 & Seattle\\\\\n",
       "\t1013 & 10 & 1/14/2018 & 2.03 &  36228.45 & 1147.33 & 18370.39 &   9.23 & 16701.50 & 1630.19 & 15063.98 &   7.33 & organic & 2018 & Seattle\\\\\n",
       "\t1014 & 11 & 1/7/2018  & 1.26 &  98765.23 & 1404.78 & 33170.68 &  11.77 & 64178.00 & 2054.96 & 62104.14 &  18.90 & organic & 2018 & Seattle\\\\\n",
       "\\end{tabular}\n"
      ],
      "text/markdown": [
       "\n",
       "A data.frame: 6 × 14\n",
       "\n",
       "| <!--/--> | X &lt;int&gt; | Date &lt;chr&gt; | AveragePrice &lt;dbl&gt; | Total.Volume &lt;dbl&gt; | X4046 &lt;dbl&gt; | X4225 &lt;dbl&gt; | X4770 &lt;dbl&gt; | Total.Bags &lt;dbl&gt; | Small.Bags &lt;dbl&gt; | Large.Bags &lt;dbl&gt; | XLarge.Bags &lt;dbl&gt; | type &lt;chr&gt; | year &lt;int&gt; | region &lt;chr&gt; |\n",
       "|---|---|---|---|---|---|---|---|---|---|---|---|---|---|---|\n",
       "| 1009 |  6 | 2/11/2018 | 1.22 | 101110.96 | 1318.39 | 31821.41 | 175.52 | 67795.64 | 4818.28 | 62844.86 | 132.50 | organic | 2018 | Seattle |\n",
       "| 1010 |  7 | 2/4/2018  | 1.14 | 124659.55 | 1345.94 | 32088.04 |  85.31 | 91140.26 | 1998.66 | 88880.93 | 260.67 | organic | 2018 | Seattle |\n",
       "| 1011 |  8 | 1/28/2018 | 1.99 |  35988.00 |  954.77 | 11558.54 |  32.00 | 23442.69 | 1487.79 | 21867.48 |  87.42 | organic | 2018 | Seattle |\n",
       "| 1012 |  9 | 1/21/2018 | 2.02 |  33986.68 |  928.10 | 12632.06 |  23.62 | 20402.90 | 1469.79 | 18905.41 |  27.70 | organic | 2018 | Seattle |\n",
       "| 1013 | 10 | 1/14/2018 | 2.03 |  36228.45 | 1147.33 | 18370.39 |   9.23 | 16701.50 | 1630.19 | 15063.98 |   7.33 | organic | 2018 | Seattle |\n",
       "| 1014 | 11 | 1/7/2018  | 1.26 |  98765.23 | 1404.78 | 33170.68 |  11.77 | 64178.00 | 2054.96 | 62104.14 |  18.90 | organic | 2018 | Seattle |\n",
       "\n"
      ],
      "text/plain": [
       "     X  Date      AveragePrice Total.Volume X4046   X4225    X4770  Total.Bags\n",
       "1009  6 2/11/2018 1.22         101110.96    1318.39 31821.41 175.52 67795.64  \n",
       "1010  7 2/4/2018  1.14         124659.55    1345.94 32088.04  85.31 91140.26  \n",
       "1011  8 1/28/2018 1.99          35988.00     954.77 11558.54  32.00 23442.69  \n",
       "1012  9 1/21/2018 2.02          33986.68     928.10 12632.06  23.62 20402.90  \n",
       "1013 10 1/14/2018 2.03          36228.45    1147.33 18370.39   9.23 16701.50  \n",
       "1014 11 1/7/2018  1.26          98765.23    1404.78 33170.68  11.77 64178.00  \n",
       "     Small.Bags Large.Bags XLarge.Bags type    year region \n",
       "1009 4818.28    62844.86   132.50      organic 2018 Seattle\n",
       "1010 1998.66    88880.93   260.67      organic 2018 Seattle\n",
       "1011 1487.79    21867.48    87.42      organic 2018 Seattle\n",
       "1012 1469.79    18905.41    27.70      organic 2018 Seattle\n",
       "1013 1630.19    15063.98     7.33      organic 2018 Seattle\n",
       "1014 2054.96    62104.14    18.90      organic 2018 Seattle"
      ]
     },
     "metadata": {},
     "output_type": "display_data"
    }
   ],
   "source": [
    "tail(avocados)"
   ]
  },
  {
   "cell_type": "markdown",
   "id": "2f7db396",
   "metadata": {},
   "source": [
    "### Test first assumption of normality"
   ]
  },
  {
   "cell_type": "code",
   "execution_count": 11,
   "id": "76aaef68",
   "metadata": {},
   "outputs": [
    {
     "data": {
      "image/png": "[encoded data removed]",
      "text/plain": [
       "Plot with title \"\""
      ]
     },
     "metadata": {
      "image/png": {
       "height": 420,
       "width": 420
      }
     },
     "output_type": "display_data"
    }
   ],
   "source": [
    "plotNormalHistogram(avocados$AveragePrice)"
   ]
  },
  {
   "cell_type": "markdown",
   "id": "bd137ac3",
   "metadata": {},
   "source": [
    "#### Looks fairly normal."
   ]
  },
  {
   "cell_type": "markdown",
   "id": "2d0bcb6f",
   "metadata": {},
   "source": [
    "#### Test for homogeneity of variance"
   ]
  },
  {
   "cell_type": "code",
   "execution_count": 12,
   "id": "9a90205b",
   "metadata": {},
   "outputs": [
    {
     "data": {
      "text/plain": [
       "\n",
       "\tBartlett test of homogeneity of variances\n",
       "\n",
       "data:  AveragePrice by region\n",
       "Bartlett's K-squared = 104.28, df = 2, p-value < 2.2e-16\n"
      ]
     },
     "metadata": {},
     "output_type": "display_data"
    }
   ],
   "source": [
    "bartlett.test(AveragePrice ~ region, data=avocados)"
   ]
  },
  {
   "cell_type": "markdown",
   "id": "9af05857",
   "metadata": {},
   "source": [
    "#### p value is <.05, so it has violated the assumption of Homogeneity of Variance."
   ]
  },
  {
   "cell_type": "code",
   "execution_count": 13,
   "id": "038de5e0",
   "metadata": {},
   "outputs": [
    {
     "data": {
      "text/plain": [
       "\n",
       "\tFligner-Killeen test of homogeneity of variances\n",
       "\n",
       "data:  AveragePrice by region\n",
       "Fligner-Killeen:med chi-squared = 44.567, df = 2, p-value = 2.101e-10\n"
      ]
     },
     "metadata": {},
     "output_type": "display_data"
    }
   ],
   "source": [
    "fligner.test(AveragePrice ~ region, data=avocados)"
   ]
  },
  {
   "cell_type": "markdown",
   "id": "3187b0dc",
   "metadata": {},
   "source": [
    "#### p value is still <.05, so it still violates the assumption."
   ]
  },
  {
   "cell_type": "markdown",
   "id": "96a2855e",
   "metadata": {},
   "source": [
    "#### sample size assumption of at least 20 per IV."
   ]
  },
  {
   "cell_type": "markdown",
   "id": "3f7720b4",
   "metadata": {},
   "source": [
    "#### from the tail line above, there are 1014 entries. more than enough."
   ]
  },
  {
   "cell_type": "code",
   "execution_count": 15,
   "id": "b7c07172",
   "metadata": {},
   "outputs": [
    {
     "data": {
      "text/html": [
       "<table class=\"dataframe\">\n",
       "<caption>A data.frame: 1 × 1</caption>\n",
       "<thead>\n",
       "\t<tr><th scope=col>n</th></tr>\n",
       "\t<tr><th scope=col>&lt;int&gt;</th></tr>\n",
       "</thead>\n",
       "<tbody>\n",
       "\t<tr><td>1014</td></tr>\n",
       "</tbody>\n",
       "</table>\n"
      ],
      "text/latex": [
       "A data.frame: 1 × 1\n",
       "\\begin{tabular}{l}\n",
       " n\\\\\n",
       " <int>\\\\\n",
       "\\hline\n",
       "\t 1014\\\\\n",
       "\\end{tabular}\n"
      ],
      "text/markdown": [
       "\n",
       "A data.frame: 1 × 1\n",
       "\n",
       "| n &lt;int&gt; |\n",
       "|---|\n",
       "| 1014 |\n",
       "\n"
      ],
      "text/plain": [
       "  n   \n",
       "1 1014"
      ]
     },
     "metadata": {},
     "output_type": "display_data"
    }
   ],
   "source": [
    "count(avocados)"
   ]
  },
  {
   "cell_type": "code",
   "execution_count": 16,
   "id": "9d262246",
   "metadata": {},
   "outputs": [
    {
     "data": {
      "text/plain": [
       "                  Df Sum Sq Mean Sq F value Pr(>F)    \n",
       "avocados$region    2  48.79  24.395   182.9 <2e-16 ***\n",
       "Residuals       1011 134.83   0.133                   \n",
       "---\n",
       "Signif. codes:  0 '***' 0.001 '**' 0.01 '*' 0.05 '.' 0.1 ' ' 1"
      ]
     },
     "metadata": {},
     "output_type": "display_data"
    }
   ],
   "source": [
    "avocadosANOVA <- aov(avocados$AveragePrice ~ avocados$region)\n",
    "summary(avocadosANOVA)"
   ]
  },
  {
   "cell_type": "markdown",
   "id": "029fd347",
   "metadata": {},
   "source": [
    "#### Computing ANOVA with unequal variance, which we found here."
   ]
  },
  {
   "cell_type": "code",
   "execution_count": 17,
   "id": "81c990d3",
   "metadata": {},
   "outputs": [
    {
     "name": "stderr",
     "output_type": "stream",
     "text": [
      "Coefficient covariances computed by hccm()\n",
      "\n"
     ]
    },
    {
     "data": {
      "text/html": [
       "<table class=\"dataframe\">\n",
       "<caption>A anova: 2 × 3</caption>\n",
       "<thead>\n",
       "\t<tr><th></th><th scope=col>Df</th><th scope=col>F</th><th scope=col>Pr(&gt;F)</th></tr>\n",
       "\t<tr><th></th><th scope=col>&lt;dbl&gt;</th><th scope=col>&lt;dbl&gt;</th><th scope=col>&lt;dbl&gt;</th></tr>\n",
       "</thead>\n",
       "<tbody>\n",
       "\t<tr><th scope=row>region</th><td>   2</td><td>261.7975</td><td>2.409098e-92</td></tr>\n",
       "\t<tr><th scope=row>Residuals</th><td>1011</td><td>      NA</td><td>          NA</td></tr>\n",
       "</tbody>\n",
       "</table>\n"
      ],
      "text/latex": [
       "A anova: 2 × 3\n",
       "\\begin{tabular}{r|lll}\n",
       "  & Df & F & Pr(>F)\\\\\n",
       "  & <dbl> & <dbl> & <dbl>\\\\\n",
       "\\hline\n",
       "\tregion &    2 & 261.7975 & 2.409098e-92\\\\\n",
       "\tResiduals & 1011 &       NA &           NA\\\\\n",
       "\\end{tabular}\n"
      ],
      "text/markdown": [
       "\n",
       "A anova: 2 × 3\n",
       "\n",
       "| <!--/--> | Df &lt;dbl&gt; | F &lt;dbl&gt; | Pr(&gt;F) &lt;dbl&gt; |\n",
       "|---|---|---|---|\n",
       "| region |    2 | 261.7975 | 2.409098e-92 |\n",
       "| Residuals | 1011 |       NA |           NA |\n",
       "\n"
      ],
      "text/plain": [
       "          Df   F        Pr(>F)      \n",
       "region       2 261.7975 2.409098e-92\n",
       "Residuals 1011       NA           NA"
      ]
     },
     "metadata": {},
     "output_type": "display_data"
    }
   ],
   "source": [
    "ANOVA <- lm(AveragePrice ~ region, data=avocados)\n",
    "Anova(ANOVA, Type= \"II\", white.adjust=TRUE)"
   ]
  },
  {
   "cell_type": "markdown",
   "id": "c1e9d8fd",
   "metadata": {},
   "source": [
    "### There aren't any stars, but p <.05, so we can conlude there is a significant difference in price somewhere between the three levels of my region IV."
   ]
  },
  {
   "cell_type": "markdown",
   "id": "16c5491b",
   "metadata": {},
   "source": [
    "## Post Hocs"
   ]
  },
  {
   "cell_type": "code",
   "execution_count": 19,
   "id": "8f159a66",
   "metadata": {},
   "outputs": [
    {
     "data": {
      "text/plain": [
       "\n",
       "\tPairwise comparisons using t tests with non-pooled SD \n",
       "\n",
       "data:  avocados$AveragePrice and avocados$region \n",
       "\n",
       "        Albany Houston\n",
       "Houston <2e-16 -      \n",
       "Seattle 3e-04  <2e-16 \n",
       "\n",
       "P value adjustment method: bonferroni "
      ]
     },
     "metadata": {},
     "output_type": "display_data"
    }
   ],
   "source": [
    "pairwise.t.test(avocados$AveragePrice, avocados$region, p.adjust=\"bonferroni\", pool.sd = FALSE)"
   ]
  },
  {
   "cell_type": "markdown",
   "id": "25122153",
   "metadata": {},
   "source": [
    "###   Each of the values, though, is less than .05, so there are significant difference between prices. Let's look at it another way. "
   ]
  },
  {
   "cell_type": "markdown",
   "id": "0c9bb786",
   "metadata": {},
   "source": [
    "#### Determine means and draw conclusions"
   ]
  },
  {
   "cell_type": "code",
   "execution_count": 22,
   "id": "ca56010c",
   "metadata": {},
   "outputs": [],
   "source": [
    "avocadosMEANS <- avocados %>% group_by(region) %>% summarize(Mean = mean(AveragePrice))"
   ]
  },
  {
   "cell_type": "code",
   "execution_count": 23,
   "id": "6df0db09",
   "metadata": {},
   "outputs": [
    {
     "data": {
      "text/html": [
       "<table class=\"dataframe\">\n",
       "<caption>A tibble: 3 × 2</caption>\n",
       "<thead>\n",
       "\t<tr><th scope=col>region</th><th scope=col>Mean</th></tr>\n",
       "\t<tr><th scope=col>&lt;chr&gt;</th><th scope=col>&lt;dbl&gt;</th></tr>\n",
       "</thead>\n",
       "<tbody>\n",
       "\t<tr><td>Albany </td><td>1.561036</td></tr>\n",
       "\t<tr><td>Houston</td><td>1.047929</td></tr>\n",
       "\t<tr><td>Seattle</td><td>1.442574</td></tr>\n",
       "</tbody>\n",
       "</table>\n"
      ],
      "text/latex": [
       "A tibble: 3 × 2\n",
       "\\begin{tabular}{ll}\n",
       " region & Mean\\\\\n",
       " <chr> & <dbl>\\\\\n",
       "\\hline\n",
       "\t Albany  & 1.561036\\\\\n",
       "\t Houston & 1.047929\\\\\n",
       "\t Seattle & 1.442574\\\\\n",
       "\\end{tabular}\n"
      ],
      "text/markdown": [
       "\n",
       "A tibble: 3 × 2\n",
       "\n",
       "| region &lt;chr&gt; | Mean &lt;dbl&gt; |\n",
       "|---|---|\n",
       "| Albany  | 1.561036 |\n",
       "| Houston | 1.047929 |\n",
       "| Seattle | 1.442574 |\n",
       "\n"
      ],
      "text/plain": [
       "  region  Mean    \n",
       "1 Albany  1.561036\n",
       "2 Houston 1.047929\n",
       "3 Seattle 1.442574"
      ]
     },
     "metadata": {},
     "output_type": "display_data"
    }
   ],
   "source": [
    "avocadosMEANS"
   ]
  },
  {
   "cell_type": "markdown",
   "id": "9bee3e51",
   "metadata": {},
   "source": [
    "## The average price for avocados in Albany NY, far from where they're grown, is higher than Houston by far and also higher than Seattle. Neither Seattle nor Albany have climates suitable for growing avocados so they must be trucked in, adding to the price tag."
   ]
  },
  {
   "cell_type": "code",
   "execution_count": null,
   "id": "8651ac7a",
   "metadata": {},
   "outputs": [],
   "source": []
  }
 ],
 "metadata": {
  "kernelspec": {
   "display_name": "R",
   "language": "R",
   "name": "ir"
  },
  "language_info": {
   "codemirror_mode": "r",
   "file_extension": ".r",
   "mimetype": "text/x-r-source",
   "name": "R",
   "pygments_lexer": "r",
   "version": "4.2.1"
  }
 },
 "nbformat": 4,
 "nbformat_minor": 5
}
