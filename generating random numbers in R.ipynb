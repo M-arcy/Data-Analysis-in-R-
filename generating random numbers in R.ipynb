{
 "cells": [
  {
   "cell_type": "markdown",
   "id": "df1db3ff",
   "metadata": {},
   "source": [
    "#### In R, the runif() function will generate a random number that is uniformly distributed. The function and arguments are as follows:\n",
    "\n",
    "runif(n, min, max)\n",
    "where n is the quantity of numbers to be generated, min is the minimum value, and max is the maximum value. The min and max arguments default to 0 and 1, so if you just want a uniform random variable between 0 and 1 you can omit the other two arguments.\n",
    "\n",
    "Generating Numbers Between 0 and 1\n",
    "For example, the function below will create 15 randomly generated numbers between 0 and 1:\n",
    "\n",
    "runif(15)\n",
    "It might look something like this (but remember, these are randomly generated, so yours won't be the same numbers!)"
   ]
  },
  {
   "cell_type": "code",
   "execution_count": 1,
   "id": "524ef90a",
   "metadata": {},
   "outputs": [
    {
     "data": {
      "text/html": [
       "<style>\n",
       ".list-inline {list-style: none; margin:0; padding: 0}\n",
       ".list-inline>li {display: inline-block}\n",
       ".list-inline>li:not(:last-child)::after {content: \"\\00b7\"; padding: 0 .5ex}\n",
       "</style>\n",
       "<ol class=list-inline><li>23.0634672488086</li><li>77.3723822464235</li><li>43.0323680192232</li><li>50.8642669585533</li><li>76.3248372790404</li><li>30.2669927277602</li><li>41.1487160520628</li><li>3.36451212363318</li><li>34.6495694192126</li><li>83.3162096245214</li></ol>\n"
      ],
      "text/latex": [
       "\\begin{enumerate*}\n",
       "\\item 23.0634672488086\n",
       "\\item 77.3723822464235\n",
       "\\item 43.0323680192232\n",
       "\\item 50.8642669585533\n",
       "\\item 76.3248372790404\n",
       "\\item 30.2669927277602\n",
       "\\item 41.1487160520628\n",
       "\\item 3.36451212363318\n",
       "\\item 34.6495694192126\n",
       "\\item 83.3162096245214\n",
       "\\end{enumerate*}\n"
      ],
      "text/markdown": [
       "1. 23.0634672488086\n",
       "2. 77.3723822464235\n",
       "3. 43.0323680192232\n",
       "4. 50.8642669585533\n",
       "5. 76.3248372790404\n",
       "6. 30.2669927277602\n",
       "7. 41.1487160520628\n",
       "8. 3.36451212363318\n",
       "9. 34.6495694192126\n",
       "10. 83.3162096245214\n",
       "\n",
       "\n"
      ],
      "text/plain": [
       " [1] 23.063467 77.372382 43.032368 50.864267 76.324837 30.266993 41.148716\n",
       " [8]  3.364512 34.649569 83.316210"
      ]
     },
     "metadata": {},
     "output_type": "display_data"
    }
   ],
   "source": [
    "runif(10, 2, 100)"
   ]
  },
  {
   "cell_type": "code",
   "execution_count": 2,
   "id": "cc0a1797",
   "metadata": {},
   "outputs": [
    {
     "data": {
      "text/html": [
       "<style>\n",
       ".list-inline {list-style: none; margin:0; padding: 0}\n",
       ".list-inline>li {display: inline-block}\n",
       ".list-inline>li:not(:last-child)::after {content: \"\\00b7\"; padding: 0 .5ex}\n",
       "</style>\n",
       "<ol class=list-inline><li>0.175351402256638</li><li>0.393648616736755</li><li>0.638894647359848</li><li>0.406300461152568</li><li>0.607974820770323</li><li>0.71590628917329</li><li>0.751997872488573</li><li>0.638768386794254</li><li>0.0338795396964997</li><li>0.752707595936954</li><li>0.415636755758896</li><li>0.719958098838106</li><li>0.279664853820577</li><li>0.899342435412109</li><li>0.95862058061175</li></ol>\n"
      ],
      "text/latex": [
       "\\begin{enumerate*}\n",
       "\\item 0.175351402256638\n",
       "\\item 0.393648616736755\n",
       "\\item 0.638894647359848\n",
       "\\item 0.406300461152568\n",
       "\\item 0.607974820770323\n",
       "\\item 0.71590628917329\n",
       "\\item 0.751997872488573\n",
       "\\item 0.638768386794254\n",
       "\\item 0.0338795396964997\n",
       "\\item 0.752707595936954\n",
       "\\item 0.415636755758896\n",
       "\\item 0.719958098838106\n",
       "\\item 0.279664853820577\n",
       "\\item 0.899342435412109\n",
       "\\item 0.95862058061175\n",
       "\\end{enumerate*}\n"
      ],
      "text/markdown": [
       "1. 0.175351402256638\n",
       "2. 0.393648616736755\n",
       "3. 0.638894647359848\n",
       "4. 0.406300461152568\n",
       "5. 0.607974820770323\n",
       "6. 0.71590628917329\n",
       "7. 0.751997872488573\n",
       "8. 0.638768386794254\n",
       "9. 0.0338795396964997\n",
       "10. 0.752707595936954\n",
       "11. 0.415636755758896\n",
       "12. 0.719958098838106\n",
       "13. 0.279664853820577\n",
       "14. 0.899342435412109\n",
       "15. 0.95862058061175\n",
       "\n",
       "\n"
      ],
      "text/plain": [
       " [1] 0.17535140 0.39364862 0.63889465 0.40630046 0.60797482 0.71590629\n",
       " [7] 0.75199787 0.63876839 0.03387954 0.75270760 0.41563676 0.71995810\n",
       "[13] 0.27966485 0.89934244 0.95862058"
      ]
     },
     "metadata": {},
     "output_type": "display_data"
    }
   ],
   "source": [
    "runif(15)"
   ]
  },
  {
   "cell_type": "markdown",
   "id": "14903d19",
   "metadata": {},
   "source": [
    "#### defaults to values between zero and one unless specified."
   ]
  },
  {
   "cell_type": "code",
   "execution_count": 3,
   "id": "6698cc54",
   "metadata": {},
   "outputs": [
    {
     "data": {
      "text/html": [
       "<style>\n",
       ".list-inline {list-style: none; margin:0; padding: 0}\n",
       ".list-inline>li {display: inline-block}\n",
       ".list-inline>li:not(:last-child)::after {content: \"\\00b7\"; padding: 0 .5ex}\n",
       "</style>\n",
       "<ol class=list-inline><li>3.16263280622661</li><li>3.98786181118339</li><li>0.200445245951414</li><li>0.955475298687816</li></ol>\n"
      ],
      "text/latex": [
       "\\begin{enumerate*}\n",
       "\\item 3.16263280622661\n",
       "\\item 3.98786181118339\n",
       "\\item 0.200445245951414\n",
       "\\item 0.955475298687816\n",
       "\\end{enumerate*}\n"
      ],
      "text/markdown": [
       "1. 3.16263280622661\n",
       "2. 3.98786181118339\n",
       "3. 0.200445245951414\n",
       "4. 0.955475298687816\n",
       "\n",
       "\n"
      ],
      "text/plain": [
       "[1] 3.1626328 3.9878618 0.2004452 0.9554753"
      ]
     },
     "metadata": {},
     "output_type": "display_data"
    }
   ],
   "source": [
    "runif(4, 0, 4)"
   ]
  },
  {
   "cell_type": "markdown",
   "id": "695585ce",
   "metadata": {},
   "source": [
    "#### In R, there are several functions that will generate random normally distributed variables. One simple function is rnorm(), which has the arguments of sample size, mean, and standard deviation. Generically, it would look like this:\n",
    "\n",
    "rnorm(n, mean, sd)\n",
    "Taking it for a spin, the function well will generate a normal distribution of 20 cases that has a mean of 35 and a standard deviation of 7:\n",
    "\n",
    "x = rnorm(20, 35, 7)\n",
    "print(x)\n",
    "And you might receive something that looks something like this:\n",
    "\n",
    "[1] 36.49904 18.71189 33.19152 28.49317 39.98666 32.00083"
   ]
  },
  {
   "cell_type": "code",
   "execution_count": null,
   "id": "2d12aa56",
   "metadata": {},
   "outputs": [],
   "source": []
  }
 ],
 "metadata": {
  "kernelspec": {
   "display_name": "R",
   "language": "R",
   "name": "ir"
  },
  "language_info": {
   "codemirror_mode": "r",
   "file_extension": ".r",
   "mimetype": "text/x-r-source",
   "name": "R",
   "pygments_lexer": "r",
   "version": "4.1.1"
  }
 },
 "nbformat": 4,
 "nbformat_minor": 5
}
