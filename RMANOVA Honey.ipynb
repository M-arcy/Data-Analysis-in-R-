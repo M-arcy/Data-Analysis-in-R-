{
 "cells": [
  {
   "cell_type": "code",
   "execution_count": 1,
   "id": "521c8e71",
   "metadata": {},
   "outputs": [
    {
     "name": "stderr",
     "output_type": "stream",
     "text": [
      "Loading required package: carData\n",
      "\n"
     ]
    },
    {
     "ename": "ERROR",
     "evalue": "Error in library(\"fastR2\"): there is no package called 'fastR2'\n",
     "output_type": "error",
     "traceback": [
      "Error in library(\"fastR2\"): there is no package called 'fastR2'\nTraceback:\n",
      "1. library(\"fastR2\")"
     ]
    }
   ],
   "source": [
    "library(\"rcompanion\")\n",
    "library(\"car\")\n",
    "library(\"fastR2\")\n",
    "library(\"dplyr\")"
   ]
  },
  {
   "cell_type": "code",
   "execution_count": 2,
   "id": "7946ef56",
   "metadata": {},
   "outputs": [
    {
     "name": "stderr",
     "output_type": "stream",
     "text": [
      "Installing package into 'C:/Users/Marcy/AppData/Local/R/win-library/4.2'\n",
      "(as 'lib' is unspecified)\n",
      "\n",
      "also installing the dependencies 'forcats', 'bit', 'tweenr', 'polyclip', 'haven', 'bit64', 'lazyeval', 'terra', 'ggforce', 'labelled', 'vroom', 'tzdb', 'png', 'jpeg', 'crosstalk', 'htmlwidgets', 'markdown', 'raster', 'viridis', 'leaflet.providers', 'ggformula', 'mosaicData', 'mosaicCore', 'ggstance', 'ggridges', 'ggrepel', 'readr', 'latticeExtra', 'ggdendro', 'gridExtra', 'leaflet', 'mosaic', 'maxLik', 'miscTools'\n",
      "\n",
      "\n"
     ]
    },
    {
     "name": "stdout",
     "output_type": "stream",
     "text": [
      "package 'forcats' successfully unpacked and MD5 sums checked\n",
      "package 'bit' successfully unpacked and MD5 sums checked\n",
      "package 'tweenr' successfully unpacked and MD5 sums checked\n",
      "package 'polyclip' successfully unpacked and MD5 sums checked\n",
      "package 'haven' successfully unpacked and MD5 sums checked\n",
      "package 'bit64' successfully unpacked and MD5 sums checked\n",
      "package 'lazyeval' successfully unpacked and MD5 sums checked\n",
      "package 'terra' successfully unpacked and MD5 sums checked\n",
      "package 'ggforce' successfully unpacked and MD5 sums checked\n",
      "package 'labelled' successfully unpacked and MD5 sums checked\n",
      "package 'vroom' successfully unpacked and MD5 sums checked\n",
      "package 'tzdb' successfully unpacked and MD5 sums checked\n",
      "package 'png' successfully unpacked and MD5 sums checked\n",
      "package 'jpeg' successfully unpacked and MD5 sums checked\n",
      "package 'crosstalk' successfully unpacked and MD5 sums checked\n",
      "package 'htmlwidgets' successfully unpacked and MD5 sums checked\n",
      "package 'markdown' successfully unpacked and MD5 sums checked\n",
      "package 'raster' successfully unpacked and MD5 sums checked\n",
      "package 'viridis' successfully unpacked and MD5 sums checked\n",
      "package 'leaflet.providers' successfully unpacked and MD5 sums checked\n",
      "package 'ggformula' successfully unpacked and MD5 sums checked\n",
      "package 'mosaicData' successfully unpacked and MD5 sums checked\n",
      "package 'mosaicCore' successfully unpacked and MD5 sums checked\n",
      "package 'ggstance' successfully unpacked and MD5 sums checked\n",
      "package 'ggridges' successfully unpacked and MD5 sums checked\n",
      "package 'ggrepel' successfully unpacked and MD5 sums checked\n",
      "package 'readr' successfully unpacked and MD5 sums checked\n",
      "package 'latticeExtra' successfully unpacked and MD5 sums checked\n",
      "package 'ggdendro' successfully unpacked and MD5 sums checked\n",
      "package 'gridExtra' successfully unpacked and MD5 sums checked\n",
      "package 'leaflet' successfully unpacked and MD5 sums checked\n",
      "package 'mosaic' successfully unpacked and MD5 sums checked\n",
      "package 'maxLik' successfully unpacked and MD5 sums checked\n",
      "package 'miscTools' successfully unpacked and MD5 sums checked\n",
      "package 'fastR2' successfully unpacked and MD5 sums checked\n",
      "\n",
      "The downloaded binary packages are in\n",
      "\tC:\\Users\\Marcy\\AppData\\Local\\Temp\\Rtmp4El4CC\\downloaded_packages\n"
     ]
    }
   ],
   "source": [
    "install.packages(\"fastR2\")"
   ]
  },
  {
   "cell_type": "code",
   "execution_count": 3,
   "id": "38147334",
   "metadata": {},
   "outputs": [],
   "source": [
    "honey <- read.csv(\"C:/Users/Marcy/Documents/Entity Coursework/DSO 105 Basic Stats in Python/Lesson 5/honey.csv\")"
   ]
  },
  {
   "cell_type": "code",
   "execution_count": 4,
   "id": "be7293a2",
   "metadata": {},
   "outputs": [
    {
     "data": {
      "text/html": [
       "<table class=\"dataframe\">\n",
       "<caption>A data.frame: 6 × 8</caption>\n",
       "<thead>\n",
       "\t<tr><th></th><th scope=col>state</th><th scope=col>numcol</th><th scope=col>yieldpercol</th><th scope=col>totalprod</th><th scope=col>stocks</th><th scope=col>priceperlb</th><th scope=col>prodvalue</th><th scope=col>year</th></tr>\n",
       "\t<tr><th></th><th scope=col>&lt;chr&gt;</th><th scope=col>&lt;dbl&gt;</th><th scope=col>&lt;int&gt;</th><th scope=col>&lt;dbl&gt;</th><th scope=col>&lt;int&gt;</th><th scope=col>&lt;dbl&gt;</th><th scope=col>&lt;int&gt;</th><th scope=col>&lt;int&gt;</th></tr>\n",
       "</thead>\n",
       "<tbody>\n",
       "\t<tr><th scope=row>1</th><td>AL</td><td>  9000</td><td>66</td><td>  594000</td><td> 214000</td><td>1.90</td><td> 1129000</td><td>2008</td></tr>\n",
       "\t<tr><th scope=row>2</th><td>AZ</td><td> 25000</td><td>64</td><td> 1600000</td><td> 336000</td><td>1.26</td><td> 2016000</td><td>2008</td></tr>\n",
       "\t<tr><th scope=row>3</th><td>AR</td><td> 28000</td><td>75</td><td> 2100000</td><td> 525000</td><td>1.35</td><td> 2835000</td><td>2008</td></tr>\n",
       "\t<tr><th scope=row>4</th><td>CA</td><td>360000</td><td>51</td><td>18360000</td><td>4039000</td><td>1.39</td><td>25520000</td><td>2008</td></tr>\n",
       "\t<tr><th scope=row>5</th><td>CO</td><td> 27000</td><td>45</td><td> 1215000</td><td> 656000</td><td>1.51</td><td> 1835000</td><td>2008</td></tr>\n",
       "\t<tr><th scope=row>6</th><td>FL</td><td>150000</td><td>79</td><td>11850000</td><td>1304000</td><td>1.32</td><td>15642000</td><td>2008</td></tr>\n",
       "</tbody>\n",
       "</table>\n"
      ],
      "text/latex": [
       "A data.frame: 6 × 8\n",
       "\\begin{tabular}{r|llllllll}\n",
       "  & state & numcol & yieldpercol & totalprod & stocks & priceperlb & prodvalue & year\\\\\n",
       "  & <chr> & <dbl> & <int> & <dbl> & <int> & <dbl> & <int> & <int>\\\\\n",
       "\\hline\n",
       "\t1 & AL &   9000 & 66 &   594000 &  214000 & 1.90 &  1129000 & 2008\\\\\n",
       "\t2 & AZ &  25000 & 64 &  1600000 &  336000 & 1.26 &  2016000 & 2008\\\\\n",
       "\t3 & AR &  28000 & 75 &  2100000 &  525000 & 1.35 &  2835000 & 2008\\\\\n",
       "\t4 & CA & 360000 & 51 & 18360000 & 4039000 & 1.39 & 25520000 & 2008\\\\\n",
       "\t5 & CO &  27000 & 45 &  1215000 &  656000 & 1.51 &  1835000 & 2008\\\\\n",
       "\t6 & FL & 150000 & 79 & 11850000 & 1304000 & 1.32 & 15642000 & 2008\\\\\n",
       "\\end{tabular}\n"
      ],
      "text/markdown": [
       "\n",
       "A data.frame: 6 × 8\n",
       "\n",
       "| <!--/--> | state &lt;chr&gt; | numcol &lt;dbl&gt; | yieldpercol &lt;int&gt; | totalprod &lt;dbl&gt; | stocks &lt;int&gt; | priceperlb &lt;dbl&gt; | prodvalue &lt;int&gt; | year &lt;int&gt; |\n",
       "|---|---|---|---|---|---|---|---|---|\n",
       "| 1 | AL |   9000 | 66 |   594000 |  214000 | 1.90 |  1129000 | 2008 |\n",
       "| 2 | AZ |  25000 | 64 |  1600000 |  336000 | 1.26 |  2016000 | 2008 |\n",
       "| 3 | AR |  28000 | 75 |  2100000 |  525000 | 1.35 |  2835000 | 2008 |\n",
       "| 4 | CA | 360000 | 51 | 18360000 | 4039000 | 1.39 | 25520000 | 2008 |\n",
       "| 5 | CO |  27000 | 45 |  1215000 |  656000 | 1.51 |  1835000 | 2008 |\n",
       "| 6 | FL | 150000 | 79 | 11850000 | 1304000 | 1.32 | 15642000 | 2008 |\n",
       "\n"
      ],
      "text/plain": [
       "  state numcol yieldpercol totalprod stocks  priceperlb prodvalue year\n",
       "1 AL      9000 66            594000   214000 1.90        1129000  2008\n",
       "2 AZ     25000 64           1600000   336000 1.26        2016000  2008\n",
       "3 AR     28000 75           2100000   525000 1.35        2835000  2008\n",
       "4 CA    360000 51          18360000  4039000 1.39       25520000  2008\n",
       "5 CO     27000 45           1215000   656000 1.51        1835000  2008\n",
       "6 FL    150000 79          11850000  1304000 1.32       15642000  2008"
      ]
     },
     "metadata": {},
     "output_type": "display_data"
    }
   ],
   "source": [
    "head(honey)"
   ]
  },
  {
   "cell_type": "markdown",
   "id": "b1838ddc",
   "metadata": {},
   "source": [
    "## determine whether honey production totalprod has changed over the years (year) using a repeated measures ANOVA. Provide a one-sentence conclusion at the bottom of your program file about the analysis you performed."
   ]
  },
  {
   "cell_type": "markdown",
   "id": "c90bc802",
   "metadata": {},
   "source": [
    "#### data wrangling"
   ]
  },
  {
   "cell_type": "code",
   "execution_count": 8,
   "id": "4ef41973",
   "metadata": {},
   "outputs": [],
   "source": [
    "honey$year <- as.character(honey$year)"
   ]
  },
  {
   "cell_type": "code",
   "execution_count": 9,
   "id": "c3a1c74a",
   "metadata": {},
   "outputs": [],
   "source": [
    "honey$year <- as.factor(honey$year)"
   ]
  },
  {
   "cell_type": "markdown",
   "id": "10f64206",
   "metadata": {},
   "source": [
    "#### test for normal distribution"
   ]
  },
  {
   "cell_type": "code",
   "execution_count": 10,
   "id": "7a9b856b",
   "metadata": {},
   "outputs": [
    {
     "data": {
      "image/png": "[encoded data removed]",
      "text/plain": [
       "Plot with title \"\""
      ]
     },
     "metadata": {
      "image/png": {
       "height": 420,
       "width": 420
      }
     },
     "output_type": "display_data"
    }
   ],
   "source": [
    "plotNormalHistogram(honey$totalprod)"
   ]
  },
  {
   "cell_type": "markdown",
   "id": "623822c5",
   "metadata": {},
   "source": [
    "#### positively skewed, sqrt not enough, so try log"
   ]
  },
  {
   "cell_type": "code",
   "execution_count": 13,
   "id": "2ce9aaa1",
   "metadata": {},
   "outputs": [],
   "source": [
    "honey$totalprodLOG <- log(honey$totalprod)"
   ]
  },
  {
   "cell_type": "code",
   "execution_count": 14,
   "id": "93d06828",
   "metadata": {},
   "outputs": [
    {
     "data": {
      "image/png": "[encoded data removed]",
      "text/plain": [
       "Plot with title \"\""
      ]
     },
     "metadata": {
      "image/png": {
       "height": 420,
       "width": 420
      }
     },
     "output_type": "display_data"
    }
   ],
   "source": [
    "plotNormalHistogram(honey$totalprodLOG)"
   ]
  },
  {
   "cell_type": "markdown",
   "id": "613abc23",
   "metadata": {},
   "source": [
    "#### very nice"
   ]
  },
  {
   "cell_type": "code",
   "execution_count": 16,
   "id": "7fa37f28",
   "metadata": {},
   "outputs": [
    {
     "data": {
      "text/html": [
       "<table class=\"dataframe\">\n",
       "<caption>A anova: 2 × 3</caption>\n",
       "<thead>\n",
       "\t<tr><th></th><th scope=col>Df</th><th scope=col>F value</th><th scope=col>Pr(&gt;F)</th></tr>\n",
       "\t<tr><th></th><th scope=col>&lt;int&gt;</th><th scope=col>&lt;dbl&gt;</th><th scope=col>&lt;dbl&gt;</th></tr>\n",
       "</thead>\n",
       "<tbody>\n",
       "\t<tr><th scope=row>group</th><td>  4</td><td>0.03178299</td><td>0.9980452</td></tr>\n",
       "\t<tr><th scope=row> </th><td>196</td><td>        NA</td><td>       NA</td></tr>\n",
       "</tbody>\n",
       "</table>\n"
      ],
      "text/latex": [
       "A anova: 2 × 3\n",
       "\\begin{tabular}{r|lll}\n",
       "  & Df & F value & Pr(>F)\\\\\n",
       "  & <int> & <dbl> & <dbl>\\\\\n",
       "\\hline\n",
       "\tgroup &   4 & 0.03178299 & 0.9980452\\\\\n",
       "\t  & 196 &         NA &        NA\\\\\n",
       "\\end{tabular}\n"
      ],
      "text/markdown": [
       "\n",
       "A anova: 2 × 3\n",
       "\n",
       "| <!--/--> | Df &lt;int&gt; | F value &lt;dbl&gt; | Pr(&gt;F) &lt;dbl&gt; |\n",
       "|---|---|---|---|\n",
       "| group |   4 | 0.03178299 | 0.9980452 |\n",
       "| <!----> | 196 |         NA |        NA |\n",
       "\n"
      ],
      "text/plain": [
       "      Df  F value    Pr(>F)   \n",
       "group   4 0.03178299 0.9980452\n",
       "      196         NA        NA"
      ]
     },
     "metadata": {},
     "output_type": "display_data"
    }
   ],
   "source": [
    "leveneTest(totalprodLOG ~ year, data=honey)"
   ]
  },
  {
   "cell_type": "markdown",
   "id": "2d7f1373",
   "metadata": {},
   "source": [
    "#### Analysis"
   ]
  },
  {
   "cell_type": "code",
   "execution_count": 17,
   "id": "add18bf1",
   "metadata": {},
   "outputs": [
    {
     "data": {
      "text/plain": [
       "\n",
       "Error: state\n",
       "          Df Sum Sq Mean Sq F value Pr(>F)\n",
       "year       1    2.6   2.571   0.272  0.605\n",
       "Residuals 39  368.6   9.452               \n",
       "\n",
       "Error: Within\n",
       "           Df Sum Sq Mean Sq F value  Pr(>F)   \n",
       "year        4  0.677 0.16913   4.007 0.00402 **\n",
       "Residuals 156  6.584 0.04221                   \n",
       "---\n",
       "Signif. codes:  0 '***' 0.001 '**' 0.01 '*' 0.05 '.' 0.1 ' ' 1"
      ]
     },
     "metadata": {},
     "output_type": "display_data"
    }
   ],
   "source": [
    "RManova <- aov(totalprodLOG ~ year+Error(state), honey)\n",
    "summary(RManova)"
   ]
  },
  {
   "cell_type": "code",
   "execution_count": 18,
   "id": "d6e74256",
   "metadata": {},
   "outputs": [],
   "source": [
    "RMANOVA <- aov(log(totalprod) ~ year, honey)"
   ]
  },
  {
   "cell_type": "code",
   "execution_count": 19,
   "id": "c0bc5b79",
   "metadata": {},
   "outputs": [
    {
     "data": {
      "text/plain": [
       "             Df Sum Sq Mean Sq F value Pr(>F)\n",
       "year          4    0.4   0.112   0.058  0.994\n",
       "Residuals   196  378.0   1.929               "
      ]
     },
     "metadata": {},
     "output_type": "display_data"
    }
   ],
   "source": [
    "summary(RMANOVA)"
   ]
  },
  {
   "cell_type": "code",
   "execution_count": null,
   "id": "2b8a5abf",
   "metadata": {},
   "outputs": [],
   "source": [
    "#p value is .99 > .05, so significant change. "
   ]
  }
 ],
 "metadata": {
  "kernelspec": {
   "display_name": "R",
   "language": "R",
   "name": "ir"
  },
  "language_info": {
   "codemirror_mode": "r",
   "file_extension": ".r",
   "mimetype": "text/x-r-source",
   "name": "R",
   "pygments_lexer": "r",
   "version": "4.2.0"
  }
 },
 "nbformat": 4,
 "nbformat_minor": 5
}
