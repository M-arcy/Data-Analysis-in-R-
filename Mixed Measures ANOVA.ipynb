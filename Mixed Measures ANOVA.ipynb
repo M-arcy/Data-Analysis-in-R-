{
 "cells": [
  {
   "cell_type": "code",
   "execution_count": 4,
   "id": "89c80eae",
   "metadata": {},
   "outputs": [],
   "source": [
    "library(\"rcompanion\")\n",
    "library(\"car\")\n",
    "library(\"dplyr\")\n",
    "library(\"IDPmisc\")"
   ]
  },
  {
   "cell_type": "code",
   "execution_count": 5,
   "id": "02515ec5",
   "metadata": {},
   "outputs": [],
   "source": [
    "suicide <- read.csv(\"C:/Users/Marcy/Documents/Entity Coursework/DSO 105 Basic Stats in Python/lesson 6/suicide.csv\")"
   ]
  },
  {
   "cell_type": "code",
   "execution_count": 3,
   "id": "3b68a804",
   "metadata": {},
   "outputs": [
    {
     "data": {
      "text/html": [
       "<table class=\"dataframe\">\n",
       "<caption>A data.frame: 6 × 12</caption>\n",
       "<thead>\n",
       "\t<tr><th></th><th scope=col>ï..country</th><th scope=col>year</th><th scope=col>sex</th><th scope=col>age</th><th scope=col>suicides_no</th><th scope=col>population</th><th scope=col>suicides.100k.pop</th><th scope=col>country.year</th><th scope=col>HDI.for.year</th><th scope=col>gdp_for_year....</th><th scope=col>gdp_per_capita....</th><th scope=col>generation</th></tr>\n",
       "\t<tr><th></th><th scope=col>&lt;chr&gt;</th><th scope=col>&lt;int&gt;</th><th scope=col>&lt;chr&gt;</th><th scope=col>&lt;chr&gt;</th><th scope=col>&lt;int&gt;</th><th scope=col>&lt;int&gt;</th><th scope=col>&lt;dbl&gt;</th><th scope=col>&lt;chr&gt;</th><th scope=col>&lt;dbl&gt;</th><th scope=col>&lt;chr&gt;</th><th scope=col>&lt;int&gt;</th><th scope=col>&lt;chr&gt;</th></tr>\n",
       "</thead>\n",
       "<tbody>\n",
       "\t<tr><th scope=row>1</th><td>Albania</td><td>1987</td><td>male  </td><td>15-24 years</td><td>21</td><td>312900</td><td>6.71</td><td>Albania1987</td><td>NA</td><td>2,156,624,900</td><td>796</td><td>Generation X   </td></tr>\n",
       "\t<tr><th scope=row>2</th><td>Albania</td><td>1987</td><td>male  </td><td>35-54 years</td><td>16</td><td>308000</td><td>5.19</td><td>Albania1987</td><td>NA</td><td>2,156,624,900</td><td>796</td><td>Silent         </td></tr>\n",
       "\t<tr><th scope=row>3</th><td>Albania</td><td>1987</td><td>female</td><td>15-24 years</td><td>14</td><td>289700</td><td>4.83</td><td>Albania1987</td><td>NA</td><td>2,156,624,900</td><td>796</td><td>Generation X   </td></tr>\n",
       "\t<tr><th scope=row>4</th><td>Albania</td><td>1987</td><td>male  </td><td>75+ years  </td><td> 1</td><td> 21800</td><td>4.59</td><td>Albania1987</td><td>NA</td><td>2,156,624,900</td><td>796</td><td>G.I. Generation</td></tr>\n",
       "\t<tr><th scope=row>5</th><td>Albania</td><td>1987</td><td>male  </td><td>25-34 years</td><td> 9</td><td>274300</td><td>3.28</td><td>Albania1987</td><td>NA</td><td>2,156,624,900</td><td>796</td><td>Boomers        </td></tr>\n",
       "\t<tr><th scope=row>6</th><td>Albania</td><td>1987</td><td>female</td><td>75+ years  </td><td> 1</td><td> 35600</td><td>2.81</td><td>Albania1987</td><td>NA</td><td>2,156,624,900</td><td>796</td><td>G.I. Generation</td></tr>\n",
       "</tbody>\n",
       "</table>\n"
      ],
      "text/latex": [
       "A data.frame: 6 × 12\n",
       "\\begin{tabular}{r|llllllllllll}\n",
       "  & ï..country & year & sex & age & suicides\\_no & population & suicides.100k.pop & country.year & HDI.for.year & gdp\\_for\\_year.... & gdp\\_per\\_capita.... & generation\\\\\n",
       "  & <chr> & <int> & <chr> & <chr> & <int> & <int> & <dbl> & <chr> & <dbl> & <chr> & <int> & <chr>\\\\\n",
       "\\hline\n",
       "\t1 & Albania & 1987 & male   & 15-24 years & 21 & 312900 & 6.71 & Albania1987 & NA & 2,156,624,900 & 796 & Generation X   \\\\\n",
       "\t2 & Albania & 1987 & male   & 35-54 years & 16 & 308000 & 5.19 & Albania1987 & NA & 2,156,624,900 & 796 & Silent         \\\\\n",
       "\t3 & Albania & 1987 & female & 15-24 years & 14 & 289700 & 4.83 & Albania1987 & NA & 2,156,624,900 & 796 & Generation X   \\\\\n",
       "\t4 & Albania & 1987 & male   & 75+ years   &  1 &  21800 & 4.59 & Albania1987 & NA & 2,156,624,900 & 796 & G.I. Generation\\\\\n",
       "\t5 & Albania & 1987 & male   & 25-34 years &  9 & 274300 & 3.28 & Albania1987 & NA & 2,156,624,900 & 796 & Boomers        \\\\\n",
       "\t6 & Albania & 1987 & female & 75+ years   &  1 &  35600 & 2.81 & Albania1987 & NA & 2,156,624,900 & 796 & G.I. Generation\\\\\n",
       "\\end{tabular}\n"
      ],
      "text/markdown": [
       "\n",
       "A data.frame: 6 × 12\n",
       "\n",
       "| <!--/--> | ï..country &lt;chr&gt; | year &lt;int&gt; | sex &lt;chr&gt; | age &lt;chr&gt; | suicides_no &lt;int&gt; | population &lt;int&gt; | suicides.100k.pop &lt;dbl&gt; | country.year &lt;chr&gt; | HDI.for.year &lt;dbl&gt; | gdp_for_year.... &lt;chr&gt; | gdp_per_capita.... &lt;int&gt; | generation &lt;chr&gt; |\n",
       "|---|---|---|---|---|---|---|---|---|---|---|---|---|\n",
       "| 1 | Albania | 1987 | male   | 15-24 years | 21 | 312900 | 6.71 | Albania1987 | NA | 2,156,624,900 | 796 | Generation X    |\n",
       "| 2 | Albania | 1987 | male   | 35-54 years | 16 | 308000 | 5.19 | Albania1987 | NA | 2,156,624,900 | 796 | Silent          |\n",
       "| 3 | Albania | 1987 | female | 15-24 years | 14 | 289700 | 4.83 | Albania1987 | NA | 2,156,624,900 | 796 | Generation X    |\n",
       "| 4 | Albania | 1987 | male   | 75+ years   |  1 |  21800 | 4.59 | Albania1987 | NA | 2,156,624,900 | 796 | G.I. Generation |\n",
       "| 5 | Albania | 1987 | male   | 25-34 years |  9 | 274300 | 3.28 | Albania1987 | NA | 2,156,624,900 | 796 | Boomers         |\n",
       "| 6 | Albania | 1987 | female | 75+ years   |  1 |  35600 | 2.81 | Albania1987 | NA | 2,156,624,900 | 796 | G.I. Generation |\n",
       "\n"
      ],
      "text/plain": [
       "  ï..country year sex    age         suicides_no population suicides.100k.pop\n",
       "1 Albania    1987 male   15-24 years 21          312900     6.71             \n",
       "2 Albania    1987 male   35-54 years 16          308000     5.19             \n",
       "3 Albania    1987 female 15-24 years 14          289700     4.83             \n",
       "4 Albania    1987 male   75+ years    1           21800     4.59             \n",
       "5 Albania    1987 male   25-34 years  9          274300     3.28             \n",
       "6 Albania    1987 female 75+ years    1           35600     2.81             \n",
       "  country.year HDI.for.year gdp_for_year.... gdp_per_capita.... generation     \n",
       "1 Albania1987  NA           2,156,624,900    796                Generation X   \n",
       "2 Albania1987  NA           2,156,624,900    796                Silent         \n",
       "3 Albania1987  NA           2,156,624,900    796                Generation X   \n",
       "4 Albania1987  NA           2,156,624,900    796                G.I. Generation\n",
       "5 Albania1987  NA           2,156,624,900    796                Boomers        \n",
       "6 Albania1987  NA           2,156,624,900    796                G.I. Generation"
      ]
     },
     "metadata": {},
     "output_type": "display_data"
    }
   ],
   "source": [
    "head(suicide)"
   ]
  },
  {
   "cell_type": "markdown",
   "id": "10b5025f",
   "metadata": {},
   "source": [
    "# determine whether suicide rates (suicides/100k pop) has changed over the years (year), and see if the generation has any influence. "
   ]
  },
  {
   "cell_type": "markdown",
   "id": "a84ea98b",
   "metadata": {},
   "source": [
    "#### check assumptions"
   ]
  },
  {
   "cell_type": "code",
   "execution_count": 6,
   "id": "55ceb75c",
   "metadata": {},
   "outputs": [
    {
     "data": {
      "image/png": "[encoded data removed]",
      "text/plain": [
       "Plot with title \"\""
      ]
     },
     "metadata": {
      "image/png": {
       "height": 420,
       "width": 420
      }
     },
     "output_type": "display_data"
    }
   ],
   "source": [
    "plotNormalHistogram(suicide$suicides.100k.pop)"
   ]
  },
  {
   "cell_type": "code",
   "execution_count": 7,
   "id": "b1456a58",
   "metadata": {},
   "outputs": [],
   "source": [
    "suicide$suicides.100k.popSQRT <- sqrt(suicide$suicides.100k.pop)"
   ]
  },
  {
   "cell_type": "code",
   "execution_count": 8,
   "id": "655dc7e9",
   "metadata": {},
   "outputs": [
    {
     "data": {
      "image/png": "[encoded data removed]",
      "text/plain": [
       "Plot with title \"\""
      ]
     },
     "metadata": {
      "image/png": {
       "height": 420,
       "width": 420
      }
     },
     "output_type": "display_data"
    }
   ],
   "source": [
    "plotNormalHistogram(suicide$suicides.100k.popSQRT)"
   ]
  },
  {
   "cell_type": "markdown",
   "id": "9e7fa993",
   "metadata": {},
   "source": [
    "#### not that great, try LOG"
   ]
  },
  {
   "cell_type": "code",
   "execution_count": 9,
   "id": "feaf0a92",
   "metadata": {},
   "outputs": [],
   "source": [
    "suicide$suicides.100k.popLOG <- log(suicide$suicides.100k.pop)"
   ]
  },
  {
   "cell_type": "code",
   "execution_count": 11,
   "id": "addeed91",
   "metadata": {},
   "outputs": [
    {
     "ename": "ERROR",
     "evalue": "Error in seq.default(min(x), max(x), length = length): 'from' must be a finite number\n",
     "output_type": "error",
     "traceback": [
      "Error in seq.default(min(x), max(x), length = length): 'from' must be a finite number\nTraceback:\n",
      "1. plotNormalHistogram(suicide$suicides.100k.popLOG)",
      "2. seq(min(x), max(x), length = length)",
      "3. seq.default(min(x), max(x), length = length)",
      "4. stop(\"'from' must be a finite number\")"
     ]
    }
   ],
   "source": [
    "plotNormalHistogram(suicide$suicides.100k.popLOG)"
   ]
  },
  {
   "cell_type": "markdown",
   "id": "434b6e8b",
   "metadata": {},
   "source": [
    "#### too far with LOG, omit the null values"
   ]
  },
  {
   "cell_type": "code",
   "execution_count": 12,
   "id": "77196d0c",
   "metadata": {},
   "outputs": [],
   "source": [
    "suicide4 <- NaRV.omit(suicide)"
   ]
  },
  {
   "cell_type": "code",
   "execution_count": 13,
   "id": "9a920867",
   "metadata": {},
   "outputs": [
    {
     "data": {
      "image/png": "[encoded data removed]",
      "text/plain": [
       "Plot with title \"\""
      ]
     },
     "metadata": {
      "image/png": {
       "height": 420,
       "width": 420
      }
     },
     "output_type": "display_data"
    }
   ],
   "source": [
    "plotNormalHistogram(suicide4$suicides.100k.popLOG)"
   ]
  },
  {
   "cell_type": "markdown",
   "id": "65beecb2",
   "metadata": {},
   "source": [
    "#### nice."
   ]
  },
  {
   "cell_type": "markdown",
   "id": "6d2469d2",
   "metadata": {},
   "source": [
    "#### next, test for homogeneity of variance"
   ]
  },
  {
   "cell_type": "code",
   "execution_count": 14,
   "id": "524e11d9",
   "metadata": {},
   "outputs": [
    {
     "name": "stderr",
     "output_type": "stream",
     "text": [
      "Warning message in leveneTest.default(y = y, group = group, ...):\n",
      "\"group coerced to factor.\"\n"
     ]
    },
    {
     "data": {
      "text/html": [
       "<table class=\"dataframe\">\n",
       "<caption>A anova: 2 × 3</caption>\n",
       "<thead>\n",
       "\t<tr><th></th><th scope=col>Df</th><th scope=col>F value</th><th scope=col>Pr(&gt;F)</th></tr>\n",
       "\t<tr><th></th><th scope=col>&lt;int&gt;</th><th scope=col>&lt;dbl&gt;</th><th scope=col>&lt;dbl&gt;</th></tr>\n",
       "</thead>\n",
       "<tbody>\n",
       "\t<tr><th scope=row>group</th><td>   5</td><td>18.17709</td><td>5.712815e-18</td></tr>\n",
       "\t<tr><th scope=row> </th><td>7201</td><td>      NA</td><td>          NA</td></tr>\n",
       "</tbody>\n",
       "</table>\n"
      ],
      "text/latex": [
       "A anova: 2 × 3\n",
       "\\begin{tabular}{r|lll}\n",
       "  & Df & F value & Pr(>F)\\\\\n",
       "  & <int> & <dbl> & <dbl>\\\\\n",
       "\\hline\n",
       "\tgroup &    5 & 18.17709 & 5.712815e-18\\\\\n",
       "\t  & 7201 &       NA &           NA\\\\\n",
       "\\end{tabular}\n"
      ],
      "text/markdown": [
       "\n",
       "A anova: 2 × 3\n",
       "\n",
       "| <!--/--> | Df &lt;int&gt; | F value &lt;dbl&gt; | Pr(&gt;F) &lt;dbl&gt; |\n",
       "|---|---|---|---|\n",
       "| group |    5 | 18.17709 | 5.712815e-18 |\n",
       "| <!----> | 7201 |       NA |           NA |\n",
       "\n"
      ],
      "text/plain": [
       "      Df   F value  Pr(>F)      \n",
       "group    5 18.17709 5.712815e-18\n",
       "      7201       NA           NA"
      ]
     },
     "metadata": {},
     "output_type": "display_data"
    }
   ],
   "source": [
    "leveneTest(suicides.100k.popLOG ~ generation, data=suicide4)"
   ]
  },
  {
   "cell_type": "markdown",
   "id": "af96827e",
   "metadata": {},
   "source": [
    "#### P,.05 but we'll go ahead.  sample size is 27,820 entries, which is >40"
   ]
  },
  {
   "cell_type": "code",
   "execution_count": 15,
   "id": "9df0a53a",
   "metadata": {},
   "outputs": [
    {
     "name": "stderr",
     "output_type": "stream",
     "text": [
      "Warning message in aov(suicides.100k.popLOG ~ (generation * year) + Error(ï..country/(year)), :\n",
      "\"Error() model is singular\"\n"
     ]
    },
    {
     "data": {
      "text/plain": [
       "\n",
       "Error: ï..country\n",
       "                Df Sum Sq Mean Sq F value Pr(>F)  \n",
       "generation       5  377.6   75.53   2.098 0.0746 .\n",
       "year             1    4.3    4.25   0.118 0.7320  \n",
       "generation:year  5   84.6   16.92   0.470 0.7975  \n",
       "Residuals       77 2771.7   36.00                 \n",
       "---\n",
       "Signif. codes:  0 '***' 0.001 '**' 0.01 '*' 0.05 '.' 0.1 ' ' 1\n",
       "\n",
       "Error: ï..country:year\n",
       "                Df Sum Sq Mean Sq F value   Pr(>F)    \n",
       "generation       5  35.50   7.101   4.638 0.000942 ***\n",
       "year             1   0.73   0.729   0.476 0.492386    \n",
       "generation:year  5  33.33   6.666   4.354 0.001528 ** \n",
       "Residuals       77 117.89   1.531                     \n",
       "---\n",
       "Signif. codes:  0 '***' 0.001 '**' 0.01 '*' 0.05 '.' 0.1 ' ' 1\n",
       "\n",
       "Error: Within\n",
       "                  Df Sum Sq Mean Sq F value Pr(>F)    \n",
       "generation         5   4723   944.5    1087 <2e-16 ***\n",
       "generation:year    5    886   177.2     204 <2e-16 ***\n",
       "Residuals       7020   6099     0.9                   \n",
       "---\n",
       "Signif. codes:  0 '***' 0.001 '**' 0.01 '*' 0.05 '.' 0.1 ' ' 1"
      ]
     },
     "metadata": {},
     "output_type": "display_data"
    }
   ],
   "source": [
    "RManova1 <- aov(suicides.100k.popLOG~(generation*year)+Error(ï..country/(year)), suicide4)\n",
    "summary(RManova1)"
   ]
  },
  {
   "cell_type": "markdown",
   "id": "3e460a80",
   "metadata": {},
   "source": [
    "#### it does look like year affects suicides, now to see how in the post hocs"
   ]
  },
  {
   "cell_type": "code",
   "execution_count": 16,
   "id": "5facf9eb",
   "metadata": {},
   "outputs": [
    {
     "data": {
      "text/plain": [
       "\n",
       "\tPairwise comparisons using t tests with pooled SD \n",
       "\n",
       "data:  suicide4$suicides.100k.popLOG and suicide4$generation \n",
       "\n",
       "                Boomers G.I. Generation Generation X Generation Z Millenials\n",
       "G.I. Generation 6.5e-16 -               -            -            -         \n",
       "Generation X    1.2e-13 < 2e-16         -            -            -         \n",
       "Generation Z    < 2e-16 < 2e-16         < 2e-16      -            -         \n",
       "Millenials      < 2e-16 < 2e-16         < 2e-16      < 2e-16      -         \n",
       "Silent          1.2e-05 2.0e-05         < 2e-16      < 2e-16      < 2e-16   \n",
       "\n",
       "P value adjustment method: bonferroni "
      ]
     },
     "metadata": {},
     "output_type": "display_data"
    }
   ],
   "source": [
    "pairwise.t.test(suicide4$suicides.100k.popLOG, suicide4$generation, p.adjust=\"bonferroni\")"
   ]
  },
  {
   "cell_type": "markdown",
   "id": "d8cac189",
   "metadata": {},
   "source": [
    "#### there's a difference in suicide rates in all the generations."
   ]
  },
  {
   "cell_type": "markdown",
   "id": "03210de4",
   "metadata": {},
   "source": [
    "#### now to see how there's a difference by comparing means"
   ]
  },
  {
   "cell_type": "code",
   "execution_count": 19,
   "id": "42695e01",
   "metadata": {},
   "outputs": [
    {
     "name": "stderr",
     "output_type": "stream",
     "text": [
      "`summarise()` has grouped output by 'generation'. You can override using the `.groups` argument.\n",
      "\n"
     ]
    }
   ],
   "source": [
    "suicideMeans <- suicide4 %>% group_by(generation, year) %>% summarize(Mean=mean(suicides.100k.pop))"
   ]
  },
  {
   "cell_type": "markdown",
   "id": "75b10d4b",
   "metadata": {},
   "source": [
    "#### with the averages, Gen Z is least likely to commit suicide. "
   ]
  },
  {
   "cell_type": "code",
   "execution_count": null,
   "id": "c751f259",
   "metadata": {},
   "outputs": [],
   "source": []
  }
 ],
 "metadata": {
  "kernelspec": {
   "display_name": "R",
   "language": "R",
   "name": "ir"
  },
  "language_info": {
   "codemirror_mode": "r",
   "file_extension": ".r",
   "mimetype": "text/x-r-source",
   "name": "R",
   "pygments_lexer": "r",
   "version": "4.1.1"
  }
 },
 "nbformat": 4,
 "nbformat_minor": 5
}
