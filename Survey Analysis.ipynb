{
 "cells": [
  {
   "cell_type": "code",
   "execution_count": 1,
   "id": "82d2af6e",
   "metadata": {},
   "outputs": [
    {
     "name": "stderr",
     "output_type": "stream",
     "text": [
      "Warning message:\n",
      "\"package 'psych' was built under R version 4.1.2\"\n",
      "Warning message:\n",
      "\"package 'IDPmisc' was built under R version 4.1.2\"\n"
     ]
    }
   ],
   "source": [
    "library(\"corpcor\")\n",
    "library(\"GPArotation\")\n",
    "library(\"psych\")\n",
    "library(\"IDPmisc\")"
   ]
  },
  {
   "cell_type": "code",
   "execution_count": 2,
   "id": "f24232d1",
   "metadata": {},
   "outputs": [],
   "source": [
    "data = read.csv(\"C:/Users/Marcy/Documents/Entity Coursework/DSO103/studentSurvey.csv\", fileEncoding = \"UTF-8-BOM\")"
   ]
  },
  {
   "cell_type": "code",
   "execution_count": 3,
   "id": "d5223520",
   "metadata": {
    "scrolled": true
   },
   "outputs": [
    {
     "data": {
      "text/html": [
       "<table class=\"dataframe\">\n",
       "<caption>A data.frame: 6 × 87</caption>\n",
       "<thead>\n",
       "\t<tr><th></th><th scope=col>Timestamp</th><th scope=col>Gender</th><th scope=col>Faculty</th><th scope=col>Engineering.Program</th><th scope=col>Law.Program</th><th scope=col>Business.Program</th><th scope=col>Arts.Program</th><th scope=col>Other.Program</th><th scope=col>Bachelor..Academic.Year.in.EU</th><th scope=col>Masters.Academic.Year.in.EU</th><th scope=col>...</th><th scope=col>Q3</th><th scope=col>Q4</th><th scope=col>Q5</th><th scope=col>Q6..What.are.the.best.aspects.of.the.program..</th><th scope=col>Q7..In.your.opinion.the.best.aspect.of.the.program.is</th><th scope=col>Q8..In.your.opinion.the.next.best.aspect.of.the.program.is</th><th scope=col>What.aspects.of.the.program.could.be.improved.</th><th scope=col>Do.you.feel.that.the.quality.of.education.improved.at.EU.over.the.last.year.</th><th scope=col>Do.you.feel.that.the.image.of.the.University.improved.over.the.last.year.</th><th scope=col>Username</th></tr>\n",
       "\t<tr><th></th><th scope=col>&lt;chr&gt;</th><th scope=col>&lt;chr&gt;</th><th scope=col>&lt;chr&gt;</th><th scope=col>&lt;lgl&gt;</th><th scope=col>&lt;chr&gt;</th><th scope=col>&lt;chr&gt;</th><th scope=col>&lt;chr&gt;</th><th scope=col>&lt;lgl&gt;</th><th scope=col>&lt;chr&gt;</th><th scope=col>&lt;chr&gt;</th><th scope=col>...</th><th scope=col>&lt;int&gt;</th><th scope=col>&lt;int&gt;</th><th scope=col>&lt;int&gt;</th><th scope=col>&lt;int&gt;</th><th scope=col>&lt;chr&gt;</th><th scope=col>&lt;chr&gt;</th><th scope=col>&lt;chr&gt;</th><th scope=col>&lt;chr&gt;</th><th scope=col>&lt;chr&gt;</th><th scope=col>&lt;lgl&gt;</th></tr>\n",
       "</thead>\n",
       "<tbody>\n",
       "\t<tr><th scope=row>1</th><td>1/25/2016 14:37</td><td>Male  </td><td>Arts</td><td>NA</td><td></td><td></td><td>B.A. in English</td><td>NA</td><td>3rd Year</td><td></td><td>...</td><td>4</td><td>4</td><td>5</td><td>5</td><td>Teaching/Learning</td><td>Teaching/Learning           </td><td>Teaching/Learning           </td><td>Yes</td><td>Yes</td><td>NA</td></tr>\n",
       "\t<tr><th scope=row>2</th><td>1/25/2016 14:38</td><td>Female</td><td>Arts</td><td>NA</td><td></td><td></td><td>B.A. in English</td><td>NA</td><td>4th Year</td><td></td><td>...</td><td>4</td><td>4</td><td>5</td><td>5</td><td>Faculty          </td><td>Faculty                     </td><td>Teaching/Learning           </td><td>Yes</td><td>Yes</td><td>NA</td></tr>\n",
       "\t<tr><th scope=row>3</th><td>1/25/2016 14:40</td><td>Male  </td><td>Arts</td><td>NA</td><td></td><td></td><td>B.A. in English</td><td>NA</td><td>3rd Year</td><td></td><td>...</td><td>4</td><td>4</td><td>5</td><td>3</td><td>Teaching/Learning</td><td>Teaching/Learning           </td><td>Faculty                     </td><td>Yes</td><td>Yes</td><td>NA</td></tr>\n",
       "\t<tr><th scope=row>4</th><td>1/25/2016 14:43</td><td>Male  </td><td>Arts</td><td>NA</td><td></td><td></td><td>B.A. in English</td><td>NA</td><td>3rd Year</td><td></td><td>...</td><td>4</td><td>3</td><td>4</td><td>5</td><td>Teaching/Learning</td><td>Teaching/Learning           </td><td>Teaching/Learning           </td><td>Yes</td><td>Yes</td><td>NA</td></tr>\n",
       "\t<tr><th scope=row>5</th><td>1/25/2016 14:45</td><td>Female</td><td>Arts</td><td>NA</td><td></td><td></td><td>B.A. in English</td><td>NA</td><td>4th Year</td><td></td><td>...</td><td>4</td><td>4</td><td>3</td><td>2</td><td>Teaching/Learning</td><td>Faculty                     </td><td>Overall learning environment</td><td>Yes</td><td>Yes</td><td>NA</td></tr>\n",
       "\t<tr><th scope=row>6</th><td>1/25/2016 14:47</td><td>Female</td><td>Arts</td><td>NA</td><td></td><td></td><td>B.A. in English</td><td>NA</td><td>4th Year</td><td></td><td>...</td><td>3</td><td>4</td><td>5</td><td>5</td><td>Faculty          </td><td>Overall learning environment</td><td>Faculty                     </td><td>Yes</td><td>Yes</td><td>NA</td></tr>\n",
       "</tbody>\n",
       "</table>\n"
      ],
      "text/latex": [
       "A data.frame: 6 × 87\n",
       "\\begin{tabular}{r|lllllllllllllllllllll}\n",
       "  & Timestamp & Gender & Faculty & Engineering.Program & Law.Program & Business.Program & Arts.Program & Other.Program & Bachelor..Academic.Year.in.EU & Masters.Academic.Year.in.EU & ... & Q3 & Q4 & Q5 & Q6..What.are.the.best.aspects.of.the.program.. & Q7..In.your.opinion.the.best.aspect.of.the.program.is & Q8..In.your.opinion.the.next.best.aspect.of.the.program.is & What.aspects.of.the.program.could.be.improved. & Do.you.feel.that.the.quality.of.education.improved.at.EU.over.the.last.year. & Do.you.feel.that.the.image.of.the.University.improved.over.the.last.year. & Username\\\\\n",
       "  & <chr> & <chr> & <chr> & <lgl> & <chr> & <chr> & <chr> & <lgl> & <chr> & <chr> & ... & <int> & <int> & <int> & <int> & <chr> & <chr> & <chr> & <chr> & <chr> & <lgl>\\\\\n",
       "\\hline\n",
       "\t1 & 1/25/2016 14:37 & Male   & Arts & NA &  &  & B.A. in English & NA & 3rd Year &  & ... & 4 & 4 & 5 & 5 & Teaching/Learning & Teaching/Learning            & Teaching/Learning            & Yes & Yes & NA\\\\\n",
       "\t2 & 1/25/2016 14:38 & Female & Arts & NA &  &  & B.A. in English & NA & 4th Year &  & ... & 4 & 4 & 5 & 5 & Faculty           & Faculty                      & Teaching/Learning            & Yes & Yes & NA\\\\\n",
       "\t3 & 1/25/2016 14:40 & Male   & Arts & NA &  &  & B.A. in English & NA & 3rd Year &  & ... & 4 & 4 & 5 & 3 & Teaching/Learning & Teaching/Learning            & Faculty                      & Yes & Yes & NA\\\\\n",
       "\t4 & 1/25/2016 14:43 & Male   & Arts & NA &  &  & B.A. in English & NA & 3rd Year &  & ... & 4 & 3 & 4 & 5 & Teaching/Learning & Teaching/Learning            & Teaching/Learning            & Yes & Yes & NA\\\\\n",
       "\t5 & 1/25/2016 14:45 & Female & Arts & NA &  &  & B.A. in English & NA & 4th Year &  & ... & 4 & 4 & 3 & 2 & Teaching/Learning & Faculty                      & Overall learning environment & Yes & Yes & NA\\\\\n",
       "\t6 & 1/25/2016 14:47 & Female & Arts & NA &  &  & B.A. in English & NA & 4th Year &  & ... & 3 & 4 & 5 & 5 & Faculty           & Overall learning environment & Faculty                      & Yes & Yes & NA\\\\\n",
       "\\end{tabular}\n"
      ],
      "text/markdown": [
       "\n",
       "A data.frame: 6 × 87\n",
       "\n",
       "| <!--/--> | Timestamp &lt;chr&gt; | Gender &lt;chr&gt; | Faculty &lt;chr&gt; | Engineering.Program &lt;lgl&gt; | Law.Program &lt;chr&gt; | Business.Program &lt;chr&gt; | Arts.Program &lt;chr&gt; | Other.Program &lt;lgl&gt; | Bachelor..Academic.Year.in.EU &lt;chr&gt; | Masters.Academic.Year.in.EU &lt;chr&gt; | ... ... | Q3 &lt;int&gt; | Q4 &lt;int&gt; | Q5 &lt;int&gt; | Q6..What.are.the.best.aspects.of.the.program.. &lt;int&gt; | Q7..In.your.opinion.the.best.aspect.of.the.program.is &lt;chr&gt; | Q8..In.your.opinion.the.next.best.aspect.of.the.program.is &lt;chr&gt; | What.aspects.of.the.program.could.be.improved. &lt;chr&gt; | Do.you.feel.that.the.quality.of.education.improved.at.EU.over.the.last.year. &lt;chr&gt; | Do.you.feel.that.the.image.of.the.University.improved.over.the.last.year. &lt;chr&gt; | Username &lt;lgl&gt; |\n",
       "|---|---|---|---|---|---|---|---|---|---|---|---|---|---|---|---|---|---|---|---|---|---|\n",
       "| 1 | 1/25/2016 14:37 | Male   | Arts | NA | <!----> | <!----> | B.A. in English | NA | 3rd Year | <!----> | ... | 4 | 4 | 5 | 5 | Teaching/Learning | Teaching/Learning            | Teaching/Learning            | Yes | Yes | NA |\n",
       "| 2 | 1/25/2016 14:38 | Female | Arts | NA | <!----> | <!----> | B.A. in English | NA | 4th Year | <!----> | ... | 4 | 4 | 5 | 5 | Faculty           | Faculty                      | Teaching/Learning            | Yes | Yes | NA |\n",
       "| 3 | 1/25/2016 14:40 | Male   | Arts | NA | <!----> | <!----> | B.A. in English | NA | 3rd Year | <!----> | ... | 4 | 4 | 5 | 3 | Teaching/Learning | Teaching/Learning            | Faculty                      | Yes | Yes | NA |\n",
       "| 4 | 1/25/2016 14:43 | Male   | Arts | NA | <!----> | <!----> | B.A. in English | NA | 3rd Year | <!----> | ... | 4 | 3 | 4 | 5 | Teaching/Learning | Teaching/Learning            | Teaching/Learning            | Yes | Yes | NA |\n",
       "| 5 | 1/25/2016 14:45 | Female | Arts | NA | <!----> | <!----> | B.A. in English | NA | 4th Year | <!----> | ... | 4 | 4 | 3 | 2 | Teaching/Learning | Faculty                      | Overall learning environment | Yes | Yes | NA |\n",
       "| 6 | 1/25/2016 14:47 | Female | Arts | NA | <!----> | <!----> | B.A. in English | NA | 4th Year | <!----> | ... | 3 | 4 | 5 | 5 | Faculty           | Overall learning environment | Faculty                      | Yes | Yes | NA |\n",
       "\n"
      ],
      "text/plain": [
       "  Timestamp       Gender Faculty Engineering.Program Law.Program\n",
       "1 1/25/2016 14:37 Male   Arts    NA                             \n",
       "2 1/25/2016 14:38 Female Arts    NA                             \n",
       "3 1/25/2016 14:40 Male   Arts    NA                             \n",
       "4 1/25/2016 14:43 Male   Arts    NA                             \n",
       "5 1/25/2016 14:45 Female Arts    NA                             \n",
       "6 1/25/2016 14:47 Female Arts    NA                             \n",
       "  Business.Program Arts.Program    Other.Program Bachelor..Academic.Year.in.EU\n",
       "1                  B.A. in English NA            3rd Year                     \n",
       "2                  B.A. in English NA            4th Year                     \n",
       "3                  B.A. in English NA            3rd Year                     \n",
       "4                  B.A. in English NA            3rd Year                     \n",
       "5                  B.A. in English NA            4th Year                     \n",
       "6                  B.A. in English NA            4th Year                     \n",
       "  Masters.Academic.Year.in.EU ... Q3 Q4 Q5\n",
       "1                             ... 4  4  5 \n",
       "2                             ... 4  4  5 \n",
       "3                             ... 4  4  5 \n",
       "4                             ... 4  3  4 \n",
       "5                             ... 4  4  3 \n",
       "6                             ... 3  4  5 \n",
       "  Q6..What.are.the.best.aspects.of.the.program..\n",
       "1 5                                             \n",
       "2 5                                             \n",
       "3 3                                             \n",
       "4 5                                             \n",
       "5 2                                             \n",
       "6 5                                             \n",
       "  Q7..In.your.opinion.the.best.aspect.of.the.program.is\n",
       "1 Teaching/Learning                                    \n",
       "2 Faculty                                              \n",
       "3 Teaching/Learning                                    \n",
       "4 Teaching/Learning                                    \n",
       "5 Teaching/Learning                                    \n",
       "6 Faculty                                              \n",
       "  Q8..In.your.opinion.the.next.best.aspect.of.the.program.is\n",
       "1 Teaching/Learning                                         \n",
       "2 Faculty                                                   \n",
       "3 Teaching/Learning                                         \n",
       "4 Teaching/Learning                                         \n",
       "5 Faculty                                                   \n",
       "6 Overall learning environment                              \n",
       "  What.aspects.of.the.program.could.be.improved.\n",
       "1 Teaching/Learning                             \n",
       "2 Teaching/Learning                             \n",
       "3 Faculty                                       \n",
       "4 Teaching/Learning                             \n",
       "5 Overall learning environment                  \n",
       "6 Faculty                                       \n",
       "  Do.you.feel.that.the.quality.of.education.improved.at.EU.over.the.last.year.\n",
       "1 Yes                                                                         \n",
       "2 Yes                                                                         \n",
       "3 Yes                                                                         \n",
       "4 Yes                                                                         \n",
       "5 Yes                                                                         \n",
       "6 Yes                                                                         \n",
       "  Do.you.feel.that.the.image.of.the.University.improved.over.the.last.year.\n",
       "1 Yes                                                                      \n",
       "2 Yes                                                                      \n",
       "3 Yes                                                                      \n",
       "4 Yes                                                                      \n",
       "5 Yes                                                                      \n",
       "6 Yes                                                                      \n",
       "  Username\n",
       "1 NA      \n",
       "2 NA      \n",
       "3 NA      \n",
       "4 NA      \n",
       "5 NA      \n",
       "6 NA      "
      ]
     },
     "metadata": {},
     "output_type": "display_data"
    }
   ],
   "source": [
    "head(data)"
   ]
  },
  {
   "cell_type": "code",
   "execution_count": 4,
   "id": "0e2f6c71",
   "metadata": {},
   "outputs": [],
   "source": [
    "#subset data\n",
    "dataArea = data[ , 31:42]"
   ]
  },
  {
   "cell_type": "code",
   "execution_count": 5,
   "id": "5684e71e",
   "metadata": {},
   "outputs": [],
   "source": [
    "#remove NAs\n",
    "dataArea2 = NaRV.omit(dataArea)"
   ]
  },
  {
   "cell_type": "code",
   "execution_count": 6,
   "id": "2993c35e",
   "metadata": {},
   "outputs": [],
   "source": [
    "dataMatrix = cor(dataArea2)"
   ]
  },
  {
   "cell_type": "code",
   "execution_count": 7,
   "id": "51ce86ec",
   "metadata": {
    "scrolled": true
   },
   "outputs": [
    {
     "data": {
      "text/html": [
       "<table class=\"dataframe\">\n",
       "<caption>A matrix: 12 × 12 of type dbl</caption>\n",
       "<thead>\n",
       "\t<tr><th></th><th scope=col>Area1</th><th scope=col>Area2</th><th scope=col>Area3</th><th scope=col>Area4</th><th scope=col>Area5</th><th scope=col>Area6</th><th scope=col>Area7</th><th scope=col>Area8</th><th scope=col>Area9</th><th scope=col>Area10</th><th scope=col>Area11</th><th scope=col>Area12</th></tr>\n",
       "</thead>\n",
       "<tbody>\n",
       "\t<tr><th scope=row>Area1</th><td>1.00</td><td>0.55</td><td>0.56</td><td>0.43</td><td>0.42</td><td>0.49</td><td>0.48</td><td>0.50</td><td>0.47</td><td>0.49</td><td>0.43</td><td>0.46</td></tr>\n",
       "\t<tr><th scope=row>Area2</th><td>0.55</td><td>1.00</td><td>0.53</td><td>0.50</td><td>0.50</td><td>0.53</td><td>0.57</td><td>0.45</td><td>0.41</td><td>0.54</td><td>0.53</td><td>0.54</td></tr>\n",
       "\t<tr><th scope=row>Area3</th><td>0.56</td><td>0.53</td><td>1.00</td><td>0.47</td><td>0.48</td><td>0.59</td><td>0.54</td><td>0.49</td><td>0.45</td><td>0.51</td><td>0.50</td><td>0.56</td></tr>\n",
       "\t<tr><th scope=row>Area4</th><td>0.43</td><td>0.50</td><td>0.47</td><td>1.00</td><td>0.54</td><td>0.50</td><td>0.47</td><td>0.43</td><td>0.35</td><td>0.45</td><td>0.46</td><td>0.53</td></tr>\n",
       "\t<tr><th scope=row>Area5</th><td>0.42</td><td>0.50</td><td>0.48</td><td>0.54</td><td>1.00</td><td>0.48</td><td>0.47</td><td>0.35</td><td>0.39</td><td>0.47</td><td>0.52</td><td>0.57</td></tr>\n",
       "\t<tr><th scope=row>Area6</th><td>0.49</td><td>0.53</td><td>0.59</td><td>0.50</td><td>0.48</td><td>1.00</td><td>0.63</td><td>0.55</td><td>0.47</td><td>0.56</td><td>0.56</td><td>0.57</td></tr>\n",
       "\t<tr><th scope=row>Area7</th><td>0.48</td><td>0.57</td><td>0.54</td><td>0.47</td><td>0.47</td><td>0.63</td><td>1.00</td><td>0.47</td><td>0.43</td><td>0.54</td><td>0.58</td><td>0.58</td></tr>\n",
       "\t<tr><th scope=row>Area8</th><td>0.50</td><td>0.45</td><td>0.49</td><td>0.43</td><td>0.35</td><td>0.55</td><td>0.47</td><td>1.00</td><td>0.41</td><td>0.43</td><td>0.41</td><td>0.51</td></tr>\n",
       "\t<tr><th scope=row>Area9</th><td>0.47</td><td>0.41</td><td>0.45</td><td>0.35</td><td>0.39</td><td>0.47</td><td>0.43</td><td>0.41</td><td>1.00</td><td>0.46</td><td>0.47</td><td>0.42</td></tr>\n",
       "\t<tr><th scope=row>Area10</th><td>0.49</td><td>0.54</td><td>0.51</td><td>0.45</td><td>0.47</td><td>0.56</td><td>0.54</td><td>0.43</td><td>0.46</td><td>1.00</td><td>0.53</td><td>0.55</td></tr>\n",
       "\t<tr><th scope=row>Area11</th><td>0.43</td><td>0.53</td><td>0.50</td><td>0.46</td><td>0.52</td><td>0.56</td><td>0.58</td><td>0.41</td><td>0.47</td><td>0.53</td><td>1.00</td><td>0.63</td></tr>\n",
       "\t<tr><th scope=row>Area12</th><td>0.46</td><td>0.54</td><td>0.56</td><td>0.53</td><td>0.57</td><td>0.57</td><td>0.58</td><td>0.51</td><td>0.42</td><td>0.55</td><td>0.63</td><td>1.00</td></tr>\n",
       "</tbody>\n",
       "</table>\n"
      ],
      "text/latex": [
       "A matrix: 12 × 12 of type dbl\n",
       "\\begin{tabular}{r|llllllllllll}\n",
       "  & Area1 & Area2 & Area3 & Area4 & Area5 & Area6 & Area7 & Area8 & Area9 & Area10 & Area11 & Area12\\\\\n",
       "\\hline\n",
       "\tArea1 & 1.00 & 0.55 & 0.56 & 0.43 & 0.42 & 0.49 & 0.48 & 0.50 & 0.47 & 0.49 & 0.43 & 0.46\\\\\n",
       "\tArea2 & 0.55 & 1.00 & 0.53 & 0.50 & 0.50 & 0.53 & 0.57 & 0.45 & 0.41 & 0.54 & 0.53 & 0.54\\\\\n",
       "\tArea3 & 0.56 & 0.53 & 1.00 & 0.47 & 0.48 & 0.59 & 0.54 & 0.49 & 0.45 & 0.51 & 0.50 & 0.56\\\\\n",
       "\tArea4 & 0.43 & 0.50 & 0.47 & 1.00 & 0.54 & 0.50 & 0.47 & 0.43 & 0.35 & 0.45 & 0.46 & 0.53\\\\\n",
       "\tArea5 & 0.42 & 0.50 & 0.48 & 0.54 & 1.00 & 0.48 & 0.47 & 0.35 & 0.39 & 0.47 & 0.52 & 0.57\\\\\n",
       "\tArea6 & 0.49 & 0.53 & 0.59 & 0.50 & 0.48 & 1.00 & 0.63 & 0.55 & 0.47 & 0.56 & 0.56 & 0.57\\\\\n",
       "\tArea7 & 0.48 & 0.57 & 0.54 & 0.47 & 0.47 & 0.63 & 1.00 & 0.47 & 0.43 & 0.54 & 0.58 & 0.58\\\\\n",
       "\tArea8 & 0.50 & 0.45 & 0.49 & 0.43 & 0.35 & 0.55 & 0.47 & 1.00 & 0.41 & 0.43 & 0.41 & 0.51\\\\\n",
       "\tArea9 & 0.47 & 0.41 & 0.45 & 0.35 & 0.39 & 0.47 & 0.43 & 0.41 & 1.00 & 0.46 & 0.47 & 0.42\\\\\n",
       "\tArea10 & 0.49 & 0.54 & 0.51 & 0.45 & 0.47 & 0.56 & 0.54 & 0.43 & 0.46 & 1.00 & 0.53 & 0.55\\\\\n",
       "\tArea11 & 0.43 & 0.53 & 0.50 & 0.46 & 0.52 & 0.56 & 0.58 & 0.41 & 0.47 & 0.53 & 1.00 & 0.63\\\\\n",
       "\tArea12 & 0.46 & 0.54 & 0.56 & 0.53 & 0.57 & 0.57 & 0.58 & 0.51 & 0.42 & 0.55 & 0.63 & 1.00\\\\\n",
       "\\end{tabular}\n"
      ],
      "text/markdown": [
       "\n",
       "A matrix: 12 × 12 of type dbl\n",
       "\n",
       "| <!--/--> | Area1 | Area2 | Area3 | Area4 | Area5 | Area6 | Area7 | Area8 | Area9 | Area10 | Area11 | Area12 |\n",
       "|---|---|---|---|---|---|---|---|---|---|---|---|---|\n",
       "| Area1 | 1.00 | 0.55 | 0.56 | 0.43 | 0.42 | 0.49 | 0.48 | 0.50 | 0.47 | 0.49 | 0.43 | 0.46 |\n",
       "| Area2 | 0.55 | 1.00 | 0.53 | 0.50 | 0.50 | 0.53 | 0.57 | 0.45 | 0.41 | 0.54 | 0.53 | 0.54 |\n",
       "| Area3 | 0.56 | 0.53 | 1.00 | 0.47 | 0.48 | 0.59 | 0.54 | 0.49 | 0.45 | 0.51 | 0.50 | 0.56 |\n",
       "| Area4 | 0.43 | 0.50 | 0.47 | 1.00 | 0.54 | 0.50 | 0.47 | 0.43 | 0.35 | 0.45 | 0.46 | 0.53 |\n",
       "| Area5 | 0.42 | 0.50 | 0.48 | 0.54 | 1.00 | 0.48 | 0.47 | 0.35 | 0.39 | 0.47 | 0.52 | 0.57 |\n",
       "| Area6 | 0.49 | 0.53 | 0.59 | 0.50 | 0.48 | 1.00 | 0.63 | 0.55 | 0.47 | 0.56 | 0.56 | 0.57 |\n",
       "| Area7 | 0.48 | 0.57 | 0.54 | 0.47 | 0.47 | 0.63 | 1.00 | 0.47 | 0.43 | 0.54 | 0.58 | 0.58 |\n",
       "| Area8 | 0.50 | 0.45 | 0.49 | 0.43 | 0.35 | 0.55 | 0.47 | 1.00 | 0.41 | 0.43 | 0.41 | 0.51 |\n",
       "| Area9 | 0.47 | 0.41 | 0.45 | 0.35 | 0.39 | 0.47 | 0.43 | 0.41 | 1.00 | 0.46 | 0.47 | 0.42 |\n",
       "| Area10 | 0.49 | 0.54 | 0.51 | 0.45 | 0.47 | 0.56 | 0.54 | 0.43 | 0.46 | 1.00 | 0.53 | 0.55 |\n",
       "| Area11 | 0.43 | 0.53 | 0.50 | 0.46 | 0.52 | 0.56 | 0.58 | 0.41 | 0.47 | 0.53 | 1.00 | 0.63 |\n",
       "| Area12 | 0.46 | 0.54 | 0.56 | 0.53 | 0.57 | 0.57 | 0.58 | 0.51 | 0.42 | 0.55 | 0.63 | 1.00 |\n",
       "\n"
      ],
      "text/plain": [
       "       Area1 Area2 Area3 Area4 Area5 Area6 Area7 Area8 Area9 Area10 Area11\n",
       "Area1  1.00  0.55  0.56  0.43  0.42  0.49  0.48  0.50  0.47  0.49   0.43  \n",
       "Area2  0.55  1.00  0.53  0.50  0.50  0.53  0.57  0.45  0.41  0.54   0.53  \n",
       "Area3  0.56  0.53  1.00  0.47  0.48  0.59  0.54  0.49  0.45  0.51   0.50  \n",
       "Area4  0.43  0.50  0.47  1.00  0.54  0.50  0.47  0.43  0.35  0.45   0.46  \n",
       "Area5  0.42  0.50  0.48  0.54  1.00  0.48  0.47  0.35  0.39  0.47   0.52  \n",
       "Area6  0.49  0.53  0.59  0.50  0.48  1.00  0.63  0.55  0.47  0.56   0.56  \n",
       "Area7  0.48  0.57  0.54  0.47  0.47  0.63  1.00  0.47  0.43  0.54   0.58  \n",
       "Area8  0.50  0.45  0.49  0.43  0.35  0.55  0.47  1.00  0.41  0.43   0.41  \n",
       "Area9  0.47  0.41  0.45  0.35  0.39  0.47  0.43  0.41  1.00  0.46   0.47  \n",
       "Area10 0.49  0.54  0.51  0.45  0.47  0.56  0.54  0.43  0.46  1.00   0.53  \n",
       "Area11 0.43  0.53  0.50  0.46  0.52  0.56  0.58  0.41  0.47  0.53   1.00  \n",
       "Area12 0.46  0.54  0.56  0.53  0.57  0.57  0.58  0.51  0.42  0.55   0.63  \n",
       "       Area12\n",
       "Area1  0.46  \n",
       "Area2  0.54  \n",
       "Area3  0.56  \n",
       "Area4  0.53  \n",
       "Area5  0.57  \n",
       "Area6  0.57  \n",
       "Area7  0.58  \n",
       "Area8  0.51  \n",
       "Area9  0.42  \n",
       "Area10 0.55  \n",
       "Area11 0.63  \n",
       "Area12 1.00  "
      ]
     },
     "metadata": {},
     "output_type": "display_data"
    }
   ],
   "source": [
    "View(round(dataMatrix, 2))"
   ]
  },
  {
   "cell_type": "code",
   "execution_count": 8,
   "id": "ab33f5d0",
   "metadata": {},
   "outputs": [
    {
     "name": "stderr",
     "output_type": "stream",
     "text": [
      "R was not square, finding R from data\n",
      "\n"
     ]
    },
    {
     "data": {
      "text/html": [
       "<dl>\n",
       "\t<dt>$chisq</dt>\n",
       "\t\t<dd>2807.7070724851</dd>\n",
       "\t<dt>$p.value</dt>\n",
       "\t\t<dd>0</dd>\n",
       "\t<dt>$df</dt>\n",
       "\t\t<dd>66</dd>\n",
       "</dl>\n"
      ],
      "text/latex": [
       "\\begin{description}\n",
       "\\item[\\$chisq] 2807.7070724851\n",
       "\\item[\\$p.value] 0\n",
       "\\item[\\$df] 66\n",
       "\\end{description}\n"
      ],
      "text/markdown": [
       "$chisq\n",
       ":   2807.7070724851\n",
       "$p.value\n",
       ":   0\n",
       "$df\n",
       ":   66\n",
       "\n",
       "\n"
      ],
      "text/plain": [
       "$chisq\n",
       "[1] 2807.707\n",
       "\n",
       "$p.value\n",
       "[1] 0\n",
       "\n",
       "$df\n",
       "[1] 66\n"
      ]
     },
     "metadata": {},
     "output_type": "display_data"
    }
   ],
   "source": [
    "cortest.bartlett(dataArea2)"
   ]
  },
  {
   "cell_type": "code",
   "execution_count": 9,
   "id": "9de39b44",
   "metadata": {},
   "outputs": [
    {
     "data": {
      "text/html": [
       "0.00218064461136125"
      ],
      "text/latex": [
       "0.00218064461136125"
      ],
      "text/markdown": [
       "0.00218064461136125"
      ],
      "text/plain": [
       "[1] 0.002180645"
      ]
     },
     "metadata": {},
     "output_type": "display_data"
    }
   ],
   "source": [
    "det(dataMatrix)\n"
   ]
  },
  {
   "cell_type": "code",
   "execution_count": 10,
   "id": "5f52d10d",
   "metadata": {},
   "outputs": [],
   "source": [
    "#model = principal(financialWB2, nfactors = ?, rotate = 'none')\n",
    "pcModel <- principal(dataArea2, nfactors = 12, rotate=\"none\")"
   ]
  },
  {
   "cell_type": "code",
   "execution_count": 11,
   "id": "bcd7fa10",
   "metadata": {},
   "outputs": [
    {
     "data": {
      "text/plain": [
       "Principal Components Analysis\n",
       "Call: principal(r = dataArea2, nfactors = 12, rotate = \"none\")\n",
       "Standardized loadings (pattern matrix) based upon correlation matrix\n",
       "        PC1   PC2   PC3   PC4   PC5   PC6   PC7   PC8   PC9  PC10  PC11  PC12\n",
       "Area1  0.71  0.35  0.19  0.34 -0.22 -0.14  0.07  0.02 -0.04  0.37 -0.01 -0.11\n",
       "Area2  0.76 -0.05  0.09  0.11 -0.39 -0.02  0.25  0.19  0.08 -0.37 -0.08 -0.06\n",
       "Area3  0.76  0.14  0.12  0.05 -0.08 -0.22 -0.45 -0.16 -0.19 -0.20  0.00  0.14\n",
       "Area4  0.69 -0.32  0.34  0.18  0.22  0.32 -0.04  0.21 -0.26  0.03  0.00  0.04\n",
       "Area5  0.70 -0.43  0.01  0.28  0.15 -0.15 -0.07 -0.12  0.41  0.05 -0.02  0.08\n",
       "Area6  0.79  0.08 -0.01 -0.29  0.05  0.15 -0.25  0.06  0.16  0.04 -0.28 -0.29\n",
       "Area7  0.77 -0.03 -0.09 -0.32 -0.19  0.03 -0.11  0.29  0.13  0.15  0.30  0.16\n",
       "Area8  0.68  0.37  0.36 -0.25  0.30 -0.02  0.25 -0.10  0.13 -0.06 -0.03  0.17\n",
       "Area9  0.64  0.36 -0.46  0.29  0.32  0.08  0.00  0.16  0.01 -0.13  0.10 -0.02\n",
       "Area10 0.74  0.00 -0.20  0.01 -0.22  0.41  0.08 -0.42 -0.02  0.04  0.03  0.08\n",
       "Area11 0.75 -0.20 -0.33 -0.15  0.03 -0.22  0.17  0.06 -0.23  0.13 -0.29  0.16\n",
       "Area12 0.79 -0.21 -0.01 -0.16  0.13 -0.20  0.14 -0.17 -0.15 -0.04  0.28 -0.30\n",
       "       h2       u2 com\n",
       "Area1   1 -6.7e-16 3.3\n",
       "Area2   1 -4.4e-16 2.6\n",
       "Area3   1  1.7e-15 2.6\n",
       "Area4   1 -6.7e-16 3.6\n",
       "Area5   1  5.6e-16 3.2\n",
       "Area6   1 -2.2e-16 2.4\n",
       "Area7   1  3.3e-16 2.6\n",
       "Area8   1  8.9e-16 3.8\n",
       "Area9   1  5.6e-16 4.0\n",
       "Area10  1  6.7e-16 2.7\n",
       "Area11  1  3.3e-16 2.8\n",
       "Area12  1  0.0e+00 2.4\n",
       "\n",
       "                       PC1  PC2  PC3  PC4  PC5  PC6  PC7  PC8  PC9 PC10 PC11\n",
       "SS loadings           6.48 0.79 0.67 0.62 0.58 0.48 0.47 0.46 0.41 0.38 0.35\n",
       "Proportion Var        0.54 0.07 0.06 0.05 0.05 0.04 0.04 0.04 0.03 0.03 0.03\n",
       "Cumulative Var        0.54 0.61 0.66 0.71 0.76 0.80 0.84 0.88 0.91 0.94 0.97\n",
       "Proportion Explained  0.54 0.07 0.06 0.05 0.05 0.04 0.04 0.04 0.03 0.03 0.03\n",
       "Cumulative Proportion 0.54 0.61 0.66 0.71 0.76 0.80 0.84 0.88 0.91 0.94 0.97\n",
       "                      PC12\n",
       "SS loadings           0.31\n",
       "Proportion Var        0.03\n",
       "Cumulative Var        1.00\n",
       "Proportion Explained  0.03\n",
       "Cumulative Proportion 1.00\n",
       "\n",
       "Mean item complexity =  3\n",
       "Test of the hypothesis that 12 components are sufficient.\n",
       "\n",
       "The root mean square of the residuals (RMSR) is  0 \n",
       " with the empirical chi square  0  with prob <  NA \n",
       "\n",
       "Fit based upon off diagonal values = 1"
      ]
     },
     "metadata": {},
     "output_type": "display_data"
    }
   ],
   "source": [
    "pcModel"
   ]
  },
  {
   "cell_type": "code",
   "execution_count": 62,
   "id": "62d79ff4",
   "metadata": {},
   "outputs": [],
   "source": [
    "pcModel2 <- principal(dataArea2, nfactors = 1, rotate=\"oblimin\")"
   ]
  },
  {
   "cell_type": "code",
   "execution_count": 63,
   "id": "e9e17bdf",
   "metadata": {},
   "outputs": [],
   "source": [
    "pcModel2 <- principal(dataArea2, nfactors = 1, rotate=\"varimax\")"
   ]
  },
  {
   "cell_type": "code",
   "execution_count": 64,
   "id": "1e3e93f1",
   "metadata": {},
   "outputs": [
    {
     "data": {
      "text/plain": [
       "\n",
       "Reliability analysis   \n",
       "Call: alpha(x = dataArea)\n",
       "\n",
       "  raw_alpha std.alpha G6(smc) average_r S/N    ase mean  sd median_r\n",
       "      0.92      0.92    0.92       0.5  12 0.0051  4.2 0.7      0.5\n",
       "\n",
       " lower alpha upper     95% confidence boundaries\n",
       "0.91 0.92 0.93 \n",
       "\n",
       " Reliability if an item is dropped:\n",
       "       raw_alpha std.alpha G6(smc) average_r S/N alpha se  var.r med.r\n",
       "Area1       0.92      0.92    0.92      0.51  11   0.0055 0.0037  0.51\n",
       "Area2       0.91      0.92    0.91      0.50  11   0.0056 0.0037  0.49\n",
       "Area3       0.91      0.92    0.91      0.50  11   0.0057 0.0038  0.49\n",
       "Area4       0.92      0.92    0.92      0.51  11   0.0055 0.0035  0.51\n",
       "Area5       0.92      0.92    0.91      0.50  11   0.0055 0.0032  0.50\n",
       "Area6       0.91      0.91    0.91      0.49  11   0.0057 0.0035  0.49\n",
       "Area7       0.91      0.92    0.91      0.50  11   0.0057 0.0033  0.50\n",
       "Area8       0.92      0.92    0.92      0.51  11   0.0054 0.0032  0.51\n",
       "Area9       0.92      0.92    0.92      0.51  12   0.0053 0.0028  0.51\n",
       "Area10      0.91      0.92    0.91      0.50  11   0.0056 0.0038  0.50\n",
       "Area11      0.91      0.92    0.91      0.50  11   0.0056 0.0033  0.50\n",
       "Area12      0.91      0.91    0.91      0.49  11   0.0058 0.0030  0.49\n",
       "\n",
       " Item statistics \n",
       "         n raw.r std.r r.cor r.drop mean   sd\n",
       "Area1  487  0.71  0.71  0.68   0.65  4.3 0.82\n",
       "Area2  491  0.75  0.76  0.73   0.70  4.2 0.84\n",
       "Area3  488  0.76  0.76  0.73   0.70  4.1 1.05\n",
       "Area4  489  0.71  0.71  0.67   0.64  4.2 1.01\n",
       "Area5  492  0.71  0.71  0.68   0.65  4.4 0.93\n",
       "Area6  489  0.79  0.78  0.76   0.73  4.0 1.04\n",
       "Area7  488  0.77  0.77  0.75   0.72  4.1 0.99\n",
       "Area8  488  0.70  0.69  0.65   0.62  4.1 1.12\n",
       "Area9  491  0.65  0.66  0.61   0.58  4.1 0.95\n",
       "Area10 491  0.74  0.75  0.72   0.69  4.1 0.90\n",
       "Area11 489  0.75  0.76  0.74   0.70  4.2 0.87\n",
       "Area12 489  0.79  0.79  0.77   0.74  4.2 0.94\n",
       "\n",
       "Non missing response frequency for each item\n",
       "          1    2    3    4    5 miss\n",
       "Area1  0.02 0.03 0.05 0.43 0.47 0.03\n",
       "Area2  0.01 0.04 0.08 0.43 0.44 0.02\n",
       "Area3  0.03 0.06 0.13 0.34 0.43 0.02\n",
       "Area4  0.02 0.06 0.09 0.29 0.53 0.02\n",
       "Area5  0.02 0.04 0.05 0.27 0.62 0.02\n",
       "Area6  0.03 0.07 0.11 0.39 0.40 0.02\n",
       "Area7  0.02 0.06 0.14 0.39 0.39 0.02\n",
       "Area8  0.04 0.08 0.11 0.32 0.45 0.02\n",
       "Area9  0.02 0.06 0.12 0.42 0.38 0.02\n",
       "Area10 0.02 0.04 0.12 0.44 0.39 0.02\n",
       "Area11 0.01 0.04 0.10 0.42 0.43 0.02\n",
       "Area12 0.02 0.05 0.12 0.37 0.45 0.02"
      ]
     },
     "metadata": {},
     "output_type": "display_data"
    }
   ],
   "source": [
    "alpha(dataArea)"
   ]
  },
  {
   "cell_type": "code",
   "execution_count": null,
   "id": "e174e653",
   "metadata": {},
   "outputs": [],
   "source": []
  }
 ],
 "metadata": {
  "kernelspec": {
   "display_name": "R",
   "language": "R",
   "name": "ir"
  },
  "language_info": {
   "codemirror_mode": "r",
   "file_extension": ".r",
   "mimetype": "text/x-r-source",
   "name": "R",
   "pygments_lexer": "r",
   "version": "4.1.1"
  }
 },
 "nbformat": 4,
 "nbformat_minor": 5
}
