{
 "cells": [
  {
   "cell_type": "code",
   "execution_count": 1,
   "id": "2bd45640",
   "metadata": {},
   "outputs": [
    {
     "ename": "ERROR",
     "evalue": "Error in library(\"gmodels\"): there is no package called 'gmodels'\n",
     "output_type": "error",
     "traceback": [
      "Error in library(\"gmodels\"): there is no package called 'gmodels'\nTraceback:\n",
      "1. library(\"gmodels\")"
     ]
    }
   ],
   "source": [
    "#Import packages\n",
    "library(\"gmodels\")\n",
    "library(\"dplyr\")\n",
    "library(\"tidyr\")\n",
    "\n"
   ]
  },
  {
   "cell_type": "code",
   "execution_count": 3,
   "id": "76605862",
   "metadata": {},
   "outputs": [],
   "source": [
    "loans <- read.csv('loans.csv')"
   ]
  },
  {
   "cell_type": "code",
   "execution_count": 4,
   "id": "ad2cafcb",
   "metadata": {},
   "outputs": [
    {
     "data": {
      "text/html": [
       "<table class=\"dataframe\">\n",
       "<caption>A data.frame: 6 × 5</caption>\n",
       "<thead>\n",
       "\t<tr><th></th><th scope=col>X</th><th scope=col>term</th><th scope=col>loan_status</th><th scope=col>Date</th><th scope=col>home_ownership</th></tr>\n",
       "\t<tr><th></th><th scope=col>&lt;int&gt;</th><th scope=col>&lt;chr&gt;</th><th scope=col>&lt;chr&gt;</th><th scope=col>&lt;chr&gt;</th><th scope=col>&lt;chr&gt;</th></tr>\n",
       "</thead>\n",
       "<tbody>\n",
       "\t<tr><th scope=row>1</th><td>1</td><td> 36 months</td><td>Fully Paid </td><td>12/1/2011</td><td>RENT</td></tr>\n",
       "\t<tr><th scope=row>2</th><td>2</td><td> 60 months</td><td>Charged Off</td><td>12/1/2011</td><td>RENT</td></tr>\n",
       "\t<tr><th scope=row>3</th><td>3</td><td> 36 months</td><td>Fully Paid </td><td>12/1/2011</td><td>RENT</td></tr>\n",
       "\t<tr><th scope=row>4</th><td>4</td><td> 36 months</td><td>Fully Paid </td><td>12/1/2011</td><td>RENT</td></tr>\n",
       "\t<tr><th scope=row>5</th><td>5</td><td> 60 months</td><td>Current    </td><td>12/1/2011</td><td>RENT</td></tr>\n",
       "\t<tr><th scope=row>6</th><td>6</td><td> 36 months</td><td>Fully Paid </td><td>12/1/2011</td><td>RENT</td></tr>\n",
       "</tbody>\n",
       "</table>\n"
      ],
      "text/latex": [
       "A data.frame: 6 × 5\n",
       "\\begin{tabular}{r|lllll}\n",
       "  & X & term & loan\\_status & Date & home\\_ownership\\\\\n",
       "  & <int> & <chr> & <chr> & <chr> & <chr>\\\\\n",
       "\\hline\n",
       "\t1 & 1 &  36 months & Fully Paid  & 12/1/2011 & RENT\\\\\n",
       "\t2 & 2 &  60 months & Charged Off & 12/1/2011 & RENT\\\\\n",
       "\t3 & 3 &  36 months & Fully Paid  & 12/1/2011 & RENT\\\\\n",
       "\t4 & 4 &  36 months & Fully Paid  & 12/1/2011 & RENT\\\\\n",
       "\t5 & 5 &  60 months & Current     & 12/1/2011 & RENT\\\\\n",
       "\t6 & 6 &  36 months & Fully Paid  & 12/1/2011 & RENT\\\\\n",
       "\\end{tabular}\n"
      ],
      "text/markdown": [
       "\n",
       "A data.frame: 6 × 5\n",
       "\n",
       "| <!--/--> | X &lt;int&gt; | term &lt;chr&gt; | loan_status &lt;chr&gt; | Date &lt;chr&gt; | home_ownership &lt;chr&gt; |\n",
       "|---|---|---|---|---|---|\n",
       "| 1 | 1 |  36 months | Fully Paid  | 12/1/2011 | RENT |\n",
       "| 2 | 2 |  60 months | Charged Off | 12/1/2011 | RENT |\n",
       "| 3 | 3 |  36 months | Fully Paid  | 12/1/2011 | RENT |\n",
       "| 4 | 4 |  36 months | Fully Paid  | 12/1/2011 | RENT |\n",
       "| 5 | 5 |  60 months | Current     | 12/1/2011 | RENT |\n",
       "| 6 | 6 |  36 months | Fully Paid  | 12/1/2011 | RENT |\n",
       "\n"
      ],
      "text/plain": [
       "  X term       loan_status Date      home_ownership\n",
       "1 1  36 months Fully Paid  12/1/2011 RENT          \n",
       "2 2  60 months Charged Off 12/1/2011 RENT          \n",
       "3 3  36 months Fully Paid  12/1/2011 RENT          \n",
       "4 4  36 months Fully Paid  12/1/2011 RENT          \n",
       "5 5  60 months Current     12/1/2011 RENT          \n",
       "6 6  36 months Fully Paid  12/1/2011 RENT          "
      ]
     },
     "metadata": {},
     "output_type": "display_data"
    }
   ],
   "source": [
    "head(loans)"
   ]
  },
  {
   "cell_type": "markdown",
   "id": "39252a98",
   "metadata": {},
   "source": [
    "### Does the term of the loan influence loan status? If so, how?"
   ]
  },
  {
   "cell_type": "code",
   "execution_count": 6,
   "id": "923a9643",
   "metadata": {},
   "outputs": [
    {
     "name": "stdout",
     "output_type": "stream",
     "text": [
      "\n",
      "   Cell Contents\n",
      "|-------------------------|\n",
      "|                   Count |\n",
      "|         Expected Values |\n",
      "| Chi-square contribution |\n",
      "|             Row Percent |\n",
      "|          Column Percent |\n",
      "|           Total Percent |\n",
      "|            Std Residual |\n",
      "|-------------------------|\n",
      "\n",
      "Total Observations in Table:  21957 \n",
      "\n",
      "             | loans$loan_status \n",
      "  loans$term | Charged Off  |     Current  |  Fully Paid  |   Row Total | \n",
      "-------------|-------------|-------------|-------------|-------------|\n",
      "   36 months |       2029  |          0  |      14964  |      16993  | \n",
      "             |   2540.011  |    388.509  |  14064.480  |             | \n",
      "             |    102.808  |    388.509  |     57.530  |             | \n",
      "             |     11.940% |      0.000% |     88.060% |     77.392% | \n",
      "             |     61.822% |      0.000% |     82.342% |             | \n",
      "             |      9.241% |      0.000% |     68.151% |             | \n",
      "             |    -10.139  |    -19.711  |      7.585  |             | \n",
      "-------------|-------------|-------------|-------------|-------------|\n",
      "   60 months |       1253  |        502  |       3209  |       4964  | \n",
      "             |    741.989  |    113.491  |   4108.520  |             | \n",
      "             |    351.936  |   1329.961  |    196.941  |             | \n",
      "             |     25.242% |     10.113% |     64.645% |     22.608% | \n",
      "             |     38.178% |    100.000% |     17.658% |             | \n",
      "             |      5.707% |      2.286% |     14.615% |             | \n",
      "             |     18.760  |     36.469  |    -14.034  |             | \n",
      "-------------|-------------|-------------|-------------|-------------|\n",
      "Column Total |       3282  |        502  |      18173  |      21957  | \n",
      "             |     14.947% |      2.286% |     82.766% |             | \n",
      "-------------|-------------|-------------|-------------|-------------|\n",
      "\n",
      " \n",
      "Statistics for All Table Factors\n",
      "\n",
      "\n",
      "Pearson's Chi-squared test \n",
      "------------------------------------------------------------\n",
      "Chi^2 =  2427.685     d.f. =  2     p =  0 \n",
      "\n",
      "\n",
      " \n",
      "       Minimum expected frequency: 113.4913 \n",
      "\n"
     ]
    }
   ],
   "source": [
    "CrossTable(loans$term, loans$loan_status, chisq = TRUE, expected = TRUE, sresid=TRUE, format=\"SPSS\")\n"
   ]
  },
  {
   "cell_type": "markdown",
   "id": "19babd81",
   "metadata": {},
   "source": [
    "### How has the ability to own a home changed after 2009?\n",
    "Reformatting to a Date"
   ]
  },
  {
   "cell_type": "code",
   "execution_count": 7,
   "id": "2bf92148",
   "metadata": {},
   "outputs": [],
   "source": [
    "loans$DateR <- as.Date(paste(loans$Date), \"%m/%d/%Y\")\n",
    "\n",
    "#Separating the Pieces of the Date Variable\n",
    "loans1 <- separate(loans, DateR, c(\"Year\", \"Month\", \"Day\"), sep=\"-\")\n",
    "\n",
    "#Recoding to before and after 2009\n",
    "loans1$YearR <- NA\n",
    "loans1$YearR[loans1$Year <= 2009] <- 0\n",
    "loans1$YearR[loans1$Year > 2009] <- 1\n"
   ]
  },
  {
   "cell_type": "markdown",
   "id": "c1b25645",
   "metadata": {},
   "source": [
    "### "
   ]
  },
  {
   "cell_type": "code",
   "execution_count": 8,
   "id": "e8e3f7e1",
   "metadata": {},
   "outputs": [],
   "source": [
    "loans1$RentvOwn <- NA\n",
    "loans1$RentvOwn[loans1$home_ownership == \"RENT\"] <- 0\n",
    "loans1$RentvOwn[loans1$home_ownership == \"OWN\"] <- 1"
   ]
  },
  {
   "cell_type": "code",
   "execution_count": 9,
   "id": "35af2cc7",
   "metadata": {},
   "outputs": [
    {
     "name": "stdout",
     "output_type": "stream",
     "text": [
      "\n",
      "   Cell Contents\n",
      "|-------------------------|\n",
      "|                   Count |\n",
      "|         Expected Values |\n",
      "| Chi-square contribution |\n",
      "|             Row Percent |\n",
      "|          Column Percent |\n",
      "|           Total Percent |\n",
      "|            Std Residual |\n",
      "|-------------------------|\n",
      "\n",
      "Total Observations in Table:  21957 \n",
      "\n",
      "                | loans1$YearR \n",
      "loans1$RentvOwn |        0  |        1  | Row Total | \n",
      "----------------|-----------|-----------|-----------|\n",
      "              0 |     3408  |    15491  |    18899  | \n",
      "                | 3406.761  | 15492.239  |           | \n",
      "                |    0.000  |    0.000  |           | \n",
      "                |   18.033% |   81.967% |   86.073% | \n",
      "                |   86.104% |   86.066% |           | \n",
      "                |   15.521% |   70.552% |           | \n",
      "                |    0.021  |   -0.010  |           | \n",
      "----------------|-----------|-----------|-----------|\n",
      "              1 |      550  |     2508  |     3058  | \n",
      "                |  551.239  | 2506.761  |           | \n",
      "                |    0.003  |    0.001  |           | \n",
      "                |   17.986% |   82.014% |   13.927% | \n",
      "                |   13.896% |   13.934% |           | \n",
      "                |    2.505% |   11.422% |           | \n",
      "                |   -0.053  |    0.025  |           | \n",
      "----------------|-----------|-----------|-----------|\n",
      "   Column Total |     3958  |    17999  |    21957  | \n",
      "                |   18.026% |   81.974% |           | \n",
      "----------------|-----------|-----------|-----------|\n",
      "\n",
      " \n",
      "Statistics for All Table Factors\n",
      "\n",
      "\n",
      "Pearson's Chi-squared test \n",
      "------------------------------------------------------------\n",
      "Chi^2 =  0.003949638     d.f. =  1     p =  0.949889 \n",
      "\n",
      "Pearson's Chi-squared test with Yates' continuity correction \n",
      "------------------------------------------------------------\n",
      "Chi^2 =  0.001405736     d.f. =  1     p =  0.9700918 \n",
      "\n",
      " \n",
      "McNemar's Chi-squared test \n",
      "------------------------------------------------------------\n",
      "Chi^2 =  13916.43     d.f. =  1     p =  0 \n",
      "\n",
      "McNemar's Chi-squared test with continuity correction \n",
      "------------------------------------------------------------\n",
      "Chi^2 =  13914.57     d.f. =  1     p =  0 \n",
      "\n",
      " \n",
      "Fisher's Exact Test for Count Data\n",
      "------------------------------------------------------------\n",
      "Sample estimate odds ratio:  1.003194 \n",
      "\n",
      "Alternative hypothesis: true odds ratio is not equal to 1\n",
      "p =  0.9595717 \n",
      "95% confidence interval:  0.907574 1.110211 \n",
      "\n",
      "Alternative hypothesis: true odds ratio is less than 1\n",
      "p =  0.5336012 \n",
      "95% confidence interval:  0 1.092314 \n",
      "\n",
      "Alternative hypothesis: true odds ratio is greater than 1\n",
      "p =  0.4865993 \n",
      "95% confidence interval:  0.9220142 Inf \n",
      "\n",
      "\n",
      " \n",
      "       Minimum expected frequency: 551.2394 \n",
      "\n"
     ]
    }
   ],
   "source": [
    "CrossTable(loans1$RentvOwn, loans1$YearR, chisq = TRUE,fisher=TRUE, mcnemar = TRUE, expected = TRUE, sresid=TRUE, format=\"SPSS\") \n"
   ]
  },
  {
   "cell_type": "markdown",
   "id": "b0b18546",
   "metadata": {},
   "source": [
    "## Part 3 - Does it seem likely that the data for this hands on came from the larger population of America?¶"
   ]
  },
  {
   "cell_type": "code",
   "execution_count": 10,
   "id": "fd92bc43",
   "metadata": {},
   "outputs": [
    {
     "data": {
      "text/html": [
       "<table class=\"dataframe\">\n",
       "<caption>A tibble: 3 × 2</caption>\n",
       "<thead>\n",
       "\t<tr><th scope=col>loan_status</th><th scope=col>count</th></tr>\n",
       "\t<tr><th scope=col>&lt;chr&gt;</th><th scope=col>&lt;int&gt;</th></tr>\n",
       "</thead>\n",
       "<tbody>\n",
       "\t<tr><td>Charged Off</td><td> 3282</td></tr>\n",
       "\t<tr><td>Current    </td><td>  502</td></tr>\n",
       "\t<tr><td>Fully Paid </td><td>18173</td></tr>\n",
       "</tbody>\n",
       "</table>\n"
      ],
      "text/latex": [
       "A tibble: 3 × 2\n",
       "\\begin{tabular}{ll}\n",
       " loan\\_status & count\\\\\n",
       " <chr> & <int>\\\\\n",
       "\\hline\n",
       "\t Charged Off &  3282\\\\\n",
       "\t Current     &   502\\\\\n",
       "\t Fully Paid  & 18173\\\\\n",
       "\\end{tabular}\n"
      ],
      "text/markdown": [
       "\n",
       "A tibble: 3 × 2\n",
       "\n",
       "| loan_status &lt;chr&gt; | count &lt;int&gt; |\n",
       "|---|---|\n",
       "| Charged Off |  3282 |\n",
       "| Current     |   502 |\n",
       "| Fully Paid  | 18173 |\n",
       "\n"
      ],
      "text/plain": [
       "  loan_status count\n",
       "1 Charged Off  3282\n",
       "2 Current       502\n",
       "3 Fully Paid  18173"
      ]
     },
     "metadata": {},
     "output_type": "display_data"
    }
   ],
   "source": [
    "loans1%>% group_by(loan_status) %>% summarize(count=n())"
   ]
  },
  {
   "cell_type": "code",
   "execution_count": 11,
   "id": "0819fb8f",
   "metadata": {},
   "outputs": [
    {
     "data": {
      "text/plain": [
       "\n",
       "\tChi-squared test for given probabilities\n",
       "\n",
       "data:  observed\n",
       "X-squared = 81756, df = 1, p-value < 2.2e-16\n"
      ]
     },
     "metadata": {},
     "output_type": "display_data"
    },
    {
     "data": {
      "text/plain": [
       "\n",
       "\tChi-squared test for given probabilities\n",
       "\n",
       "data:  observed\n",
       "X-squared = 133033, df = 1, p-value < 2.2e-16\n"
      ]
     },
     "metadata": {},
     "output_type": "display_data"
    }
   ],
   "source": [
    "observed = c(18173, 3282)\n",
    "fullyPAIDexpected = c(0.15, 0.85)\n",
    "chargeOFFexpected = c(0.10, 0.90)\n",
    "chisq.test(x = observed, p = fullyPAIDexpected)\n",
    "chisq.test(x = observed, p = chargeOFFexpected)"
   ]
  },
  {
   "cell_type": "code",
   "execution_count": null,
   "id": "50215fa8",
   "metadata": {},
   "outputs": [],
   "source": []
  },
  {
   "cell_type": "code",
   "execution_count": null,
   "id": "7852b4cb",
   "metadata": {},
   "outputs": [],
   "source": []
  }
 ],
 "metadata": {
  "kernelspec": {
   "display_name": "R",
   "language": "R",
   "name": "ir"
  },
  "language_info": {
   "codemirror_mode": "r",
   "file_extension": ".r",
   "mimetype": "text/x-r-source",
   "name": "R",
   "pygments_lexer": "r",
   "version": "4.2.0"
  }
 },
 "nbformat": 4,
 "nbformat_minor": 5
}
