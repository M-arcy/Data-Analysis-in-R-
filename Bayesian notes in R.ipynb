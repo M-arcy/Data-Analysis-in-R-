{
 "cells": [
  {
   "cell_type": "markdown",
   "id": "c9f89c17",
   "metadata": {},
   "source": [
    "#### Parts of Bayes Theorem\n",
    "There are three components to Bayes theorem:\n",
    "\n",
    "Posterior probability Likelihood Prior probability You will learn about these components in more detail below!\n",
    "\n",
    "Posterior Probability The posterior probability is the part of the theorem that lets you quantify how strongly you hold beliefs about the data you've observed. The posterior probability is the end result of Bayes' theorem and what you're trying to find out. This is often shortened to just \"posterior.\" No butt jokes, guys!\n",
    "\n",
    "Likelihood The likelihood is the probability of the data given your current beliefs. i.e. How likely is it that x happens? This represents the top left portion of Bayes' theorem - the P(B|A) part.\n",
    "\n",
    "Prior Probability The prior probability is all about the strength of your belief before you see the data. Hence, prior, meaning before! This represents the top right portion of Bayes' theorem - the P(A) part.\n",
    "\n",
    "The Bottom? You may be wondering about the bottom of the equation. Doesn't that get its own special name too? Apparently not, but you're encouraged to give it one. Stormageddon, anyone? But the bottom portion of Bayes' theorem helps normalize the data, so that even if you have a different amount of data in A and B, you can still compare them fairly.\n",
    "\n",
    "An Example You will now calculate the probability that your instructor's a dork, given that she cuddles her statistics book at night. Call \"your instructor's a dork\" A and \"cuddling statistics books\" B.\n",
    "\n",
    "Find the Likelihood You can think of the likelihood in this scenario as the probability that cuddling a statistics book is good evidence that your instructor's a dork. If you are pretty darn certain, then you could make it a probability like 8/10. If you change your mind at any point, well, guess what? That is totally fine! This means P(B|A) = 8/10.\n",
    "\n",
    "Find the Prior\n",
    "\n",
    "First, you need to calculate the prior. Remember, this is just the probability of A. Believe it or not, a survey found that 60% of Americans consider themselves nerds. So you'll use a probability of 6/10 for that.\n",
    "\n",
    "That means: P(A) = 6/10.\n",
    "\n",
    "Calculate the Normalizing Factor P(B) What is P(B)? That's on the bottom! Well that is the probability that someone cuddles their statistics book at night, regardless of whether or not they are a dork. How many people is that? Well, you could take an educated guess based upon the fact that only 11% of people take statistics in a secondary school, and of those, 55% sell them back after the course. That means that only 6.05% (11% * 55%) still own a statistics book after a semester is up. So it's not even very likely that people have statistics books, let alone cuddle them. Maybe 1 in 100 will cuddle a statistics book, and with only 1 in 4 owning them at all...that makes it 6.05% * 1% or .000065.\n",
    "\n",
    "That is one way to go. But if you don't want to estimate it, or it is difficult to estimate it, then you can choose from a standard P(B) setup. Your choices are:\n",
    "\n",
    ".05 .01 .005 .001\n",
    "\n",
    "It is important to note that the smaller the P(B), the larger your posterior probability, or end result, is.\n",
    "\n",
    "Calculate the Posterior\n",
    "\n",
    "Next, you will calculate the posterior. Remember that this is your overall goal! You are ready to solve this bad boy!\n",
    "\n",
    "This is just plug 'n play at this point:\n",
    "\n",
    "P(A|B) = (P(B|A) * P(A)) / P(B)\n",
    "\n",
    "P(A|B) = (.8 * .6) / .000065\n",
    "\n",
    "P(A|B) = .3 / .000065\n",
    "\n",
    "P(A|B) = 4,615.38\n",
    "\n",
    "That's great! You have a number! But what does it mean? It's really hard to say for sure, especially without a comparison to an alternative hypothesis. It's sort of like comparing machine learning models with AIC - the number itself doesn't matter, just whether it is larger or smaller than other models.\n",
    "\n",
    "Can you guess what you're going to do next?\n",
    "\n",
    "Create and Test Alternative Hypotheses Using Bayes Ok, so one explanation for why your instructor may cuddle her statistics textbook at night is because she doesn't have a pillow. That becomes your new A. A quick internet search shows no relevant results. You can then assume that 99% of people own a pillow, which means that 1% don't.\n",
    "\n",
    "Your new P(A) is now 1/100. And that's probably a high estimate of those who don't own a pillow. How does that change your results?\n",
    "\n",
    "Do some more plug 'n chug!\n",
    "\n",
    "P(A|B) = (P(B|A) * P(A)) / P(B)\n",
    "\n",
    "P(A|B) = (.8 * .01) / .000065\n",
    "\n",
    "P(A|B) = .0008 / .000065\n",
    "\n",
    "P(A|B) = 12.31\n",
    "\n",
    "So this means that it is much more likely that your instructor's a dork and not that she doesn't own a pillow. Tada! Relative probability at its finest.\n",
    "\n",
    "A/B Testing\n",
    "A/B testing is yet another type of research design, in which you are directly comparing two methods. In practice, if you have means, you'd compare group A and group B with a t-test. But what if you don't have means? What if you have probabilities or percentages? Enter the Bayesian A/B test!\n",
    "Create the Prior\n",
    "Say you are testing whether your existing recipe for cream cheese frosting (A) is better than your new recipe for cream cheese frosting (B), and that you are testing it at your local bakesale.\n",
    "Your null hypothesis will be that these frostings will be totally equal.\n",
    "\n",
    "Collect Data\n",
    "Work the Problem in R using Monte Carlo Simulation\n",
    "#### finish the A/B testing in R.\n",
    "​\n",
    "Monte carlo simulation is a way to simulate the results of something by re-sampling the data you already have. It's based off a little bit of data, but to get the best results, you may want a lot more rows than you have. So use monte carlo simulation to expand things. Kind of like those toy dinosaurs that grow when you pour water over them.\n",
    "​\n",
    "The function to do this is rbeta() function, which samples from the probability density function for a binomial distribution. Remember that the binomial distribution is one in which you only have two outcomes. For instance, a) did eat the whole cupcake or b) did not eat the whole cupcake.\n",
    "​\n",
    "There are two components of the beta distribution that you'll need to define as variables, in addition to the number of trials you intend to use:\n",
    "​\n",
    "alpha: How many times an event happens that you care about\n",
    "beta: How many times an event happens that you don't care about\n",
    "First, assign some variables in R. You'll need a variable to hold onto the priors and the number of trials you want to extend this to. Although you can choose any number of trials you want, here, you'll use 10,000.\n",
    "go to R Bayesian notes file."
   ]
  },
  {
   "cell_type": "code",
   "execution_count": 1,
   "id": "5494e311",
   "metadata": {},
   "outputs": [],
   "source": [
    "trials <- 10000"
   ]
  },
  {
   "cell_type": "markdown",
   "id": "4c51aa5b",
   "metadata": {},
   "source": [
    "#### alpha and beta are based on the priors you created. Since you thought that about 80% of people would finish eating a cupcake, 8 becomes your alpha. beta, the event you don't care about, or not finishing a cupcake, would be 2. This is because of the \"not\" rule of probability. You've only got two potential options - people either will finish eating their cupcake or they won't - so the probability of not eating is one minus the probability of eating. Since you are doing this out of 10, that means 10-8 = 2, and 2 becomes your beta."
   ]
  },
  {
   "cell_type": "markdown",
   "id": "580094c2",
   "metadata": {},
   "source": [
    "#### alpha is the number I care about. beta is the other proportion I don't care about."
   ]
  },
  {
   "cell_type": "code",
   "execution_count": 2,
   "id": "541f6f26",
   "metadata": {},
   "outputs": [],
   "source": [
    "alpha <- 8\n",
    "beta <- 2"
   ]
  },
  {
   "cell_type": "markdown",
   "id": "50b31fef",
   "metadata": {},
   "source": [
    "#### Now, you are all set up to use rbeta() at last! You'll use it for both frosting types. \n",
    "Remember that A was your old, tried-and-true cream cheese frosting recipe, and B was the new one. The variable samplesA calculates the probability of the data you collected happening. The first argument it uses is the number of trials you want to simulate this over, and the second is the number of people who ate all of the cupcake with frosting A plus the prior of alpha. The third argument is the number of people who did not eat frosting A plus the prior of beta. You are basically comparing your guess with reality here.\n",
    "\n",
    "You will follow the same flow for samplesB."
   ]
  },
  {
   "cell_type": "code",
   "execution_count": 3,
   "id": "999bf554",
   "metadata": {},
   "outputs": [],
   "source": [
    "samplesA <- rbeta(trials, 95+alpha, 22 + beta)\n",
    "samplesB <- rbeta(trials, 73+alpha, 46 + beta)"
   ]
  },
  {
   "cell_type": "markdown",
   "id": "bc7c9146",
   "metadata": {},
   "source": [
    "#### Lastly, you can figure out if B is better by seeing the percentage of the trials in which B came back greater than A. You are basically just adding up with the sum() function every time that samplesB was greater than samplesA out of the total number of trials."
   ]
  },
  {
   "cell_type": "code",
   "execution_count": 4,
   "id": "e2cad814",
   "metadata": {},
   "outputs": [],
   "source": [
    "Bsuperior <- sum(samplesB > samplesA) / trials"
   ]
  },
  {
   "cell_type": "code",
   "execution_count": 7,
   "id": "93096cb0",
   "metadata": {},
   "outputs": [
    {
     "name": "stdout",
     "output_type": "stream",
     "text": [
      "[1] 5e-04\n"
     ]
    }
   ],
   "source": [
    "print(Bsuperior)"
   ]
  },
  {
   "cell_type": "markdown",
   "id": "f16f377c",
   "metadata": {},
   "source": [
    "#### The end result is 0. Wow! Your initial suspicions were right! There is definitely a clear case to stick with your original frosting, because in no situations out of 10,000 did people ever eat the whole cupcake more times with frosting B, your new recipe!"
   ]
  },
  {
   "cell_type": "markdown",
   "id": "d50216b4",
   "metadata": {},
   "source": [
    "#### Binomial distribution is when you have only two outcomes.\n",
    "rbeta() samples from the probability density function for a binomial distribution. \n",
    "A/B testing is when you are comparing only two methods."
   ]
  },
  {
   "cell_type": "markdown",
   "id": "ed21f884",
   "metadata": {},
   "source": [
    "#### you'll use Bayesian networks when you have conditional probability. use when your outcome is predicted by several conditions. "
   ]
  },
  {
   "cell_type": "markdown",
   "id": "6e082bca",
   "metadata": {},
   "source": [
    "#### Bayesian Network Basics\n",
    "Bayesian Statistics is based around conditional probability. Bayesian Networks are a specific type of Bayesian Statistics that map out the conditional relationships of multiple variables. Use Bayesian Networks when you want to find the probability of an outcome when it is impacted by several previous conditional variables.\n",
    "\n",
    "The image below is an example of a simple Bayesian Network. The results of condition A impact condition B and condition C, and both condition B and condition C impact the probability of condition D. This means that condition D is the final thing you are trying to predict."
   ]
  },
  {
   "cell_type": "markdown",
   "id": "ac147d34",
   "metadata": {},
   "source": [
    "#### Keyword\t                              Description\n",
    "\n",
    "Bayesian Statistics\t                  Statistics using conditional probability.\n",
    "\n",
    "Bayesian Networks\t                  Machine learning using the conditional relationships of multiple variables."
   ]
  },
  {
   "cell_type": "code",
   "execution_count": null,
   "id": "0890f5ca",
   "metadata": {},
   "outputs": [],
   "source": []
  }
 ],
 "metadata": {
  "kernelspec": {
   "display_name": "R",
   "language": "R",
   "name": "ir"
  },
  "language_info": {
   "codemirror_mode": "r",
   "file_extension": ".r",
   "mimetype": "text/x-r-source",
   "name": "R",
   "pygments_lexer": "r",
   "version": "4.1.1"
  }
 },
 "nbformat": 4,
 "nbformat_minor": 5
}
